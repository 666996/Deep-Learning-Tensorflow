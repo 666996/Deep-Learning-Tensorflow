{
 "cells": [
  {
   "cell_type": "code",
   "execution_count": 1,
   "metadata": {},
   "outputs": [
    {
     "name": "stderr",
     "output_type": "stream",
     "text": [
      "/usr/local/lib/python3.5/dist-packages/h5py/__init__.py:36: FutureWarning: Conversion of the second argument of issubdtype from `float` to `np.floating` is deprecated. In future, it will be treated as `np.float64 == np.dtype(float).type`.\n",
      "  from ._conv import register_converters as _register_converters\n"
     ]
    }
   ],
   "source": [
    "from sklearn.datasets import fetch_20newsgroups\n",
    "import re\n",
    "import tensorflow as tf\n",
    "from sklearn import metrics\n",
    "import numpy as np\n",
    "import collections\n",
    "import time"
   ]
  },
  {
   "cell_type": "code",
   "execution_count": 2,
   "metadata": {},
   "outputs": [],
   "source": [
    "newsgroups_train = fetch_20newsgroups(subset='train')\n",
    "newsgroups_test = fetch_20newsgroups(subset='test')"
   ]
  },
  {
   "cell_type": "code",
   "execution_count": 3,
   "metadata": {},
   "outputs": [],
   "source": [
    "def clearstring(string):\n",
    "    string = re.sub('[^A-Za-z ]+', '', string)\n",
    "    string = string.split('\\n')\n",
    "    string = [y.strip() for y in filter(None, string)]\n",
    "    string = (' '.join(string)).lower()\n",
    "    return ' '.join([y.strip() for y in string.split()])\n",
    "\n",
    "def build_dataset(words, n_words):\n",
    "    count = [['GO', 0], ['PAD', 1], ['EOS', 2], ['UNK', 3]]\n",
    "    count.extend(collections.Counter(words).most_common(n_words - 1))\n",
    "    dictionary = dict()\n",
    "    for word, _ in count:\n",
    "        dictionary[word] = len(dictionary)\n",
    "    data = list()\n",
    "    unk_count = 0\n",
    "    for word in words:\n",
    "        index = dictionary.get(word, 0)\n",
    "        if index == 0:\n",
    "            unk_count += 1\n",
    "        data.append(index)\n",
    "    count[0][1] = unk_count\n",
    "    reversed_dictionary = dict(zip(dictionary.values(), dictionary.keys()))\n",
    "    return data, count, dictionary, reversed_dictionary\n",
    "\n",
    "def str_idx(corpus, dic, maxlen, UNK=3):\n",
    "    X = np.zeros((len(corpus),maxlen))\n",
    "    for i in range(len(corpus)):\n",
    "        for no, k in enumerate(corpus[i].split()[:maxlen][::-1]):\n",
    "            try:\n",
    "                X[i,-1 - no]=dic[k]\n",
    "            except Exception as e:\n",
    "                X[i,-1 - no]=UNK\n",
    "    return X"
   ]
  },
  {
   "cell_type": "code",
   "execution_count": 4,
   "metadata": {},
   "outputs": [],
   "source": [
    "for i in range(len(newsgroups_train.data)):\n",
    "    newsgroups_train.data[i] = clearstring(newsgroups_train.data[i])\n",
    "    \n",
    "for i in range(len(newsgroups_test.data)):\n",
    "    newsgroups_test.data[i] = clearstring(newsgroups_test.data[i])"
   ]
  },
  {
   "cell_type": "code",
   "execution_count": 5,
   "metadata": {},
   "outputs": [
    {
     "name": "stdout",
     "output_type": "stream",
     "text": [
      "vocab from size: 214326\n",
      "Most common words [('the', 131819), ('to', 67232), ('of', 64127), ('a', 57044), ('and', 51878), ('in', 42822)]\n",
      "Sample data [16, 67554, 8512, 34, 94803, 37, 245, 10, 17901, 15881] ['from', 'lerxstwamumdedu', 'wheres', 'my', 'thingsubject', 'what', 'car', 'is', 'thisnntppostinghost', 'racwamumdeduorganization']\n"
     ]
    }
   ],
   "source": [
    "concat = ' '.join(newsgroups_train.data).split()\n",
    "vocabulary_size = len(list(set(concat)))\n",
    "data, count, dictionary, rev_dictionary = build_dataset(concat, vocabulary_size)\n",
    "print('vocab from size: %d'%(vocabulary_size))\n",
    "print('Most common words', count[4:10])\n",
    "print('Sample data', data[:10], [rev_dictionary[i] for i in data[:10]])"
   ]
  },
  {
   "cell_type": "code",
   "execution_count": 6,
   "metadata": {},
   "outputs": [],
   "source": [
    "GO = dictionary['GO']\n",
    "PAD = dictionary['PAD']\n",
    "EOS = dictionary['EOS']\n",
    "UNK = dictionary['UNK']"
   ]
  },
  {
   "cell_type": "code",
   "execution_count": 7,
   "metadata": {},
   "outputs": [],
   "source": [
    "class Model:\n",
    "    def __init__(self, size_layer, num_layers, embedded_size,\n",
    "                 dict_size, dimension_output, learning_rate):\n",
    "        \n",
    "        def cells(reuse=False):\n",
    "            return tf.nn.rnn_cell.LSTMCell(size_layer,\n",
    "                                           initializer=tf.orthogonal_initializer(),\n",
    "                                           reuse=reuse)\n",
    "        \n",
    "        self.X = tf.placeholder(tf.int32, [None, None])\n",
    "        self.Y = tf.placeholder(tf.int32, [None])\n",
    "        self.global_step = tf.Variable(0, trainable=False, name='global_step')\n",
    "        \n",
    "        with tf.name_scope('layer_embedded'):\n",
    "            encoder_embeddings = tf.Variable(tf.random_uniform([dict_size, embedded_size], -1, 1))\n",
    "            encoder_embedded = tf.nn.embedding_lookup(encoder_embeddings, self.X)\n",
    "            \n",
    "            tf.summary.histogram(\"X\", self.X)\n",
    "            tf.summary.histogram(\"Embedded\", encoder_embeddings)\n",
    "        \n",
    "        with tf.name_scope('layer_rnn'):\n",
    "            rnn_cells = tf.nn.rnn_cell.MultiRNNCell([cells() for _ in range(num_layers)])\n",
    "            outputs, _ = tf.nn.dynamic_rnn(rnn_cells, encoder_embedded, dtype = tf.float32)\n",
    "            \n",
    "        with tf.name_scope('layer_logits'):\n",
    "            W = tf.get_variable('w',\n",
    "                                shape=(size_layer, dimension_output),\n",
    "                                initializer=tf.orthogonal_initializer())\n",
    "            b = tf.get_variable('b',\n",
    "                                shape=(dimension_output),\n",
    "                                initializer=tf.zeros_initializer())\n",
    "            self.logits = tf.matmul(outputs[:, -1], W) + b\n",
    "            \n",
    "            tf.summary.histogram(\"Weight\", W)\n",
    "            tf.summary.histogram(\"logits\", self.logits)\n",
    "            \n",
    "        with tf.name_scope('optimizer'):\n",
    "            self.cost = tf.reduce_mean(tf.nn.sparse_softmax_cross_entropy_with_logits(\n",
    "                logits = self.logits, labels = self.Y))\n",
    "            self.optimizer = tf.train.AdamOptimizer(\n",
    "                learning_rate = learning_rate).minimize(self.cost,\n",
    "                                                        global_step=self.global_step)\n",
    "            tf.summary.scalar('cost', self.cost)\n",
    "            \n",
    "        with tf.name_scope('accuracy'):\n",
    "            correct_pred = tf.equal(tf.argmax(self.logits, 1), tf.cast(self.Y,tf.int64))\n",
    "            self.accuracy = tf.reduce_mean(tf.cast(correct_pred, tf.float32))\n",
    "            tf.summary.scalar('accuracy', self.accuracy)"
   ]
  },
  {
   "cell_type": "code",
   "execution_count": 8,
   "metadata": {},
   "outputs": [],
   "source": [
    "size_layer = 128\n",
    "num_layers = 2\n",
    "embedded_size = 128\n",
    "dimension_output = len(newsgroups_train.target_names)\n",
    "learning_rate = 1e-3\n",
    "maxlen = 50\n",
    "batch_size = 128"
   ]
  },
  {
   "cell_type": "code",
   "execution_count": 9,
   "metadata": {},
   "outputs": [],
   "source": [
    "tf.reset_default_graph()\n",
    "sess = tf.InteractiveSession()\n",
    "model = Model(size_layer,num_layers,embedded_size,vocabulary_size+4,dimension_output,learning_rate)\n",
    "sess.run(tf.global_variables_initializer())"
   ]
  },
  {
   "cell_type": "code",
   "execution_count": 10,
   "metadata": {},
   "outputs": [],
   "source": [
    "merged = tf.summary.merge_all()\n",
    "writer = tf.summary.FileWriter('./logs', sess.graph)"
   ]
  },
  {
   "cell_type": "code",
   "execution_count": 11,
   "metadata": {},
   "outputs": [],
   "source": [
    "train_X = newsgroups_train.data\n",
    "train_Y = newsgroups_train.target\n",
    "test_X = newsgroups_test.data\n",
    "test_Y = newsgroups_test.target"
   ]
  },
  {
   "cell_type": "code",
   "execution_count": null,
   "metadata": {},
   "outputs": [
    {
     "name": "stdout",
     "output_type": "stream",
     "text": [
      "epoch: 0, pass acc: 0.000000, current acc: 0.145474\n",
      "time taken: 114.65196776390076\n",
      "epoch: 0, training loss: 2.775419, training acc: 0.131658, valid loss: 2.952247, valid acc: 0.145474\n",
      "\n",
      "epoch: 1, pass acc: 0.145474, current acc: 0.249731\n",
      "time taken: 114.50321960449219\n",
      "epoch: 1, training loss: 2.043835, training acc: 0.353604, valid loss: 2.827415, valid acc: 0.249731\n",
      "\n",
      "epoch: 2, pass acc: 0.249731, current acc: 0.309671\n",
      "time taken: 114.58725595474243\n",
      "epoch: 2, training loss: 1.381938, training acc: 0.555309, valid loss: 2.640666, valid acc: 0.309671\n",
      "\n",
      "epoch: 3, pass acc: 0.309671, current acc: 0.333648\n",
      "time taken: 114.40744924545288\n",
      "epoch: 3, training loss: 0.959115, training acc: 0.701438, valid loss: 2.668871, valid acc: 0.333648\n",
      "\n",
      "epoch: 4, pass acc: 0.333648, current acc: 0.348464\n",
      "time taken: 114.28855514526367\n",
      "epoch: 4, training loss: 0.657708, training acc: 0.796964, valid loss: 2.878420, valid acc: 0.348464\n",
      "\n",
      "epoch: 5, pass acc: 0.348464, current acc: 0.351428\n",
      "time taken: 114.43061232566833\n",
      "epoch: 5, training loss: 0.465186, training acc: 0.856889, valid loss: 3.024994, valid acc: 0.351428\n",
      "\n",
      "epoch: 6, pass acc: 0.351428, current acc: 0.379310\n",
      "time taken: 114.12321949005127\n",
      "epoch: 6, training loss: 0.316311, training acc: 0.907848, valid loss: 2.947812, valid acc: 0.379310\n",
      "\n",
      "epoch: 7, pass acc: 0.379310, current acc: 0.407732\n",
      "time taken: 114.2262933254242\n",
      "epoch: 7, training loss: 0.215957, training acc: 0.939808, valid loss: 2.848780, valid acc: 0.407732\n",
      "\n",
      "epoch: 8, pass acc: 0.407732, current acc: 0.422953\n",
      "time taken: 114.1632707118988\n",
      "epoch: 8, training loss: 0.166599, training acc: 0.953303, valid loss: 2.944798, valid acc: 0.422953\n",
      "\n",
      "epoch: 9, pass acc: 0.422953, current acc: 0.424165\n",
      "time taken: 114.53234839439392\n",
      "epoch: 9, training loss: 0.094133, training acc: 0.974787, valid loss: 3.075085, valid acc: 0.424165\n",
      "\n",
      "epoch: 10, pass acc: 0.424165, current acc: 0.427128\n",
      "time taken: 114.63622403144836\n",
      "epoch: 10, training loss: 0.066248, training acc: 0.984375, valid loss: 3.153322, valid acc: 0.427128\n",
      "\n",
      "time taken: 114.65429186820984\n",
      "epoch: 11, training loss: 0.041573, training acc: 0.991477, valid loss: 3.255511, valid acc: 0.424434\n",
      "\n",
      "time taken: 114.4284360408783\n",
      "epoch: 12, training loss: 0.036154, training acc: 0.990589, valid loss: 3.344553, valid acc: 0.424030\n",
      "\n",
      "break epoch:13\n",
      "\n"
     ]
    }
   ],
   "source": [
    "EARLY_STOPPING, CURRENT_CHECKPOINT, CURRENT_ACC, EPOCH = 2, 0, 0, 0\n",
    "while True:\n",
    "    lasttime = time.time()\n",
    "    if CURRENT_CHECKPOINT == EARLY_STOPPING:\n",
    "        print('break epoch:%d\\n'%(EPOCH))\n",
    "        break\n",
    "        \n",
    "    train_acc, train_loss, test_acc, test_loss = 0, 0, 0, 0\n",
    "    for i in range(0, (len(train_X) // batch_size) * batch_size, batch_size):\n",
    "        batch_x = str_idx(train_X[i:i+batch_size],dictionary,maxlen)\n",
    "        acc, loss, _ = sess.run([model.accuracy, model.cost, model.optimizer], \n",
    "                           feed_dict = {model.X : batch_x, model.Y : train_Y[i:i+batch_size]})\n",
    "        train_loss += loss\n",
    "        train_acc += acc\n",
    "        summary = sess.run(merged, feed_dict={model.X : batch_x, model.Y : train_Y[i:i+batch_size]})\n",
    "        writer.add_summary(summary, global_step=sess.run(model.global_step))\n",
    "    \n",
    "    for i in range(0, (len(test_X) // batch_size) * batch_size, batch_size):\n",
    "        batch_x = str_idx(test_X[i:i+batch_size],dictionary,maxlen)\n",
    "        acc, loss = sess.run([model.accuracy, model.cost], \n",
    "                           feed_dict = {model.X : batch_x, model.Y : test_Y[i:i+batch_size]})\n",
    "        test_loss += loss\n",
    "        test_acc += acc\n",
    "    \n",
    "    train_loss /= (len(train_X) // batch_size)\n",
    "    train_acc /= (len(train_X) // batch_size)\n",
    "    test_loss /= (len(test_X) // batch_size)\n",
    "    test_acc /= (len(test_X) // batch_size)\n",
    "    \n",
    "    if test_acc > CURRENT_ACC:\n",
    "        print('epoch: %d, pass acc: %f, current acc: %f'%(EPOCH,CURRENT_ACC, test_acc))\n",
    "        CURRENT_ACC = test_acc\n",
    "        CURRENT_CHECKPOINT = 0\n",
    "    else:\n",
    "        CURRENT_CHECKPOINT += 1\n",
    "        \n",
    "    print('time taken:', time.time()-lasttime)\n",
    "    print('epoch: %d, training loss: %f, training acc: %f, valid loss: %f, valid acc: %f\\n'%(EPOCH,train_loss,\n",
    "                                                                                          train_acc,test_loss,\n",
    "                                                                                          test_acc))\n",
    "    EPOCH += 1"
   ]
  },
  {
   "cell_type": "code",
   "execution_count": null,
   "metadata": {},
   "outputs": [
    {
     "name": "stdout",
     "output_type": "stream",
     "text": [
      "/usr/local/lib/python3.5/dist-packages/h5py/__init__.py:36: FutureWarning: Conversion of the second argument of issubdtype from `float` to `np.floating` is deprecated. In future, it will be treated as `np.float64 == np.dtype(float).type`.\n",
      "  from ._conv import register_converters as _register_converters\n",
      "\u001b[33mW0531 23:49:07.671579 Reloader tf_logging.py:86] Found more than one graph event per run, or there was a metagraph containing a graph_def, as well as one or more graph events.  Overwriting the graph with the newest event.\n",
      "\u001b[0m\u001b[33mW0531 23:49:07.672278 Reloader tf_logging.py:86] Found more than one metagraph event per run. Overwriting the metagraph with the newest event.\n",
      "\u001b[0m\u001b[33mW0531 23:49:07.686550 Reloader tf_logging.py:86] Found more than one graph event per run, or there was a metagraph containing a graph_def, as well as one or more graph events.  Overwriting the graph with the newest event.\n",
      "\u001b[0m\u001b[33mW0531 23:49:07.686931 Reloader tf_logging.py:86] Found more than one metagraph event per run. Overwriting the metagraph with the newest event.\n",
      "\u001b[0mTensorBoard 0.4.0 at http://husein-G1-Sniper-H6:6006 (Press CTRL+C to quit)\n",
      "\u001b[33mW0531 23:49:07.727122 Reloader tf_logging.py:86] Found more than one graph event per run, or there was a metagraph containing a graph_def, as well as one or more graph events.  Overwriting the graph with the newest event.\n",
      "\u001b[0m\u001b[33mW0531 23:49:07.727695 Reloader tf_logging.py:86] Found more than one metagraph event per run. Overwriting the metagraph with the newest event.\n",
      "\u001b[0m"
     ]
    }
   ],
   "source": [
    "!tensorboard --logdir=./logs"
   ]
  }
 ],
 "metadata": {
  "kernelspec": {
   "display_name": "Python 3",
   "language": "python",
   "name": "python3"
  },
  "language_info": {
   "codemirror_mode": {
    "name": "ipython",
    "version": 3
   },
   "file_extension": ".py",
   "mimetype": "text/x-python",
   "name": "python",
   "nbconvert_exporter": "python",
   "pygments_lexer": "ipython3",
   "version": "3.5.2"
  }
 },
 "nbformat": 4,
 "nbformat_minor": 2
}
