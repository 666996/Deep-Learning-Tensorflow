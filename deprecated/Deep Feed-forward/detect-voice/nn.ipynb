{
 "cells": [
  {
   "cell_type": "code",
   "execution_count": 1,
   "metadata": {
    "collapsed": true
   },
   "outputs": [],
   "source": [
    "import pandas as pd\n",
    "import numpy as np\n",
    "import tensorflow as tf\n",
    "import time"
   ]
  },
  {
   "cell_type": "code",
   "execution_count": 2,
   "metadata": {},
   "outputs": [
    {
     "name": "stdout",
     "output_type": "stream",
     "text": [
      "total rows: 3168\n",
      "total columns: 21\n"
     ]
    },
    {
     "data": {
      "text/html": [
       "<div>\n",
       "<table border=\"1\" class=\"dataframe\">\n",
       "  <thead>\n",
       "    <tr style=\"text-align: right;\">\n",
       "      <th></th>\n",
       "      <th>meanfreq</th>\n",
       "      <th>sd</th>\n",
       "      <th>median</th>\n",
       "      <th>Q25</th>\n",
       "      <th>Q75</th>\n",
       "      <th>IQR</th>\n",
       "      <th>skew</th>\n",
       "      <th>kurt</th>\n",
       "      <th>sp.ent</th>\n",
       "      <th>sfm</th>\n",
       "      <th>...</th>\n",
       "      <th>centroid</th>\n",
       "      <th>meanfun</th>\n",
       "      <th>minfun</th>\n",
       "      <th>maxfun</th>\n",
       "      <th>meandom</th>\n",
       "      <th>mindom</th>\n",
       "      <th>maxdom</th>\n",
       "      <th>dfrange</th>\n",
       "      <th>modindx</th>\n",
       "      <th>label</th>\n",
       "    </tr>\n",
       "  </thead>\n",
       "  <tbody>\n",
       "    <tr>\n",
       "      <th>238</th>\n",
       "      <td>0.117323</td>\n",
       "      <td>0.078195</td>\n",
       "      <td>0.108297</td>\n",
       "      <td>0.047134</td>\n",
       "      <td>0.192465</td>\n",
       "      <td>0.145331</td>\n",
       "      <td>2.573538</td>\n",
       "      <td>14.185274</td>\n",
       "      <td>0.945118</td>\n",
       "      <td>0.651739</td>\n",
       "      <td>...</td>\n",
       "      <td>0.117323</td>\n",
       "      <td>0.114503</td>\n",
       "      <td>0.015920</td>\n",
       "      <td>0.266667</td>\n",
       "      <td>0.078906</td>\n",
       "      <td>0.007812</td>\n",
       "      <td>0.250000</td>\n",
       "      <td>0.242188</td>\n",
       "      <td>0.261860</td>\n",
       "      <td>male</td>\n",
       "    </tr>\n",
       "    <tr>\n",
       "      <th>155</th>\n",
       "      <td>0.174298</td>\n",
       "      <td>0.072623</td>\n",
       "      <td>0.178300</td>\n",
       "      <td>0.103648</td>\n",
       "      <td>0.246028</td>\n",
       "      <td>0.142380</td>\n",
       "      <td>15.553404</td>\n",
       "      <td>331.377480</td>\n",
       "      <td>0.925300</td>\n",
       "      <td>0.523066</td>\n",
       "      <td>...</td>\n",
       "      <td>0.174298</td>\n",
       "      <td>0.089305</td>\n",
       "      <td>0.015826</td>\n",
       "      <td>0.246154</td>\n",
       "      <td>0.164885</td>\n",
       "      <td>0.070312</td>\n",
       "      <td>0.828125</td>\n",
       "      <td>0.757812</td>\n",
       "      <td>0.111583</td>\n",
       "      <td>male</td>\n",
       "    </tr>\n",
       "    <tr>\n",
       "      <th>804</th>\n",
       "      <td>0.173483</td>\n",
       "      <td>0.058914</td>\n",
       "      <td>0.183241</td>\n",
       "      <td>0.119797</td>\n",
       "      <td>0.227899</td>\n",
       "      <td>0.108101</td>\n",
       "      <td>1.280841</td>\n",
       "      <td>4.269679</td>\n",
       "      <td>0.926355</td>\n",
       "      <td>0.443394</td>\n",
       "      <td>...</td>\n",
       "      <td>0.173483</td>\n",
       "      <td>0.095161</td>\n",
       "      <td>0.015717</td>\n",
       "      <td>0.163265</td>\n",
       "      <td>0.597470</td>\n",
       "      <td>0.007812</td>\n",
       "      <td>3.468750</td>\n",
       "      <td>3.460938</td>\n",
       "      <td>0.287246</td>\n",
       "      <td>male</td>\n",
       "    </tr>\n",
       "    <tr>\n",
       "      <th>1672</th>\n",
       "      <td>0.130742</td>\n",
       "      <td>0.086539</td>\n",
       "      <td>0.118831</td>\n",
       "      <td>0.051944</td>\n",
       "      <td>0.207065</td>\n",
       "      <td>0.155121</td>\n",
       "      <td>0.848884</td>\n",
       "      <td>3.513097</td>\n",
       "      <td>0.975041</td>\n",
       "      <td>0.798290</td>\n",
       "      <td>...</td>\n",
       "      <td>0.130742</td>\n",
       "      <td>0.179920</td>\n",
       "      <td>0.018824</td>\n",
       "      <td>0.275862</td>\n",
       "      <td>0.301663</td>\n",
       "      <td>0.007812</td>\n",
       "      <td>1.117188</td>\n",
       "      <td>1.109375</td>\n",
       "      <td>0.266432</td>\n",
       "      <td>female</td>\n",
       "    </tr>\n",
       "    <tr>\n",
       "      <th>2672</th>\n",
       "      <td>0.190971</td>\n",
       "      <td>0.039801</td>\n",
       "      <td>0.187163</td>\n",
       "      <td>0.160851</td>\n",
       "      <td>0.212979</td>\n",
       "      <td>0.052128</td>\n",
       "      <td>1.702592</td>\n",
       "      <td>5.625780</td>\n",
       "      <td>0.869996</td>\n",
       "      <td>0.217293</td>\n",
       "      <td>...</td>\n",
       "      <td>0.190971</td>\n",
       "      <td>0.153193</td>\n",
       "      <td>0.048193</td>\n",
       "      <td>0.277457</td>\n",
       "      <td>1.183333</td>\n",
       "      <td>0.023438</td>\n",
       "      <td>7.523438</td>\n",
       "      <td>7.500000</td>\n",
       "      <td>0.092543</td>\n",
       "      <td>female</td>\n",
       "    </tr>\n",
       "  </tbody>\n",
       "</table>\n",
       "<p>5 rows × 21 columns</p>\n",
       "</div>"
      ],
      "text/plain": [
       "      meanfreq        sd    median       Q25       Q75       IQR       skew  \\\n",
       "238   0.117323  0.078195  0.108297  0.047134  0.192465  0.145331   2.573538   \n",
       "155   0.174298  0.072623  0.178300  0.103648  0.246028  0.142380  15.553404   \n",
       "804   0.173483  0.058914  0.183241  0.119797  0.227899  0.108101   1.280841   \n",
       "1672  0.130742  0.086539  0.118831  0.051944  0.207065  0.155121   0.848884   \n",
       "2672  0.190971  0.039801  0.187163  0.160851  0.212979  0.052128   1.702592   \n",
       "\n",
       "            kurt    sp.ent       sfm   ...    centroid   meanfun    minfun  \\\n",
       "238    14.185274  0.945118  0.651739   ...    0.117323  0.114503  0.015920   \n",
       "155   331.377480  0.925300  0.523066   ...    0.174298  0.089305  0.015826   \n",
       "804     4.269679  0.926355  0.443394   ...    0.173483  0.095161  0.015717   \n",
       "1672    3.513097  0.975041  0.798290   ...    0.130742  0.179920  0.018824   \n",
       "2672    5.625780  0.869996  0.217293   ...    0.190971  0.153193  0.048193   \n",
       "\n",
       "        maxfun   meandom    mindom    maxdom   dfrange   modindx   label  \n",
       "238   0.266667  0.078906  0.007812  0.250000  0.242188  0.261860    male  \n",
       "155   0.246154  0.164885  0.070312  0.828125  0.757812  0.111583    male  \n",
       "804   0.163265  0.597470  0.007812  3.468750  3.460938  0.287246    male  \n",
       "1672  0.275862  0.301663  0.007812  1.117188  1.109375  0.266432  female  \n",
       "2672  0.277457  1.183333  0.023438  7.523438  7.500000  0.092543  female  \n",
       "\n",
       "[5 rows x 21 columns]"
      ]
     },
     "execution_count": 2,
     "metadata": {},
     "output_type": "execute_result"
    }
   ],
   "source": [
    "dataset = pd.read_csv('voice.csv')\n",
    "print 'total rows: ' + str(dataset.shape[0])\n",
    "print 'total columns: ' + str(dataset.shape[1])\n",
    "dataset = dataset.iloc[np.random.permutation(len(dataset))]\n",
    "dataset.head()"
   ]
  },
  {
   "cell_type": "code",
   "execution_count": 3,
   "metadata": {},
   "outputs": [
    {
     "name": "stdout",
     "output_type": "stream",
     "text": [
      "['female' 'male']\n",
      "[0 1]\n"
     ]
    },
    {
     "name": "stderr",
     "output_type": "stream",
     "text": [
      "/usr/local/lib/python2.7/dist-packages/sklearn/cross_validation.py:44: DeprecationWarning: This module was deprecated in version 0.18 in favor of the model_selection module into which all the refactored classes and functions are moved. Also note that the interface of the new CV iterators are different from that of this module. This module will be removed in 0.20.\n",
      "  \"This module will be removed in 0.20.\", DeprecationWarning)\n"
     ]
    }
   ],
   "source": [
    "from sklearn.preprocessing import LabelEncoder\n",
    "from sklearn.preprocessing import StandardScaler\n",
    "from sklearn.cross_validation import train_test_split\n",
    "x_data = dataset.iloc[:, :-1].values.astype(np.float32)\n",
    "x_data = StandardScaler().fit_transform(x_data)\n",
    "y_datalabel = dataset.iloc[:, -1]\n",
    "y_data = LabelEncoder().fit_transform(dataset.ix[:, -1])\n",
    "\n",
    "onehot = np.zeros((y_data.shape[0], np.unique(y_data).shape[0]))\n",
    "for i in xrange(y_data.shape[0]):\n",
    "    onehot[i, y_data[i]] = 1.0\n",
    "    \n",
    "x_train, x_test, y_train, y_test, _, y_test_label = train_test_split(x_data, onehot, y_data, test_size = 0.2)\n",
    "\n",
    "print np.unique(y_datalabel)\n",
    "print np.unique(y_data)"
   ]
  },
  {
   "cell_type": "code",
   "execution_count": 4,
   "metadata": {
    "collapsed": true
   },
   "outputs": [],
   "source": [
    "size_layer_first = 256\n",
    "size_layer_second = 128\n",
    "learning_rate = 0.001\n",
    "beta = 0.00005\n",
    "\n",
    "X = tf.placeholder(\"float\", [None, x_train.shape[1]])\n",
    "Y = tf.placeholder(\"float\", [None, np.unique(y_data).shape[0]])\n",
    "layer1 = tf.Variable(tf.random_normal([x_train.shape[1], size_layer_first]))\n",
    "layer2 = tf.Variable(tf.random_normal([size_layer_first, size_layer_first]))\n",
    "layer3 = tf.Variable(tf.random_normal([size_layer_first, size_layer_second]))\n",
    "layer4 = tf.Variable(tf.random_normal([size_layer_second, np.unique(y_data).shape[0]]))\n",
    "\n",
    "bias1 = tf.Variable(tf.random_normal([size_layer_first], stddev = 0.1))\n",
    "bias2 = tf.Variable(tf.random_normal([size_layer_first], stddev = 0.1))\n",
    "bias3 = tf.Variable(tf.random_normal([size_layer_second], stddev = 0.1))\n",
    "bias4 = tf.Variable(tf.random_normal([np.unique(y_data).shape[0]], stddev = 0.1))\n",
    "\n",
    "hidden1 = tf.nn.dropout(tf.nn.sigmoid(tf.matmul(X, layer1) + bias1), 0.3)\n",
    "hidden2 = tf.nn.dropout(tf.nn.sigmoid(tf.matmul(hidden1, layer2) + bias2), 0.3)\n",
    "hidden3 = tf.nn.dropout(tf.nn.sigmoid(tf.matmul(hidden2, layer3) + bias3), 0.3)\n",
    "hidden4 = tf.matmul(hidden3, layer4) + bias4\n",
    "\n",
    "loss = tf.reduce_mean(tf.nn.softmax_cross_entropy_with_logits(labels = Y, logits = hidden4))\n",
    "loss += tf.nn.l2_loss(layer1) * beta + tf.nn.l2_loss(layer2) * beta + tf.nn.l2_loss(layer3) * beta + tf.nn.l2_loss(layer4) * beta\n",
    "\n",
    "optimizer = tf.train.AdamOptimizer(learning_rate = learning_rate).minimize(loss)\n",
    "\n",
    "correct_pred = tf.equal(tf.argmax(hidden4, 1), tf.argmax(Y, 1))\n",
    "accuracy = tf.reduce_mean(tf.cast(correct_pred, tf.float32))"
   ]
  },
  {
   "cell_type": "code",
   "execution_count": 5,
   "metadata": {},
   "outputs": [
    {
     "name": "stdout",
     "output_type": "stream",
     "text": [
      "epoch: 50, loss: 3.06304372413, accuracy: 0.678401898734, s / batch: 0.00472506390342\n",
      "epoch: 100, loss: 2.32132978379, accuracy: 0.857990506329, s / batch: 0.00278586073767\n",
      "epoch: 150, loss: 1.41184573536, accuracy: 0.95292721519, s / batch: 0.00293815286854\n",
      "epoch: 200, loss: 0.756773640838, accuracy: 0.967563291139, s / batch: 0.00335739232317\n",
      "epoch: 250, loss: 0.387232783474, accuracy: 0.972310126582, s / batch: 0.00281164615969\n",
      "epoch: 300, loss: 0.221364457773, accuracy: 0.976265822785, s / batch: 0.00306655787214\n",
      "epoch: 350, loss: 0.158033312876, accuracy: 0.976265822785, s / batch: 0.00314956978907\n",
      "epoch: 400, loss: 0.135611997186, accuracy: 0.975474683544, s / batch: 0.00263855728922\n",
      "epoch: 450, loss: 0.11485385277, accuracy: 0.977056962025, s / batch: 0.00268245346939\n",
      "epoch: 500, loss: 0.115034607062, accuracy: 0.976265822785, s / batch: 0.00454028950462\n"
     ]
    }
   ],
   "source": [
    "sess = tf.InteractiveSession()\n",
    "sess.run(tf.global_variables_initializer())\n",
    "\n",
    "BATCH_SIZE = 32\n",
    "\n",
    "EPOCH, LOSS, ACC = [], [], []\n",
    "for i in xrange(500):\n",
    "    last = time.time()\n",
    "    EPOCH.append(i)\n",
    "    TOTAL_LOSS, ACCURACY = 0, 0\n",
    "    for n in xrange(0, (x_train.shape[0] // BATCH_SIZE) * BATCH_SIZE, BATCH_SIZE):\n",
    "        cost, _ = sess.run([loss, optimizer], feed_dict = {X : x_train[n: n + BATCH_SIZE, :], Y : y_train[n: n + BATCH_SIZE, :]})\n",
    "        ACCURACY += sess.run(accuracy, feed_dict = {X : x_train[n: n + BATCH_SIZE, :], Y : y_train[n: n + BATCH_SIZE, :]})\n",
    "        TOTAL_LOSS += cost\n",
    "    \n",
    "    TOTAL_LOSS /= (x_train.shape[0] // BATCH_SIZE)\n",
    "    ACCURACY /= (x_train.shape[0] // BATCH_SIZE)\n",
    "    LOSS.append(TOTAL_LOSS); ACC.append(ACCURACY)\n",
    "    timetaken = (time.time() - last) / ((x_train.shape[0] // BATCH_SIZE) * 1.0)\n",
    "    if (i + 1) % 50 == 0:\n",
    "        print 'epoch: ' + str(i + 1) + ', loss: ' + str(TOTAL_LOSS) + ', accuracy: ' + str(ACCURACY) + ', s / batch: ' + str(timetaken)"
   ]
  },
  {
   "cell_type": "code",
   "execution_count": 11,
   "metadata": {},
   "outputs": [
    {
     "name": "stdout",
     "output_type": "stream",
     "text": [
      "testing accuracy: 0.968454\n",
      "             precision    recall  f1-score   support\n",
      "\n",
      "     female       0.96      0.97      0.97       319\n",
      "       male       0.97      0.96      0.97       315\n",
      "\n",
      "avg / total       0.97      0.97      0.97       634\n",
      "\n"
     ]
    }
   ],
   "source": [
    "from sklearn import metrics\n",
    "testing_acc, logits = sess.run([accuracy, tf.cast(tf.argmax(hidden4, 1), tf.int32)], feed_dict = {X : x_test, Y : y_test})\n",
    "print 'testing accuracy: ' + str(testing_acc)\n",
    "print(metrics.classification_report(y_test_label, logits, target_names = ['female', 'male']))"
   ]
  },
  {
   "cell_type": "code",
   "execution_count": 7,
   "metadata": {},
   "outputs": [
    {
     "data": {
      "image/png": "[encoded data removed]",
      "text/plain": [
       "<matplotlib.figure.Figure at 0x7f1e76f28e90>"
      ]
     },
     "metadata": {},
     "output_type": "display_data"
    }
   ],
   "source": [
    "import matplotlib.pyplot as plt\n",
    "import seaborn as sns\n",
    "sns.set()\n",
    "plt.subplot(1, 2, 1)\n",
    "plt.plot(EPOCH, LOSS)\n",
    "plt.xlabel('epoch'); plt.ylabel('loss')\n",
    "plt.subplot(1, 2, 2)\n",
    "plt.plot(EPOCH, ACC)\n",
    "plt.xlabel('epoch'); plt.ylabel('accuracy')\n",
    "plt.show()"
   ]
  }
 ],
 "metadata": {
  "kernelspec": {
   "display_name": "Python 2",
   "language": "python",
   "name": "python2"
  },
  "language_info": {
   "codemirror_mode": {
    "name": "ipython",
    "version": 2
   },
   "file_extension": ".py",
   "mimetype": "text/x-python",
   "name": "python",
   "nbconvert_exporter": "python",
   "pygments_lexer": "ipython2",
   "version": "2.7.12"
  }
 },
 "nbformat": 4,
 "nbformat_minor": 2
}
