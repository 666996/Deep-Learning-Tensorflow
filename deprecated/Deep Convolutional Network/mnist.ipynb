{
 "cells": [
  {
   "cell_type": "code",
   "execution_count": 1,
   "metadata": {
    "collapsed": true
   },
   "outputs": [],
   "source": [
    "import time\n",
    "import numpy as np\n",
    "import matplotlib.pyplot as plt\n",
    "from tensorflow.examples.tutorials.mnist import input_data\n",
    "import tensorflow as tf"
   ]
  },
  {
   "cell_type": "code",
   "execution_count": 2,
   "metadata": {},
   "outputs": [
    {
     "name": "stdout",
     "output_type": "stream",
     "text": [
      "Extracting /home/huseinzol05/Documents/MNIST/MNIST_data/train-images-idx3-ubyte.gz\n",
      "Extracting /home/huseinzol05/Documents/MNIST/MNIST_data/train-labels-idx1-ubyte.gz\n",
      "Extracting /home/huseinzol05/Documents/MNIST/MNIST_data/t10k-images-idx3-ubyte.gz\n",
      "Extracting /home/huseinzol05/Documents/MNIST/MNIST_data/t10k-labels-idx1-ubyte.gz\n"
     ]
    }
   ],
   "source": [
    "mnist = input_data.read_data_sets('/home/huseinzol05/Documents/MNIST/MNIST_data', one_hot = True)"
   ]
  },
  {
   "cell_type": "code",
   "execution_count": 3,
   "metadata": {
    "collapsed": true
   },
   "outputs": [],
   "source": [
    "class Model:\n",
    "    \n",
    "    def __init__(self, learning_rate, y_shape):\n",
    "        self.X = tf.placeholder(tf.float32, (None, 28, 28, 1))\n",
    "        self.Y = tf.placeholder(tf.float32, (None, y_shape))\n",
    "        \n",
    "        def convolutionize(x, conv_w, h = 1):\n",
    "            return tf.nn.conv2d(input = x, filter = conv_w, strides = [1, h, h, 1], padding = 'SAME')\n",
    "\n",
    "        def pooling(wx):\n",
    "            return tf.nn.max_pool(wx, ksize = [1, 2, 2, 1], strides = [1, 2, 2, 1], padding = 'SAME')\n",
    "        \n",
    "        w1 = tf.Variable(tf.random_normal([3, 3, 1, 16], stddev = 0.5))\n",
    "        b1 = tf.Variable(tf.zeros(shape = [16]))\n",
    "        w2 = tf.Variable(tf.random_normal([3, 3, 16, 8], stddev = 0.5))\n",
    "        b2 = tf.Variable(tf.zeros(shape = [8]))\n",
    "        w3 = tf.Variable(tf.random_normal([3, 3, 8, 8], stddev = 0.5))\n",
    "        b3 = tf.Variable(tf.zeros(shape = [8]))\n",
    "        w4 = tf.Variable(tf.random_normal([128, y_shape], stddev = 0.5))\n",
    "        b4 = tf.Variable(tf.zeros(shape = [y_shape]))\n",
    "\n",
    "        conv1 = pooling(tf.nn.sigmoid(convolutionize(self.X, w1) + b1))\n",
    "        conv2 = pooling(tf.nn.sigmoid(convolutionize(conv1, w2) + b2))\n",
    "        conv3 = pooling(tf.nn.sigmoid(convolutionize(conv2, w3) + b3))\n",
    "        conv3 = tf.reshape(conv3, [-1, 128])\n",
    "        self.logits = tf.matmul(conv3, w4) + b4\n",
    "        \n",
    "        self.cost = tf.reduce_mean(tf.nn.softmax_cross_entropy_with_logits(logits = self.logits, labels = self.Y))\n",
    "        self.optimizer = tf.train.AdamOptimizer(learning_rate = learning_rate).minimize(self.cost)\n",
    "        \n",
    "        self.correct_prediction = tf.equal(tf.argmax(self.logits, 1), tf.argmax(self.Y, 1))\n",
    "        self.accuracy = tf.reduce_mean(tf.cast(self.correct_prediction, \"float\"))"
   ]
  },
  {
   "cell_type": "code",
   "execution_count": 4,
   "metadata": {},
   "outputs": [],
   "source": [
    "learning_rate = 0.01\n",
    "sess = tf.InteractiveSession()\n",
    "model = Model(learning_rate, mnist.train.labels.shape[1])\n",
    "sess.run(tf.global_variables_initializer())"
   ]
  },
  {
   "cell_type": "code",
   "execution_count": 6,
   "metadata": {},
   "outputs": [
    {
     "name": "stdout",
     "output_type": "stream",
     "text": [
      "epoch: 1, loss: 0.27670943084, accuracy: 0.920928030303, s / epoch: 27.144755125\n",
      "epoch: 2, loss: 0.188248241533, accuracy: 0.946896853147, s / epoch: 27.0147771835\n",
      "epoch: 3, loss: 0.152987092488, accuracy: 0.95541958042, s / epoch: 26.8241751194\n",
      "epoch: 4, loss: 0.129784707049, accuracy: 0.9622122669, s / epoch: 26.8857750893\n",
      "epoch: 5, loss: 0.114598895856, accuracy: 0.967202068765, s / epoch: 27.4256939888\n",
      "epoch: 6, loss: 0.101240242707, accuracy: 0.970880681818, s / epoch: 28.2523770332\n",
      "epoch: 7, loss: 0.0919746177223, accuracy: 0.973594114219, s / epoch: 28.2267827988\n",
      "epoch: 8, loss: 0.085458196739, accuracy: 0.975979749417, s / epoch: 28.3221931458\n",
      "epoch: 9, loss: 0.0804469554527, accuracy: 0.977236305361, s / epoch: 28.1964430809\n",
      "epoch: 10, loss: 0.0763231400005, accuracy: 0.978511072261, s / epoch: 28.5655319691\n"
     ]
    }
   ],
   "source": [
    "EPOCH, LOSS, ACC = [], [], []\n",
    "BATCH_SIZE = 128\n",
    "\n",
    "for i in xrange(10):\n",
    "    last = time.time()\n",
    "    EPOCH.append(i)\n",
    "    TOTAL_LOSS, ACCURACY = 0, 0\n",
    "    for n in xrange(0, (mnist.train.images.shape[0] // BATCH_SIZE) * BATCH_SIZE, BATCH_SIZE):\n",
    "        batch_x = mnist.train.images[n: n + BATCH_SIZE, :].reshape((-1, 28, 28, 1))\n",
    "        cost, _ = sess.run([model.cost, model.optimizer], feed_dict = {model.X : batch_x, model.Y : mnist.train.labels[n: n + BATCH_SIZE, :]})\n",
    "        ACCURACY += sess.run(model.accuracy, feed_dict = {model.X : batch_x, model.Y : mnist.train.labels[n: n + BATCH_SIZE, :]})\n",
    "        TOTAL_LOSS += cost\n",
    "    \n",
    "    TOTAL_LOSS /= (mnist.train.images.shape[0] // BATCH_SIZE)\n",
    "    ACCURACY /= (mnist.train.images.shape[0] // BATCH_SIZE)\n",
    "    LOSS.append(TOTAL_LOSS); ACC.append(ACCURACY)\n",
    "    print 'epoch: ' + str(i + 1) + ', loss: ' + str(TOTAL_LOSS) + ', accuracy: ' + str(ACCURACY) + ', s / epoch: ' + str(time.time() - last)"
   ]
  },
  {
   "cell_type": "code",
   "execution_count": 10,
   "metadata": {},
   "outputs": [
    {
     "name": "stdout",
     "output_type": "stream",
     "text": [
      "testing accuracy: 0.9762\n"
     ]
    }
   ],
   "source": [
    "from sklearn import metrics\n",
    "testing_acc, logits = sess.run([model.accuracy, tf.cast(tf.argmax(model.logits, 1), tf.int32)], feed_dict = {model.X : mnist.test.images.reshape((-1, 28, 28, 1)), model.Y : mnist.test.labels})\n",
    "print 'testing accuracy: ' + str(testing_acc)"
   ]
  }
 ],
 "metadata": {
  "kernelspec": {
   "display_name": "Python 2",
   "language": "python",
   "name": "python2"
  },
  "language_info": {
   "codemirror_mode": {
    "name": "ipython",
    "version": 2
   },
   "file_extension": ".py",
   "mimetype": "text/x-python",
   "name": "python",
   "nbconvert_exporter": "python",
   "pygments_lexer": "ipython2",
   "version": "2.7.12"
  }
 },
 "nbformat": 4,
 "nbformat_minor": 2
}
