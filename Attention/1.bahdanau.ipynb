{
 "cells": [
  {
   "cell_type": "code",
   "execution_count": 1,
   "metadata": {},
   "outputs": [
    {
     "name": "stderr",
     "output_type": "stream",
     "text": [
      "/usr/local/lib/python3.5/dist-packages/h5py/__init__.py:36: FutureWarning: Conversion of the second argument of issubdtype from `float` to `np.floating` is deprecated. In future, it will be treated as `np.float64 == np.dtype(float).type`.\n",
      "  from ._conv import register_converters as _register_converters\n",
      "/usr/local/lib/python3.5/dist-packages/sklearn/cross_validation.py:41: DeprecationWarning: This module was deprecated in version 0.18 in favor of the model_selection module into which all the refactored classes and functions are moved. Also note that the interface of the new CV iterators are different from that of this module. This module will be removed in 0.20.\n",
      "  \"This module will be removed in 0.20.\", DeprecationWarning)\n"
     ]
    }
   ],
   "source": [
    "import tensorflow as tf\n",
    "import numpy as np\n",
    "from utils import *\n",
    "from sklearn.cross_validation import train_test_split\n",
    "import time"
   ]
  },
  {
   "cell_type": "code",
   "execution_count": 2,
   "metadata": {},
   "outputs": [
    {
     "name": "stdout",
     "output_type": "stream",
     "text": [
      "['negative', 'positive']\n",
      "10662\n",
      "10662\n"
     ]
    }
   ],
   "source": [
    "trainset = sklearn.datasets.load_files(container_path = 'data', encoding = 'UTF-8')\n",
    "trainset.data, trainset.target = separate_dataset(trainset,1.0)\n",
    "print (trainset.target_names)\n",
    "print (len(trainset.data))\n",
    "print (len(trainset.target))"
   ]
  },
  {
   "cell_type": "code",
   "execution_count": 3,
   "metadata": {},
   "outputs": [],
   "source": [
    "ONEHOT = np.zeros((len(trainset.data),len(trainset.target_names)))\n",
    "ONEHOT[np.arange(len(trainset.data)),trainset.target] = 1.0\n",
    "train_X, test_X, train_Y, test_Y, train_onehot, test_onehot = train_test_split(trainset.data, \n",
    "                                                                               trainset.target, \n",
    "                                                                               ONEHOT, test_size = 0.2)"
   ]
  },
  {
   "cell_type": "code",
   "execution_count": 4,
   "metadata": {},
   "outputs": [
    {
     "name": "stdout",
     "output_type": "stream",
     "text": [
      "vocab from size: 20332\n",
      "Most common words [('film', 1453), ('movie', 1270), ('one', 727), ('like', 721), ('story', 477), ('much', 386)]\n",
      "Sample data [549, 2676, 3554, 10293, 36, 7784, 218, 150, 19, 3851] ['rock', 'destined', '21st', 'centurys', 'new', 'conan', 'hes', 'going', 'make', 'splash']\n"
     ]
    }
   ],
   "source": [
    "concat = ' '.join(trainset.data).split()\n",
    "vocabulary_size = len(list(set(concat)))\n",
    "data, count, dictionary, rev_dictionary = build_dataset(concat, vocabulary_size)\n",
    "print('vocab from size: %d'%(vocabulary_size))\n",
    "print('Most common words', count[4:10])\n",
    "print('Sample data', data[:10], [rev_dictionary[i] for i in data[:10]])"
   ]
  },
  {
   "cell_type": "code",
   "execution_count": 5,
   "metadata": {},
   "outputs": [],
   "source": [
    "GO = dictionary['GO']\n",
    "PAD = dictionary['PAD']\n",
    "EOS = dictionary['EOS']\n",
    "UNK = dictionary['UNK']"
   ]
  },
  {
   "cell_type": "code",
   "execution_count": 6,
   "metadata": {},
   "outputs": [],
   "source": [
    "class Attention:\n",
    "    def __init__(self,hidden_size):\n",
    "        self.hidden_size = hidden_size\n",
    "        self.dense_layer = tf.layers.Dense(hidden_size)\n",
    "        self.v = tf.random_normal([hidden_size],mean=0,stddev=1/np.sqrt(hidden_size))\n",
    "        \n",
    "    def score(self, hidden_tensor, encoder_outputs):\n",
    "        energy = tf.nn.tanh(self.dense_layer(tf.concat([hidden_tensor,encoder_outputs],2)))\n",
    "        energy = tf.transpose(energy,[0,2,1])\n",
    "        batch_size = tf.shape(encoder_outputs)[0]\n",
    "        v = tf.expand_dims(tf.tile(tf.expand_dims(self.v,0),[batch_size,1]),1)\n",
    "        energy = tf.matmul(v,energy)\n",
    "        return tf.squeeze(energy,1)\n",
    "    \n",
    "    def __call__(self, hidden, encoder_outputs):\n",
    "        seq_len = tf.shape(encoder_outputs)[1]\n",
    "        batch_size = tf.shape(encoder_outputs)[0]\n",
    "        H = tf.tile(tf.expand_dims(hidden, 1),[1,seq_len,1])\n",
    "        attn_energies = self.score(H,encoder_outputs)\n",
    "        return tf.expand_dims(tf.nn.softmax(attn_energies),1)\n",
    "\n",
    "class Bahdanau(tf.contrib.rnn.RNNCell):\n",
    "    def __init__(self, hidden_size, output_size, encoder_outputs):\n",
    "        self.hidden_size = hidden_size\n",
    "        self.gru = tf.contrib.rnn.GRUCell(hidden_size)\n",
    "        self.attention = Attention(hidden_size)\n",
    "        self.out = tf.layers.Dense(output_size)\n",
    "        self.encoder_outputs = encoder_outputs\n",
    "    \n",
    "    @property\n",
    "    def state_size(self):\n",
    "        return self.hidden_size\n",
    " \n",
    "    @property\n",
    "    def output_size(self):\n",
    "        return self.hidden_size\n",
    "    \n",
    "    def __call__(self,inputs, state, scope=None):\n",
    "        attn_weights = self.attention(state, self.encoder_outputs)\n",
    "        context = tf.matmul(attn_weights, self.encoder_outputs)[:,0,:]\n",
    "        rnn_input = tf.concat([inputs,context],1)\n",
    "        output, hidden = self.gru(rnn_input, state)\n",
    "        output = tf.nn.softmax(self.out(output))\n",
    "        return output, hidden\n",
    "    \n",
    "    def get_attention(self, inputs, state):\n",
    "        attn_weights = self.attention(state, self.encoder_outputs)\n",
    "        context = tf.matmul(attn_weights, self.encoder_outputs)[:,0,:]\n",
    "        rnn_input = tf.concat([inputs,context],1)\n",
    "        output, hidden = self.gru(rnn_input, state)\n",
    "        output = tf.nn.softmax(self.out(output))\n",
    "        return output, hidden, attn_weights"
   ]
  },
  {
   "cell_type": "code",
   "execution_count": 7,
   "metadata": {},
   "outputs": [],
   "source": [
    "class Model:\n",
    "    def __init__(self, size_layer, embedded_size, dict_size, dimension_output, learning_rate):\n",
    "        \n",
    "        def cells(reuse=False):\n",
    "            return tf.nn.rnn_cell.BasicRNNCell(size_layer,reuse=reuse)\n",
    "        \n",
    "        self.X = tf.placeholder(tf.int32, [None, None])\n",
    "        self.Y = tf.placeholder(tf.float32, [None, dimension_output])\n",
    "        self.encoder_embeddings = tf.Variable(tf.random_uniform([dict_size, embedded_size], -1, 1))\n",
    "        encoder_embedded = tf.nn.embedding_lookup(self.encoder_embeddings, self.X)\n",
    "        self.bahdanau_cell = Bahdanau(size_layer,size_layer,encoder_embedded)\n",
    "        outputs, last_states = tf.nn.dynamic_rnn(self.bahdanau_cell, encoder_embedded, dtype = tf.float32)\n",
    "        W = tf.get_variable('w',shape=(size_layer, dimension_output),initializer=tf.orthogonal_initializer())\n",
    "        b = tf.get_variable('b',shape=(dimension_output),initializer=tf.zeros_initializer())\n",
    "        self.logits = tf.matmul(outputs[:,-1], W) + b\n",
    "        self.cost = tf.reduce_mean(tf.nn.softmax_cross_entropy_with_logits(logits = self.logits, labels = self.Y))\n",
    "        self.optimizer = tf.train.AdamOptimizer(learning_rate = learning_rate).minimize(self.cost)\n",
    "        correct_pred = tf.equal(tf.argmax(self.logits, 1), tf.argmax(self.Y, 1))\n",
    "        self.accuracy = tf.reduce_mean(tf.cast(correct_pred, tf.float32))"
   ]
  },
  {
   "cell_type": "code",
   "execution_count": 8,
   "metadata": {},
   "outputs": [
    {
     "name": "stdout",
     "output_type": "stream",
     "text": [
      "WARNING:tensorflow:From <ipython-input-7-6273c4c05492>:17: softmax_cross_entropy_with_logits (from tensorflow.python.ops.nn_ops) is deprecated and will be removed in a future version.\n",
      "Instructions for updating:\n",
      "\n",
      "Future major versions of TensorFlow will allow gradients to flow\n",
      "into the labels input on backprop by default.\n",
      "\n",
      "See tf.nn.softmax_cross_entropy_with_logits_v2.\n",
      "\n"
     ]
    }
   ],
   "source": [
    "size_layer = 128\n",
    "embedded_size = 128\n",
    "dimension_output = len(trainset.target_names)\n",
    "learning_rate = 1e-3\n",
    "maxlen = 50\n",
    "batch_size = 128\n",
    "tf.reset_default_graph()\n",
    "sess = tf.InteractiveSession()\n",
    "model = Model(size_layer,num_layers,embedded_size,len(dictionary),dimension_output,learning_rate)\n",
    "sess.run(tf.global_variables_initializer())"
   ]
  },
  {
   "cell_type": "code",
   "execution_count": 9,
   "metadata": {},
   "outputs": [
    {
     "name": "stdout",
     "output_type": "stream",
     "text": [
      "epoch: 0, pass acc: 0.000000, current acc: 0.522949\n",
      "time taken: 11.7812979221344\n",
      "epoch: 0, training loss: 0.693048, training acc: 0.500000, valid loss: 0.692094, valid acc: 0.522949\n",
      "\n",
      "epoch: 1, pass acc: 0.522949, current acc: 0.622559\n",
      "time taken: 11.665668487548828\n",
      "epoch: 1, training loss: 0.663064, training acc: 0.613873, valid loss: 0.656508, valid acc: 0.622559\n",
      "\n",
      "epoch: 2, pass acc: 0.622559, current acc: 0.668457\n",
      "time taken: 11.718197345733643\n",
      "epoch: 2, training loss: 0.594880, training acc: 0.729522, valid loss: 0.624904, valid acc: 0.668457\n",
      "\n",
      "epoch: 3, pass acc: 0.668457, current acc: 0.686035\n",
      "time taken: 11.686950922012329\n",
      "epoch: 3, training loss: 0.523817, training acc: 0.802202, valid loss: 0.609685, valid acc: 0.686035\n",
      "\n",
      "epoch: 4, pass acc: 0.686035, current acc: 0.699707\n",
      "time taken: 11.716079711914062\n",
      "epoch: 4, training loss: 0.459055, training acc: 0.853101, valid loss: 0.601956, valid acc: 0.699707\n",
      "\n",
      "time taken: 11.765424013137817\n",
      "epoch: 5, training loss: 0.394958, training acc: 0.894650, valid loss: 0.641143, valid acc: 0.674805\n",
      "\n",
      "epoch: 6, pass acc: 0.699707, current acc: 0.700195\n",
      "time taken: 11.78243637084961\n",
      "epoch: 6, training loss: 0.356495, training acc: 0.911458, valid loss: 0.613449, valid acc: 0.700195\n",
      "\n",
      "epoch: 7, pass acc: 0.700195, current acc: 0.704102\n",
      "time taken: 11.762892007827759\n",
      "epoch: 7, training loss: 0.318783, training acc: 0.925426, valid loss: 0.623382, valid acc: 0.704102\n",
      "\n",
      "epoch: 8, pass acc: 0.704102, current acc: 0.704590\n",
      "time taken: 11.753013610839844\n",
      "epoch: 8, training loss: 0.280425, training acc: 0.943300, valid loss: 0.626535, valid acc: 0.704590\n",
      "\n",
      "time taken: 11.764740705490112\n",
      "epoch: 9, training loss: 0.259053, training acc: 0.947562, valid loss: 0.662781, valid acc: 0.698242\n",
      "\n",
      "time taken: 11.743158340454102\n",
      "epoch: 10, training loss: 0.246533, training acc: 0.947562, valid loss: 0.719784, valid acc: 0.669434\n",
      "\n",
      "time taken: 11.873519897460938\n",
      "epoch: 11, training loss: 0.232273, training acc: 0.949811, valid loss: 0.666395, valid acc: 0.704590\n",
      "\n",
      "time taken: 11.792566776275635\n",
      "epoch: 12, training loss: 0.212976, training acc: 0.955848, valid loss: 0.682027, valid acc: 0.702637\n",
      "\n",
      "epoch: 13, pass acc: 0.704590, current acc: 0.708984\n",
      "time taken: 11.77592420578003\n",
      "epoch: 13, training loss: 0.185669, training acc: 0.968277, valid loss: 0.691415, valid acc: 0.708984\n",
      "\n",
      "time taken: 11.751935720443726\n",
      "epoch: 14, training loss: 0.169029, training acc: 0.973011, valid loss: 0.709007, valid acc: 0.707031\n",
      "\n",
      "time taken: 11.743993043899536\n",
      "epoch: 15, training loss: 0.158878, training acc: 0.974550, valid loss: 0.722148, valid acc: 0.705078\n",
      "\n",
      "time taken: 11.763964891433716\n",
      "epoch: 16, training loss: 0.151149, training acc: 0.975497, valid loss: 0.740459, valid acc: 0.702637\n",
      "\n",
      "time taken: 11.772441864013672\n",
      "epoch: 17, training loss: 0.145002, training acc: 0.976089, valid loss: 0.746832, valid acc: 0.708008\n",
      "\n",
      "epoch: 18, pass acc: 0.708984, current acc: 0.711426\n",
      "time taken: 11.760935068130493\n",
      "epoch: 18, training loss: 0.139795, training acc: 0.976444, valid loss: 0.755377, valid acc: 0.711426\n",
      "\n",
      "epoch: 19, pass acc: 0.711426, current acc: 0.711914\n",
      "time taken: 11.790656566619873\n",
      "epoch: 19, training loss: 0.135749, training acc: 0.976562, valid loss: 0.775244, valid acc: 0.711914\n",
      "\n",
      "epoch: 20, pass acc: 0.711914, current acc: 0.712891\n",
      "time taken: 11.7470543384552\n",
      "epoch: 20, training loss: 0.131238, training acc: 0.977154, valid loss: 0.782447, valid acc: 0.712891\n",
      "\n",
      "epoch: 21, pass acc: 0.712891, current acc: 0.713379\n",
      "time taken: 11.964759588241577\n",
      "epoch: 21, training loss: 0.127037, training acc: 0.977746, valid loss: 0.795063, valid acc: 0.713379\n",
      "\n",
      "time taken: 11.8418550491333\n",
      "epoch: 22, training loss: 0.124137, training acc: 0.977865, valid loss: 0.813364, valid acc: 0.711914\n",
      "\n",
      "time taken: 11.743202447891235\n",
      "epoch: 23, training loss: 0.121611, training acc: 0.977983, valid loss: 0.825411, valid acc: 0.709473\n",
      "\n",
      "epoch: 24, pass acc: 0.713379, current acc: 0.713867\n",
      "time taken: 11.780352115631104\n",
      "epoch: 24, training loss: 0.119515, training acc: 0.978101, valid loss: 0.829093, valid acc: 0.713867\n",
      "\n",
      "time taken: 11.768653869628906\n",
      "epoch: 25, training loss: 0.117706, training acc: 0.978101, valid loss: 0.843360, valid acc: 0.711426\n",
      "\n",
      "time taken: 11.784292221069336\n",
      "epoch: 26, training loss: 0.116132, training acc: 0.978101, valid loss: 0.852997, valid acc: 0.709473\n",
      "\n",
      "time taken: 11.766316413879395\n",
      "epoch: 27, training loss: 0.114160, training acc: 0.978338, valid loss: 0.861089, valid acc: 0.711426\n",
      "\n",
      "time taken: 11.771758079528809\n",
      "epoch: 28, training loss: 0.112628, training acc: 0.978456, valid loss: 0.872433, valid acc: 0.709961\n",
      "\n",
      "time taken: 11.7732994556427\n",
      "epoch: 29, training loss: 0.111376, training acc: 0.978456, valid loss: 0.889987, valid acc: 0.712891\n",
      "\n",
      "break epoch:30\n",
      "\n"
     ]
    }
   ],
   "source": [
    "EARLY_STOPPING, CURRENT_CHECKPOINT, CURRENT_ACC, EPOCH = 5, 0, 0, 0\n",
    "while True:\n",
    "    lasttime = time.time()\n",
    "    if CURRENT_CHECKPOINT == EARLY_STOPPING:\n",
    "        print('break epoch:%d\\n'%(EPOCH))\n",
    "        break\n",
    "        \n",
    "    train_acc, train_loss, test_acc, test_loss = 0, 0, 0, 0\n",
    "    for i in range(0, (len(train_X) // batch_size) * batch_size, batch_size):\n",
    "        batch_x = str_idx(train_X[i:i+batch_size],dictionary,maxlen)\n",
    "        acc, loss, _ = sess.run([model.accuracy, model.cost, model.optimizer], \n",
    "                           feed_dict = {model.X : batch_x, model.Y : train_onehot[i:i+batch_size]})\n",
    "        train_loss += loss\n",
    "        train_acc += acc\n",
    "    \n",
    "    for i in range(0, (len(test_X) // batch_size) * batch_size, batch_size):\n",
    "        batch_x = str_idx(test_X[i:i+batch_size],dictionary,maxlen)\n",
    "        acc, loss = sess.run([model.accuracy, model.cost], \n",
    "                           feed_dict = {model.X : batch_x, model.Y : test_onehot[i:i+batch_size]})\n",
    "        test_loss += loss\n",
    "        test_acc += acc\n",
    "    \n",
    "    train_loss /= (len(train_X) // batch_size)\n",
    "    train_acc /= (len(train_X) // batch_size)\n",
    "    test_loss /= (len(test_X) // batch_size)\n",
    "    test_acc /= (len(test_X) // batch_size)\n",
    "    \n",
    "    if test_acc > CURRENT_ACC:\n",
    "        print('epoch: %d, pass acc: %f, current acc: %f'%(EPOCH,CURRENT_ACC, test_acc))\n",
    "        CURRENT_ACC = test_acc\n",
    "        CURRENT_CHECKPOINT = 0\n",
    "    else:\n",
    "        CURRENT_CHECKPOINT += 1\n",
    "        \n",
    "    print('time taken:', time.time()-lasttime)\n",
    "    print('epoch: %d, training loss: %f, training acc: %f, valid loss: %f, valid acc: %f\\n'%(EPOCH,train_loss,\n",
    "                                                                                          train_acc,test_loss,\n",
    "                                                                                          test_acc))\n",
    "    EPOCH += 1"
   ]
  },
  {
   "cell_type": "code",
   "execution_count": 10,
   "metadata": {},
   "outputs": [
    {
     "name": "stdout",
     "output_type": "stream",
     "text": [
      "             precision    recall  f1-score   support\n",
      "\n",
      "   negative       0.73      0.68      0.70      1083\n",
      "   positive       0.69      0.74      0.71      1050\n",
      "\n",
      "avg / total       0.71      0.71      0.71      2133\n",
      "\n"
     ]
    }
   ],
   "source": [
    "logits = sess.run(model.logits, feed_dict={model.X:str_idx(test_X,dictionary,maxlen)})\n",
    "print(metrics.classification_report(test_Y, np.argmax(logits,1), target_names = trainset.target_names))"
   ]
  }
 ],
 "metadata": {
  "kernelspec": {
   "display_name": "Python 3",
   "language": "python",
   "name": "python3"
  },
  "language_info": {
   "codemirror_mode": {
    "name": "ipython",
    "version": 3
   },
   "file_extension": ".py",
   "mimetype": "text/x-python",
   "name": "python",
   "nbconvert_exporter": "python",
   "pygments_lexer": "ipython3",
   "version": "3.5.2"
  }
 },
 "nbformat": 4,
 "nbformat_minor": 2
}
