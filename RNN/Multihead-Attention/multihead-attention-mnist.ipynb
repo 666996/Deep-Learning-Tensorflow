{
 "cells": [
  {
   "cell_type": "code",
   "execution_count": 1,
   "metadata": {},
   "outputs": [],
   "source": [
    "import numpy as np\n",
    "import tensorflow as tf\n",
    "from tensorflow.examples.tutorials.mnist import input_data\n",
    "import time"
   ]
  },
  {
   "cell_type": "code",
   "execution_count": 2,
   "metadata": {},
   "outputs": [
    {
     "name": "stdout",
     "output_type": "stream",
     "text": [
      "Extracting train-images-idx3-ubyte.gz\n",
      "Extracting train-labels-idx1-ubyte.gz\n",
      "Extracting t10k-images-idx3-ubyte.gz\n",
      "Extracting t10k-labels-idx1-ubyte.gz\n"
     ]
    }
   ],
   "source": [
    "mnist = input_data.read_data_sets('', one_hot = True)"
   ]
  },
  {
   "cell_type": "code",
   "execution_count": 3,
   "metadata": {},
   "outputs": [],
   "source": [
    "def embed_seq(inputs, vocab_size=None, embed_dim=None, zero_pad=False, scale=False):\n",
    "    lookup_table = tf.get_variable('lookup_table', dtype=tf.float32, shape=[vocab_size, embed_dim])\n",
    "    if zero_pad:\n",
    "        lookup_table = tf.concat((tf.zeros([1, embed_dim]), lookup_table[1:, :]), axis=0)\n",
    "    outputs = tf.nn.embedding_lookup(lookup_table, inputs)\n",
    "    if scale:\n",
    "        outputs = outputs * (embed_dim ** 0.5)\n",
    "    return outputs\n",
    "\n",
    "def learned_positional_encoding(inputs, embed_dim, zero_pad=False, scale=False):\n",
    "    T = inputs.get_shape().as_list()[1]\n",
    "    outputs = tf.range(T) \n",
    "    outputs = tf.expand_dims(outputs, 0)\n",
    "    outputs = tf.tile(outputs, [tf.shape(inputs)[0], 1])\n",
    "    return embed_seq(outputs, T, embed_dim, zero_pad=zero_pad, scale=scale)\n",
    "\n",
    "def layer_norm(inputs, epsilon=1e-8):\n",
    "    mean, variance = tf.nn.moments(inputs, [-1], keep_dims=True)\n",
    "    normalized = (inputs - mean) / (tf.sqrt(variance + epsilon))\n",
    "    params_shape = inputs.get_shape()[-1:]\n",
    "    gamma = tf.get_variable('gamma', params_shape, tf.float32, tf.ones_initializer())\n",
    "    beta = tf.get_variable('beta', params_shape, tf.float32, tf.zeros_initializer())\n",
    "    return gamma * normalized + beta\n",
    "\n",
    "def pointwise_feedforward(inputs, num_units=[None, None], activation=None):\n",
    "    outputs = tf.layers.conv1d(inputs, num_units[0], kernel_size=1, activation=activation)\n",
    "    outputs = tf.layers.conv1d(outputs, num_units[1], kernel_size=1, activation=None)\n",
    "    outputs += inputs\n",
    "    outputs = layer_norm(outputs)\n",
    "    return outputs\n",
    "\n",
    "class Model:\n",
    "    def __init__(self, dimension_output=10, learning_rate=1e-4, \n",
    "                 seq_len=28, dimension_input=28, num_heads=28, attn_windows=range(1, 6)):\n",
    "        self.size_layer = dimension_input\n",
    "        self.num_heads = num_heads\n",
    "        self.seq_len = seq_len\n",
    "        self.X = tf.placeholder(tf.float32, [None, seq_len, dimension_input])\n",
    "        self.Y = tf.placeholder(tf.float32, [None, dimension_output])\n",
    "        feed = self.X\n",
    "        for i, win_size in enumerate(attn_windows):\n",
    "            with tf.variable_scope('attn_masked_window_%d' % win_size):\n",
    "                feed = self.multihead_attn(feed, self.window_mask(win_size))\n",
    "        feed += learned_positional_encoding(feed, dimension_input)\n",
    "        with tf.variable_scope('multihead'):\n",
    "            feed = self.multihead_attn(feed, None)\n",
    "        with tf.variable_scope('pointwise'):\n",
    "            feed = pointwise_feedforward(feed, num_units=[4*dimension_input, \n",
    "                                                          dimension_input], activation=tf.nn.relu)\n",
    "        self.logits = tf.layers.dense(feed, dimension_output)[:,-1]\n",
    "        self.cost = tf.reduce_mean(tf.nn.softmax_cross_entropy_with_logits(logits = self.logits, labels = self.Y))\n",
    "        self.optimizer = tf.train.AdamOptimizer(learning_rate = learning_rate).minimize(self.cost)\n",
    "        self.correct_pred = tf.equal(tf.argmax(self.logits, 1), tf.argmax(self.Y, 1))\n",
    "        self.accuracy = tf.reduce_mean(tf.cast(self.correct_pred, tf.float32))\n",
    "        \n",
    "    def multihead_attn(self, inputs, masks):\n",
    "        T_q = T_k = inputs.get_shape().as_list()[1]           \n",
    "        Q_K_V = tf.layers.dense(inputs, 3*self.size_layer, tf.nn.relu)\n",
    "        Q, K, V = tf.split(Q_K_V, 3, -1)\n",
    "        Q_ = tf.concat(tf.split(Q, self.num_heads, axis=2), axis=0)\n",
    "        K_ = tf.concat(tf.split(K, self.num_heads, axis=2), axis=0)\n",
    "        V_ = tf.concat(tf.split(V, self.num_heads, axis=2), axis=0)\n",
    "        align = tf.matmul(Q_, tf.transpose(K_, [0,2,1]))\n",
    "        align = align / np.sqrt(K_.get_shape().as_list()[-1])\n",
    "        if masks is not None:\n",
    "            paddings = tf.fill(tf.shape(align), float('-inf'))                         \n",
    "            align = tf.where(tf.equal(masks, 0), paddings, align) \n",
    "        align = tf.nn.softmax(align)\n",
    "        outputs = tf.matmul(align, V_)\n",
    "        outputs = tf.concat(tf.split(outputs, self.num_heads, axis=0), axis=2)\n",
    "        outputs += inputs                \n",
    "        return layer_norm(outputs)\n",
    "        \n",
    "    def window_mask(self, h_w):\n",
    "        masks = np.zeros([self.seq_len, self.seq_len])\n",
    "        for i in range(self.seq_len):\n",
    "            if i < h_w:\n",
    "                masks[i, :i+h_w+1] = 1.\n",
    "            elif i > self.seq_len - h_w - 1:\n",
    "                masks[i, i-h_w:] = 1.\n",
    "            else:                                                             \n",
    "                masks[i, i-h_w:i+h_w+1] = 1.\n",
    "        masks = tf.convert_to_tensor(masks)\n",
    "        return tf.tile(tf.expand_dims(masks,0), [tf.shape(self.X)[0]*self.num_heads, 1, 1])"
   ]
  },
  {
   "cell_type": "code",
   "execution_count": 4,
   "metadata": {},
   "outputs": [],
   "source": [
    "sess = tf.InteractiveSession()\n",
    "model = Model()\n",
    "sess.run(tf.global_variables_initializer())"
   ]
  },
  {
   "cell_type": "code",
   "execution_count": 5,
   "metadata": {},
   "outputs": [],
   "source": [
    "EPOCH = 10\n",
    "BATCH_SIZE = 128"
   ]
  },
  {
   "cell_type": "code",
   "execution_count": null,
   "metadata": {},
   "outputs": [
    {
     "name": "stdout",
     "output_type": "stream",
     "text": [
      "epoch 1, avg loss 1.731810, avg acc 0.382995, time taken 71.409638 secs\n",
      "epoch 2, avg loss 1.012760, avg acc 0.664663, time taken 71.097286 secs\n"
     ]
    }
   ],
   "source": [
    "for i in range(EPOCH):\n",
    "    last = time.time()\n",
    "    TOTAL_LOSS, ACCURACY = 0, 0\n",
    "    for n in range(0, (mnist.train.images.shape[0] // BATCH_SIZE) * BATCH_SIZE, BATCH_SIZE):\n",
    "        batch_x = mnist.train.images[n: n + BATCH_SIZE, :].reshape((-1, 28, 28))\n",
    "        acc, cost, _ = sess.run([model.accuracy, model.cost, model.optimizer], \n",
    "                           feed_dict = {model.X : batch_x, \n",
    "                                         model.Y : mnist.train.labels[n: n + BATCH_SIZE, :]})\n",
    "        ACCURACY += acc\n",
    "        TOTAL_LOSS += cost\n",
    "    TOTAL_LOSS /= (mnist.train.images.shape[0] // BATCH_SIZE)\n",
    "    ACCURACY /= (mnist.train.images.shape[0] // BATCH_SIZE)\n",
    "    print('epoch %d, avg loss %f, avg acc %f, time taken %f secs'%(i+1,TOTAL_LOSS,ACCURACY,time.time()-last))"
   ]
  },
  {
   "cell_type": "code",
   "execution_count": null,
   "metadata": {},
   "outputs": [],
   "source": []
  }
 ],
 "metadata": {
  "kernelspec": {
   "display_name": "Python 3",
   "language": "python",
   "name": "python3"
  },
  "language_info": {
   "codemirror_mode": {
    "name": "ipython",
    "version": 3
   },
   "file_extension": ".py",
   "mimetype": "text/x-python",
   "name": "python",
   "nbconvert_exporter": "python",
   "pygments_lexer": "ipython3",
   "version": "3.5.2"
  }
 },
 "nbformat": 4,
 "nbformat_minor": 2
}
