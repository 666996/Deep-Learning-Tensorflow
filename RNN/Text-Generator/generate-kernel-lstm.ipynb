{
 "cells": [
  {
   "cell_type": "code",
   "execution_count": 1,
   "metadata": {},
   "outputs": [],
   "source": [
    "import numpy as np\n",
    "import tensorflow as tf\n",
    "import matplotlib.pyplot as plt\n",
    "import seaborn as sns\n",
    "import random\n",
    "import time\n",
    "sns.set()"
   ]
  },
  {
   "cell_type": "code",
   "execution_count": 2,
   "metadata": {},
   "outputs": [],
   "source": [
    "def get_vocab(file, lower = False):\n",
    "    with open(file, 'r') as fopen:\n",
    "        data = fopen.read()\n",
    "    if lower:\n",
    "        data = data.lower()\n",
    "    vocab = list(set(data))\n",
    "    return data, vocab\n",
    "\n",
    "def embed_to_onehot(data, vocab):\n",
    "    onehot = np.zeros((len(data), len(vocab)), dtype = np.float32)\n",
    "    for i in range(len(data)):\n",
    "        onehot[i, vocab.index(data[i])] = 1.0\n",
    "    return onehot"
   ]
  },
  {
   "cell_type": "code",
   "execution_count": 3,
   "metadata": {},
   "outputs": [],
   "source": [
    "text, text_vocab = get_vocab('consumer.h', lower = False)\n",
    "onehot = embed_to_onehot(text, text_vocab)"
   ]
  },
  {
   "cell_type": "code",
   "execution_count": 4,
   "metadata": {},
   "outputs": [],
   "source": [
    "learning_rate = 0.01\n",
    "batch_size = 128\n",
    "sequence_length = 64\n",
    "epoch = 3000\n",
    "num_layers = 2\n",
    "size_layer = 512\n",
    "possible_batch_id = range(len(text) - sequence_length - 1)"
   ]
  },
  {
   "cell_type": "code",
   "execution_count": 5,
   "metadata": {},
   "outputs": [],
   "source": [
    "class Model:\n",
    "    def __init__(self, num_layers, size_layer, dimension, sequence_length, learning_rate):\n",
    "        def lstm_cell():\n",
    "            return tf.nn.rnn_cell.LSTMCell(size_layer, sequence_length, state_is_tuple = False)\n",
    "        self.rnn_cells = tf.nn.rnn_cell.MultiRNNCell([lstm_cell() for _ in range(num_layers)], \n",
    "                                                     state_is_tuple = False)\n",
    "        self.X = tf.placeholder(tf.float32, (None, None, dimension))\n",
    "        self.Y = tf.placeholder(tf.float32, (None, None, dimension))\n",
    "        self.hidden_layer = tf.placeholder(tf.float32, (None, num_layers * 2 * size_layer))\n",
    "        self.outputs, self.last_state = tf.nn.dynamic_rnn(self.rnn_cells, self.X, \n",
    "                                                          initial_state = self.hidden_layer, \n",
    "                                                          dtype = tf.float32)\n",
    "        rnn_W = tf.Variable(tf.random_normal((size_layer, dimension)))\n",
    "        rnn_B = tf.Variable(tf.random_normal([dimension]))\n",
    "        self.logits = tf.matmul(tf.reshape(self.outputs, [-1, size_layer]), rnn_W) + rnn_B\n",
    "        y_batch_long = tf.reshape(self.Y, [-1, dimension])\n",
    "        self.cost = tf.reduce_mean(tf.nn.softmax_cross_entropy_with_logits(logits = self.logits, \n",
    "                                                                           labels = y_batch_long))\n",
    "        self.optimizer = tf.train.RMSPropOptimizer(learning_rate, 0.9).minimize(self.cost)\n",
    "        self.correct_pred = tf.equal(tf.argmax(self.logits, 1), tf.argmax(y_batch_long, 1))\n",
    "        self.accuracy = tf.reduce_mean(tf.cast(self.correct_pred, tf.float32))\n",
    "        seq_shape = tf.shape(self.outputs)\n",
    "        self.final_outputs = tf.reshape(tf.nn.softmax(self.logits), \n",
    "                                        (seq_shape[0], seq_shape[1], \n",
    "                                         dimension))"
   ]
  },
  {
   "cell_type": "code",
   "execution_count": 6,
   "metadata": {},
   "outputs": [
    {
     "name": "stdout",
     "output_type": "stream",
     "text": [
      "WARNING:tensorflow:<tensorflow.python.ops.rnn_cell_impl.LSTMCell object at 0x7fcb80987c18>: Using a concatenated state is slower and will soon be deprecated.  Use state_is_tuple=True.\n",
      "WARNING:tensorflow:<tensorflow.python.ops.rnn_cell_impl.LSTMCell object at 0x7fcb809870f0>: Using a concatenated state is slower and will soon be deprecated.  Use state_is_tuple=True.\n"
     ]
    }
   ],
   "source": [
    "tf.reset_default_graph()\n",
    "sess = tf.InteractiveSession()\n",
    "model = Model(num_layers, size_layer, len(text_vocab), sequence_length, learning_rate)\n",
    "sess.run(tf.global_variables_initializer())"
   ]
  },
  {
   "cell_type": "code",
   "execution_count": 7,
   "metadata": {},
   "outputs": [
    {
     "name": "stdout",
     "output_type": "stream",
     "text": [
      "int\n"
     ]
    }
   ],
   "source": [
    "split_text = text.split()\n",
    "tag = split_text[np.random.randint(0, len(split_text))]\n",
    "print(tag)"
   ]
  },
  {
   "cell_type": "code",
   "execution_count": 8,
   "metadata": {},
   "outputs": [],
   "source": [
    "def train_random_batch():\n",
    "    LOST, ACCURACY = [], []\n",
    "    for i in range(epoch):\n",
    "        last_time = time.time()\n",
    "        init_value = np.zeros((batch_size, num_layers * 2 * size_layer))\n",
    "        batch_x = np.zeros((batch_size, sequence_length, len(text_vocab)))\n",
    "        batch_y = np.zeros((batch_size, sequence_length, len(text_vocab)))\n",
    "        batch_id = random.sample(possible_batch_id, batch_size)\n",
    "        for k in range(batch_size):\n",
    "            batch_x[k,:,:] = embed_to_onehot(text[batch_id[k]:batch_id[k]+sequence_length],text_vocab)\n",
    "            batch_y[k,:,:] = embed_to_onehot(text[batch_id[k]+1:batch_id[k]+sequence_length+1],text_vocab)\n",
    "        last_state, _, loss = sess.run([model.last_state, model.optimizer, model.cost], \n",
    "                                       feed_dict = {model.X: batch_x, \n",
    "                                                    model.Y: batch_y,\n",
    "                                                    model.hidden_layer: init_value})\n",
    "        accuracy = sess.run(model.accuracy, feed_dict = {model.X: batch_x, \n",
    "                                                         model.Y: batch_y, \n",
    "                                                         model.hidden_layer: init_value})\n",
    "        ACCURACY.append(accuracy); LOST.append(loss)\n",
    "        init_value = last_state\n",
    "        if (i + 1) % 100 == 0:\n",
    "            print('epoch:',i+1, ', accuracy:', accuracy, ', loss:', loss, ', s/epoch:', time.time()-last_time)"
   ]
  },
  {
   "cell_type": "code",
   "execution_count": 9,
   "metadata": {},
   "outputs": [],
   "source": [
    "def train_random_sequence():\n",
    "    LOST, ACCURACY = [], []\n",
    "    for i in range(epoch):\n",
    "        last_time = time.time()\n",
    "        init_value = np.zeros((batch_size, num_layers * 2 * size_layer))\n",
    "        batch_x = np.zeros((batch_size, sequence_length, len(text_vocab)))\n",
    "        batch_y = np.zeros((batch_size, sequence_length, len(text_vocab)))\n",
    "        batch_id = random.sample(possible_batch_id, batch_size)\n",
    "        for n in range(sequence_length):\n",
    "            id1 = [k + n for k in batch_id]\n",
    "            id2 = [k + n + 1 for k in batch_id]\n",
    "            batch_x[:,n,:] = onehot[id1, :]\n",
    "            batch_y[:,n,:] = onehot[id2, :]\n",
    "        last_state, _, loss = sess.run([model.last_state, model.optimizer, model.cost], \n",
    "                                       feed_dict = {model.X: batch_x, \n",
    "                                                    model.Y: batch_y,\n",
    "                                                    model.hidden_layer: init_value})\n",
    "        accuracy = sess.run(model.accuracy, feed_dict = {model.X: batch_x, \n",
    "                                                         model.Y: batch_y, \n",
    "                                                         model.hidden_layer: init_value})\n",
    "        ACCURACY.append(accuracy); LOST.append(loss)\n",
    "        init_value = last_state\n",
    "        if (i + 1) % 100 == 0:\n",
    "            print('epoch:',i+1, ', accuracy:', accuracy, ', loss:', loss, ', s/epoch:', time.time()-last_time)\n",
    "    return LOST, ACCURACY"
   ]
  },
  {
   "cell_type": "code",
   "execution_count": 10,
   "metadata": {},
   "outputs": [],
   "source": [
    "def generate_based_length(length_sentence, argmax=False):\n",
    "    sentence_generated = tag\n",
    "    init_value = np.zeros((1, num_layers * 2 * size_layer))\n",
    "    initial_tags=embed_to_onehot(tag,text_vocab)\n",
    "    batch_x = np.zeros((1, initial_tags.shape[0], len(text_vocab)))\n",
    "    batch_x[0,:,:] = initial_tags\n",
    "    last_state, prob=sess.run([model.last_state, model.final_outputs], \n",
    "                              feed_dict = {model.X: batch_x, \n",
    "                                           model.hidden_layer: init_value})\n",
    "    init_value = last_state\n",
    "    for i in range(length_sentence):\n",
    "        if argmax:\n",
    "            char = np.argmax(prob[0,-1,:])\n",
    "        else:\n",
    "            char = np.random.choice(range(len(text_vocab)), p = prob[0,-1,:])\n",
    "        sentence_generated += text_vocab[char]\n",
    "        if len(sentence_generated) < sequence_length:\n",
    "            onehot = embed_to_onehot(sentence_generated[i+1:], text_vocab)\n",
    "            batch_x = np.zeros((1, onehot.shape[0], len(text_vocab)))\n",
    "            batch_x[0,:,:] = onehot\n",
    "        else:\n",
    "            onehot = embed_to_onehot(sentence_generated[-sequence_length:], text_vocab)\n",
    "            batch_x = np.zeros((1, sequence_length, len(text_vocab)))\n",
    "            batch_x[0,:,:] = onehot\n",
    "        last_state, prob=sess.run([model.last_state, model.final_outputs], \n",
    "                                  feed_dict = {model.X: batch_x, \n",
    "                                               model.hidden_layer: init_value})\n",
    "        init_value = last_state\n",
    "    return sentence_generated"
   ]
  },
  {
   "cell_type": "code",
   "execution_count": 11,
   "metadata": {},
   "outputs": [],
   "source": [
    "def generate_based_sequence(length_sentence, argmax=False):\n",
    "    sentence_generated = tag\n",
    "    onehot = embed_to_onehot(tag, text_vocab)\n",
    "    init_value = np.zeros((batch_size, num_layers * 2 * size_layer))\n",
    "    for i in range(len(tag)):\n",
    "        batch_x = np.zeros((batch_size, 1, len(text_vocab)))\n",
    "        batch_x[:, 0, :] = onehot[i, :]\n",
    "        last_state, prob = sess.run([model.last_state, model.final_outputs], feed_dict = {model.X: batch_x, model.hidden_layer: init_value})\n",
    "        init_value = last_state\n",
    "        \n",
    "    for i in range(length_sentence):\n",
    "        if argmax:\n",
    "            char = np.argmax(prob[0][0])\n",
    "        else:\n",
    "            char = np.random.choice(range(len(text_vocab)), p = prob[0][0])\n",
    "        char = np.random.choice(range(len(text_vocab)), p = prob[0][0])\n",
    "        element = text_vocab[char]\n",
    "        sentence_generated += element\n",
    "        onehot = embed_to_onehot(element, text_vocab)\n",
    "        batch_x = np.zeros((batch_size, 1, len(text_vocab)))\n",
    "        batch_x[:, 0, :] = onehot[0, :]\n",
    "        last_state, prob = sess.run([model.last_state, model.final_outputs], feed_dict = {model.X: batch_x, model.hidden_layer: init_value})\n",
    "        init_value = last_state\n",
    "    \n",
    "    return sentence_generated"
   ]
  },
  {
   "cell_type": "code",
   "execution_count": 12,
   "metadata": {},
   "outputs": [
    {
     "name": "stdout",
     "output_type": "stream",
     "text": [
      "epoch: 100 , accuracy: 0.0509033 , loss: 22.1001 , s/epoch: 0.5534906387329102\n",
      "epoch: 200 , accuracy: 0.0632324 , loss: 4.21371 , s/epoch: 0.5529763698577881\n",
      "epoch: 300 , accuracy: 0.083252 , loss: 3.59201 , s/epoch: 0.549530029296875\n",
      "epoch: 400 , accuracy: 0.0716553 , loss: 8.55861 , s/epoch: 0.5569655895233154\n",
      "epoch: 500 , accuracy: 0.762939 , loss: 0.997064 , s/epoch: 0.5540964603424072\n",
      "epoch: 600 , accuracy: 0.943115 , loss: 0.219319 , s/epoch: 0.555037260055542\n",
      "epoch: 700 , accuracy: 0.950073 , loss: 0.164676 , s/epoch: 0.5507476329803467\n",
      "epoch: 800 , accuracy: 0.960083 , loss: 0.13138 , s/epoch: 0.5572795867919922\n",
      "epoch: 900 , accuracy: 0.963623 , loss: 0.130426 , s/epoch: 0.5513391494750977\n",
      "epoch: 1000 , accuracy: 0.966797 , loss: 0.115894 , s/epoch: 0.5513193607330322\n",
      "epoch: 1100 , accuracy: 0.967651 , loss: 0.113221 , s/epoch: 0.5543980598449707\n",
      "epoch: 1200 , accuracy: 0.967163 , loss: 0.112607 , s/epoch: 0.5496335029602051\n",
      "epoch: 1300 , accuracy: 0.968994 , loss: 0.107358 , s/epoch: 0.5524702072143555\n",
      "epoch: 1400 , accuracy: 0.96936 , loss: 0.10096 , s/epoch: 0.553412914276123\n",
      "epoch: 1500 , accuracy: 0.966919 , loss: 0.104234 , s/epoch: 0.5535967350006104\n",
      "epoch: 1600 , accuracy: 0.966187 , loss: 0.101408 , s/epoch: 0.5502486228942871\n",
      "epoch: 1700 , accuracy: 0.969482 , loss: 0.0981073 , s/epoch: 0.550553560256958\n",
      "epoch: 1800 , accuracy: 0.96582 , loss: 0.0986065 , s/epoch: 0.5494277477264404\n",
      "epoch: 1900 , accuracy: 0.96582 , loss: 0.1024 , s/epoch: 0.5506792068481445\n",
      "epoch: 2000 , accuracy: 0.968018 , loss: 0.0962063 , s/epoch: 0.551079273223877\n",
      "epoch: 2100 , accuracy: 0.966064 , loss: 0.099413 , s/epoch: 0.5550336837768555\n",
      "epoch: 2200 , accuracy: 0.967041 , loss: 0.0988031 , s/epoch: 0.5495059490203857\n",
      "epoch: 2300 , accuracy: 0.963257 , loss: 0.0957977 , s/epoch: 0.5514578819274902\n",
      "epoch: 2400 , accuracy: 0.967285 , loss: 0.0994097 , s/epoch: 0.5498206615447998\n",
      "epoch: 2500 , accuracy: 0.965942 , loss: 0.0975399 , s/epoch: 0.5519847869873047\n",
      "epoch: 2600 , accuracy: 0.964844 , loss: 0.0983106 , s/epoch: 0.5551917552947998\n",
      "epoch: 2700 , accuracy: 0.965332 , loss: 0.0996337 , s/epoch: 0.5517880916595459\n",
      "epoch: 2800 , accuracy: 0.966919 , loss: 0.096998 , s/epoch: 0.5485353469848633\n",
      "epoch: 2900 , accuracy: 0.96582 , loss: 0.0959307 , s/epoch: 0.5593743324279785\n",
      "epoch: 3000 , accuracy: 0.965698 , loss: 0.0943002 , s/epoch: 0.5492105484008789\n"
     ]
    }
   ],
   "source": [
    "LOST, ACCURACY = train_random_sequence()"
   ]
  },
  {
   "cell_type": "code",
   "execution_count": 13,
   "metadata": {},
   "outputs": [
    {
     "data": {
      "image/png": "[encoded data removed]",
      "text/plain": [
       "<matplotlib.figure.Figure at 0x7fcb5c6349e8>"
      ]
     },
     "metadata": {},
     "output_type": "display_data"
    }
   ],
   "source": [
    "plt.figure(figsize = (15, 5))\n",
    "plt.subplot(1, 2, 1)\n",
    "EPOCH = np.arange(len(LOST))\n",
    "plt.plot(EPOCH, LOST)\n",
    "plt.xlabel('epoch'); plt.ylabel('loss')\n",
    "plt.subplot(1, 2, 2)\n",
    "plt.plot(EPOCH, ACCURACY)\n",
    "plt.xlabel('epoch'); plt.ylabel('accuracy')\n",
    "plt.show()"
   ]
  },
  {
   "cell_type": "code",
   "execution_count": 14,
   "metadata": {},
   "outputs": [
    {
     "name": "stdout",
     "output_type": "stream",
     "text": [
      "int *value_array)\n",
      "{\n",
      "\t/* GPIO can never have been requested */\n",
      "\tWARN_ON(1);\n",
      "\treturn 0;\n",
      "}\n",
      "static inline int gpiod_get_raw_array_value_cansleep(unsigned int array_size,\n",
      "\t\t\t\t       struct gpio_desc **desc_array,\n",
      "\t\t\t\t       int *value_array);\n",
      "void gpiod_set_raw_value(struct gpio_desc *desc);\n",
      "int gpiod_get_raw_array_value(unsigned int idx,\n",
      "\t\t\t\t\t\t    enum gpiod_flags flags);\n",
      "struct gpio_desc **desc_array,\n",
      "\t\t\t\t       int *value_array);\n",
      "void gpiod_set_raw_value_array);\n",
      "int gpiod_get_raw_value_array);\n",
      "int gpiod_get_raw_value(c;\n",
      "s/gutrul new gpiod_get() and are\n",
      " * preferablas.;\t\t\t  enum gpiod_flags flags);\n",
      "struct gpio_desc **desc_array,\n",
      "\t\t\t\t       int *value_array);\n",
      "int gpiod_get_raw(struct gpio_desc *desc);\n",
      "int gpiod_get_raw_array_sinunsigned int index, enum gpiod_flags flags);\n",
      "struct gpio_desc *__must_check\n",
      "devm_gpiod_get_index(struct device_node;\n",
      "struct fwnode_handle;\n",
      "\n",
      "struct gpio_desc *devm_gpiod_get_from oflags {\n",
      "\tunum gpiod_flags flags);\n",
      "struct gpio_desc *__must_check\n",
      "devm_gpiod_get_index(stru\n"
     ]
    }
   ],
   "source": [
    "print(generate_based_sequence(1000,False))"
   ]
  },
  {
   "cell_type": "code",
   "execution_count": null,
   "metadata": {},
   "outputs": [],
   "source": []
  }
 ],
 "metadata": {
  "kernelspec": {
   "display_name": "Python 3",
   "language": "python",
   "name": "python3"
  },
  "language_info": {
   "codemirror_mode": {
    "name": "ipython",
    "version": 3
   },
   "file_extension": ".py",
   "mimetype": "text/x-python",
   "name": "python",
   "nbconvert_exporter": "python",
   "pygments_lexer": "ipython3",
   "version": "3.5.2"
  }
 },
 "nbformat": 4,
 "nbformat_minor": 2
}
