{
 "cells": [
  {
   "cell_type": "code",
   "execution_count": 1,
   "metadata": {},
   "outputs": [],
   "source": [
    "import numpy as np\n",
    "import tensorflow as tf\n",
    "import matplotlib.pyplot as plt\n",
    "import seaborn as sns\n",
    "import random\n",
    "import time\n",
    "sns.set()"
   ]
  },
  {
   "cell_type": "code",
   "execution_count": 2,
   "metadata": {},
   "outputs": [],
   "source": [
    "def get_vocab(file, lower = False):\n",
    "    with open(file, 'r') as fopen:\n",
    "        data = fopen.read()\n",
    "    if lower:\n",
    "        data = data.lower()\n",
    "    vocab = list(set(data))\n",
    "    return data, vocab\n",
    "\n",
    "def embed_to_onehot(data, vocab):\n",
    "    onehot = np.zeros((len(data), len(vocab)), dtype = np.float32)\n",
    "    for i in range(len(data)):\n",
    "        onehot[i, vocab.index(data[i])] = 1.0\n",
    "    return onehot"
   ]
  },
  {
   "cell_type": "code",
   "execution_count": 3,
   "metadata": {},
   "outputs": [],
   "source": [
    "text, text_vocab = get_vocab('shakespeare.txt', lower = False)\n",
    "onehot = embed_to_onehot(text, text_vocab)"
   ]
  },
  {
   "cell_type": "code",
   "execution_count": 4,
   "metadata": {},
   "outputs": [],
   "source": [
    "learning_rate = 0.01\n",
    "batch_size = 128\n",
    "sequence_length = 64\n",
    "epoch = 3000\n",
    "num_layers = 2\n",
    "size_layer = 512\n",
    "possible_batch_id = range(len(text) - sequence_length - 1)"
   ]
  },
  {
   "cell_type": "code",
   "execution_count": 5,
   "metadata": {},
   "outputs": [],
   "source": [
    "class Model:\n",
    "    def __init__(self, num_layers, size_layer, dimension, sequence_length, learning_rate):\n",
    "        def lstm_cell():\n",
    "            return tf.nn.rnn_cell.LSTMCell(size_layer, sequence_length, state_is_tuple = False)\n",
    "        self.rnn_cells = tf.nn.rnn_cell.MultiRNNCell([lstm_cell() for _ in range(num_layers)], \n",
    "                                                     state_is_tuple = False)\n",
    "        self.X = tf.placeholder(tf.float32, (None, None, dimension))\n",
    "        self.Y = tf.placeholder(tf.float32, (None, None, dimension))\n",
    "        self.hidden_layer = tf.placeholder(tf.float32, (None, num_layers * 2 * size_layer))\n",
    "        self.outputs, self.last_state = tf.nn.dynamic_rnn(self.rnn_cells, self.X, \n",
    "                                                          initial_state = self.hidden_layer, \n",
    "                                                          dtype = tf.float32)\n",
    "        rnn_W = tf.Variable(tf.random_normal((size_layer, dimension)))\n",
    "        rnn_B = tf.Variable(tf.random_normal([dimension]))\n",
    "        self.logits = tf.matmul(tf.reshape(self.outputs, [-1, size_layer]), rnn_W) + rnn_B\n",
    "        y_batch_long = tf.reshape(self.Y, [-1, dimension])\n",
    "        self.cost = tf.reduce_mean(tf.nn.softmax_cross_entropy_with_logits(logits = self.logits, \n",
    "                                                                           labels = y_batch_long))\n",
    "        self.optimizer = tf.train.RMSPropOptimizer(learning_rate, 0.9).minimize(self.cost)\n",
    "        self.correct_pred = tf.equal(tf.argmax(self.logits, 1), tf.argmax(y_batch_long, 1))\n",
    "        self.accuracy = tf.reduce_mean(tf.cast(self.correct_pred, tf.float32))\n",
    "        seq_shape = tf.shape(self.outputs)\n",
    "        self.final_outputs = tf.reshape(tf.nn.softmax(self.logits), \n",
    "                                        (seq_shape[0], seq_shape[1], \n",
    "                                         dimension))"
   ]
  },
  {
   "cell_type": "code",
   "execution_count": 6,
   "metadata": {},
   "outputs": [
    {
     "name": "stdout",
     "output_type": "stream",
     "text": [
      "WARNING:tensorflow:<tensorflow.python.ops.rnn_cell_impl.LSTMCell object at 0x7fa3fc140ef0>: Using a concatenated state is slower and will soon be deprecated.  Use state_is_tuple=True.\n",
      "WARNING:tensorflow:<tensorflow.python.ops.rnn_cell_impl.LSTMCell object at 0x7fa3fc1407f0>: Using a concatenated state is slower and will soon be deprecated.  Use state_is_tuple=True.\n"
     ]
    }
   ],
   "source": [
    "tf.reset_default_graph()\n",
    "sess = tf.InteractiveSession()\n",
    "model = Model(num_layers, size_layer, len(text_vocab), sequence_length, learning_rate)\n",
    "sess.run(tf.global_variables_initializer())"
   ]
  },
  {
   "cell_type": "code",
   "execution_count": 7,
   "metadata": {},
   "outputs": [
    {
     "name": "stdout",
     "output_type": "stream",
     "text": [
      "fisher\n"
     ]
    }
   ],
   "source": [
    "split_text = text.split()\n",
    "tag = split_text[np.random.randint(0, len(split_text))]\n",
    "print(tag)"
   ]
  },
  {
   "cell_type": "code",
   "execution_count": 8,
   "metadata": {},
   "outputs": [],
   "source": [
    "def train_random_batch():\n",
    "    LOST, ACCURACY = [], []\n",
    "    for i in range(epoch):\n",
    "        last_time = time.time()\n",
    "        init_value = np.zeros((batch_size, num_layers * 2 * size_layer))\n",
    "        batch_x = np.zeros((batch_size, sequence_length, len(text_vocab)))\n",
    "        batch_y = np.zeros((batch_size, sequence_length, len(text_vocab)))\n",
    "        batch_id = random.sample(possible_batch_id, batch_size)\n",
    "        for k in range(batch_size):\n",
    "            batch_x[k,:,:] = embed_to_onehot(text[batch_id[k]:batch_id[k]+sequence_length],text_vocab)\n",
    "            batch_y[k,:,:] = embed_to_onehot(text[batch_id[k]+1:batch_id[k]+sequence_length+1],text_vocab)\n",
    "        last_state, _, loss = sess.run([model.last_state, model.optimizer, model.cost], \n",
    "                                       feed_dict = {model.X: batch_x, \n",
    "                                                    model.Y: batch_y,\n",
    "                                                    model.hidden_layer: init_value})\n",
    "        accuracy = sess.run(model.accuracy, feed_dict = {model.X: batch_x, \n",
    "                                                         model.Y: batch_y, \n",
    "                                                         model.hidden_layer: init_value})\n",
    "        ACCURACY.append(accuracy); LOST.append(loss)\n",
    "        init_value = last_state\n",
    "        if (i + 1) % 100 == 0:\n",
    "            print('epoch:',i+1, ', accuracy:', accuracy, ', loss:', loss, ', s/epoch:', time.time()-last_time)\n",
    "    return LOST, ACCURACY"
   ]
  },
  {
   "cell_type": "code",
   "execution_count": 9,
   "metadata": {},
   "outputs": [],
   "source": [
    "def train_random_sequence():\n",
    "    LOST, ACCURACY = [], []\n",
    "    for i in range(epoch):\n",
    "        last_time = time.time()\n",
    "        init_value = np.zeros((batch_size, num_layers * 2 * size_layer))\n",
    "        batch_x = np.zeros((batch_size, sequence_length, len(text_vocab)))\n",
    "        batch_y = np.zeros((batch_size, sequence_length, len(text_vocab)))\n",
    "        batch_id = random.sample(possible_batch_id, batch_size)\n",
    "        for n in range(sequence_length):\n",
    "            id1 = [k + n for k in batch_id]\n",
    "            id2 = [k + n + 1 for k in batch_id]\n",
    "            batch_x[:,n,:] = onehot[id1, :]\n",
    "            batch_y[:,n,:] = onehot[id2, :]\n",
    "        last_state, _, loss = sess.run([model.last_state, model.optimizer, model.cost], \n",
    "                                       feed_dict = {model.X: batch_x, \n",
    "                                                    model.Y: batch_y,\n",
    "                                                    model.hidden_layer: init_value})\n",
    "        accuracy = sess.run(model.accuracy, feed_dict = {model.X: batch_x, \n",
    "                                                         model.Y: batch_y, \n",
    "                                                         model.hidden_layer: init_value})\n",
    "        ACCURACY.append(accuracy); LOST.append(loss)\n",
    "        init_value = last_state\n",
    "        if (i + 1) % 100 == 0:\n",
    "            print('epoch:',i+1, ', accuracy:', accuracy, ', loss:', loss, ', s/epoch:', time.time()-last_time)\n",
    "    return LOST, ACCURACY"
   ]
  },
  {
   "cell_type": "code",
   "execution_count": 10,
   "metadata": {},
   "outputs": [],
   "source": [
    "def generate_based_length(length_sentence, argmax=False):\n",
    "    sentence_generated = tag\n",
    "    init_value = np.zeros((1, num_layers * 2 * size_layer))\n",
    "    initial_tags=embed_to_onehot(tag,text_vocab)\n",
    "    batch_x = np.zeros((1, initial_tags.shape[0], len(text_vocab)))\n",
    "    batch_x[0,:,:] = initial_tags\n",
    "    last_state, prob=sess.run([model.last_state, model.final_outputs], \n",
    "                              feed_dict = {model.X: batch_x, \n",
    "                                           model.hidden_layer: init_value})\n",
    "    init_value = last_state\n",
    "    for i in range(length_sentence):\n",
    "        if argmax:\n",
    "            char = np.argmax(prob[0,-1,:])\n",
    "        else:\n",
    "            char = np.random.choice(range(len(text_vocab)), p = prob[0,-1,:])\n",
    "        sentence_generated += text_vocab[char]\n",
    "        if len(sentence_generated) < sequence_length:\n",
    "            onehot = embed_to_onehot(sentence_generated[i+1:], text_vocab)\n",
    "            batch_x = np.zeros((1, onehot.shape[0], len(text_vocab)))\n",
    "            batch_x[0,:,:] = onehot\n",
    "        else:\n",
    "            onehot = embed_to_onehot(sentence_generated[-sequence_length:], text_vocab)\n",
    "            batch_x = np.zeros((1, sequence_length, len(text_vocab)))\n",
    "            batch_x[0,:,:] = onehot\n",
    "        last_state, prob=sess.run([model.last_state, model.final_outputs], \n",
    "                                  feed_dict = {model.X: batch_x, \n",
    "                                               model.hidden_layer: init_value})\n",
    "        init_value = last_state\n",
    "    return sentence_generated"
   ]
  },
  {
   "cell_type": "code",
   "execution_count": 11,
   "metadata": {},
   "outputs": [],
   "source": [
    "def generate_based_sequence(length_sentence, argmax=False):\n",
    "    sentence_generated = tag\n",
    "    onehot = embed_to_onehot(tag, text_vocab)\n",
    "    init_value = np.zeros((batch_size, num_layers * 2 * size_layer))\n",
    "    for i in range(len(tag)):\n",
    "        batch_x = np.zeros((batch_size, 1, len(text_vocab)))\n",
    "        batch_x[:, 0, :] = onehot[i, :]\n",
    "        last_state, prob = sess.run([model.last_state, model.final_outputs], feed_dict = {model.X: batch_x, model.hidden_layer: init_value})\n",
    "        init_value = last_state\n",
    "        \n",
    "    for i in range(length_sentence):\n",
    "        if argmax:\n",
    "            char = np.argmax(prob[0][0])\n",
    "        else:\n",
    "            char = np.random.choice(range(len(text_vocab)), p = prob[0][0])\n",
    "        char = np.random.choice(range(len(text_vocab)), p = prob[0][0])\n",
    "        element = text_vocab[char]\n",
    "        sentence_generated += element\n",
    "        onehot = embed_to_onehot(element, text_vocab)\n",
    "        batch_x = np.zeros((batch_size, 1, len(text_vocab)))\n",
    "        batch_x[:, 0, :] = onehot[0, :]\n",
    "        last_state, prob = sess.run([model.last_state, model.final_outputs], feed_dict = {model.X: batch_x, model.hidden_layer: init_value})\n",
    "        init_value = last_state\n",
    "    \n",
    "    return sentence_generated"
   ]
  },
  {
   "cell_type": "code",
   "execution_count": 12,
   "metadata": {},
   "outputs": [
    {
     "name": "stdout",
     "output_type": "stream",
     "text": [
      "epoch: 100 , accuracy: 0.0322266 , loss: 41.8017 , s/epoch: 0.5465905666351318\n",
      "epoch: 200 , accuracy: 0.0648193 , loss: 10.2083 , s/epoch: 0.5494217872619629\n",
      "epoch: 300 , accuracy: 0.0969238 , loss: 3.49561 , s/epoch: 0.5476682186126709\n",
      "epoch: 400 , accuracy: 0.0955811 , loss: 3.34558 , s/epoch: 0.5471758842468262\n",
      "epoch: 500 , accuracy: 0.165771 , loss: 3.38921 , s/epoch: 0.5506572723388672\n",
      "epoch: 600 , accuracy: 0.0933838 , loss: 3.44816 , s/epoch: 0.5516619682312012\n",
      "epoch: 700 , accuracy: 0.169312 , loss: 3.3581 , s/epoch: 0.5481834411621094\n",
      "epoch: 800 , accuracy: 0.353882 , loss: 2.14967 , s/epoch: 0.553795576095581\n",
      "epoch: 900 , accuracy: 0.532593 , loss: 1.67657 , s/epoch: 0.5421340465545654\n",
      "epoch: 1000 , accuracy: 0.589355 , loss: 1.52215 , s/epoch: 0.5455362796783447\n",
      "epoch: 1100 , accuracy: 0.630615 , loss: 1.38969 , s/epoch: 0.5467808246612549\n",
      "epoch: 1200 , accuracy: 0.656494 , loss: 1.35013 , s/epoch: 0.5456545352935791\n",
      "epoch: 1300 , accuracy: 0.694336 , loss: 1.26314 , s/epoch: 0.5483503341674805\n",
      "epoch: 1400 , accuracy: 0.705933 , loss: 1.23529 , s/epoch: 0.5480208396911621\n",
      "epoch: 1500 , accuracy: 0.727905 , loss: 1.19278 , s/epoch: 0.5463554859161377\n",
      "epoch: 1600 , accuracy: 0.725464 , loss: 1.20549 , s/epoch: 0.5453212261199951\n",
      "epoch: 1700 , accuracy: 0.75415 , loss: 1.13645 , s/epoch: 0.5501730442047119\n",
      "epoch: 1800 , accuracy: 0.759277 , loss: 1.13091 , s/epoch: 0.5479681491851807\n",
      "epoch: 1900 , accuracy: 0.763306 , loss: 1.1342 , s/epoch: 0.5484757423400879\n",
      "epoch: 2000 , accuracy: 0.788086 , loss: 1.06481 , s/epoch: 0.5479118824005127\n",
      "epoch: 2100 , accuracy: 0.808716 , loss: 1.04259 , s/epoch: 0.5486807823181152\n",
      "epoch: 2200 , accuracy: 0.798218 , loss: 1.04263 , s/epoch: 0.5441150665283203\n",
      "epoch: 2300 , accuracy: 0.796509 , loss: 1.06102 , s/epoch: 0.5462024211883545\n",
      "epoch: 2400 , accuracy: 0.81189 , loss: 1.01275 , s/epoch: 0.5469760894775391\n",
      "epoch: 2500 , accuracy: 0.827515 , loss: 0.989201 , s/epoch: 0.5579116344451904\n",
      "epoch: 2600 , accuracy: 0.832886 , loss: 0.98582 , s/epoch: 0.5478026866912842\n",
      "epoch: 2700 , accuracy: 0.837524 , loss: 0.946344 , s/epoch: 0.5458438396453857\n",
      "epoch: 2800 , accuracy: 0.835693 , loss: 0.967556 , s/epoch: 0.555034875869751\n",
      "epoch: 2900 , accuracy: 0.852051 , loss: 0.924789 , s/epoch: 0.5529537200927734\n",
      "epoch: 3000 , accuracy: 0.863892 , loss: 0.902093 , s/epoch: 0.2738816738128662\n"
     ]
    }
   ],
   "source": [
    "LOST, ACCURACY = train_random_sequence()"
   ]
  },
  {
   "cell_type": "code",
   "execution_count": 13,
   "metadata": {},
   "outputs": [
    {
     "data": {
      "image/png": "[encoded data removed]",
      "text/plain": [
       "<matplotlib.figure.Figure at 0x7fa3ad440240>"
      ]
     },
     "metadata": {},
     "output_type": "display_data"
    }
   ],
   "source": [
    "plt.figure(figsize = (15, 5))\n",
    "plt.subplot(1, 2, 1)\n",
    "EPOCH = np.arange(len(LOST))\n",
    "plt.plot(EPOCH, LOST)\n",
    "plt.xlabel('epoch'); plt.ylabel('loss')\n",
    "plt.subplot(1, 2, 2)\n",
    "plt.plot(EPOCH, ACCURACY)\n",
    "plt.xlabel('epoch'); plt.ylabel('accuracy')\n",
    "plt.show()"
   ]
  },
  {
   "cell_type": "code",
   "execution_count": 14,
   "metadata": {},
   "outputs": [
    {
     "name": "stdout",
     "output_type": "stream",
     "text": [
      "fisher divories hung\n",
      "Aloud his last entire.\n",
      "\n",
      "QUEEN:\n",
      "'Twill be you call name, my lord; that thou wilt fled,\n",
      "Yet, Derby, no incinting me, his Clarence,\n",
      "Some fine's meturn and make him szoon: but it contented\n",
      "The stewarding while he perfles, the benefit\n",
      "Worse vaws may; not he did make the people,\n",
      "For yet more war to make his wife and a ren\n",
      "Jest true and wail their gill and seconding foot.\n",
      "My liege, I'll build a lane to Friar Laurence;\n",
      "But for my business in their true souls, thou art not noble;\n",
      "For now is he wounded to support me!\n",
      "O, he is wonted in the viewly parden\n",
      "Whereon that shall be now. To be kilf miscarry.\n",
      "\n",
      "ABHORSON:\n",
      "Go remember these lands are named, she hath\n",
      "left Warwick that there, that way thou art a tall fellow of your sin\n",
      "Myself and no man had chance the seat of his\n",
      "mad aged hath been current.\n",
      "\n",
      "TRANIO:\n",
      "Mistake her so much to us.\n",
      "\n",
      "CORIOLANUS:\n",
      "Yield to your kindness promised in his\n",
      "with duty strewd off from me and his son thire\n",
      "Under the grain or fozer to be bring forth,\n",
      "Beg not thy\n"
     ]
    }
   ],
   "source": [
    "print(generate_based_sequence(1000,True))"
   ]
  },
  {
   "cell_type": "code",
   "execution_count": null,
   "metadata": {},
   "outputs": [],
   "source": []
  }
 ],
 "metadata": {
  "kernelspec": {
   "display_name": "Python 3",
   "language": "python",
   "name": "python3"
  },
  "language_info": {
   "codemirror_mode": {
    "name": "ipython",
    "version": 3
   },
   "file_extension": ".py",
   "mimetype": "text/x-python",
   "name": "python",
   "nbconvert_exporter": "python",
   "pygments_lexer": "ipython3",
   "version": "3.5.2"
  }
 },
 "nbformat": 4,
 "nbformat_minor": 2
}
