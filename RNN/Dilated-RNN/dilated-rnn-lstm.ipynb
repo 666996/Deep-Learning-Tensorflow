{
 "cells": [
  {
   "cell_type": "code",
   "execution_count": 1,
   "metadata": {},
   "outputs": [],
   "source": [
    "import tensorflow as tf\n",
    "import numpy as np\n",
    "import copy\n",
    "import time\n",
    "\n",
    "def contruct_cells(hidden_structs):\n",
    "    cells = []\n",
    "    for hidden_dims in hidden_structs: cells.append(tf.contrib.rnn.LSTMCell(hidden_dims))\n",
    "    return cells\n",
    "\n",
    "def rnn_reformat(x, input_dims, n_steps):\n",
    "    x_ = tf.transpose(x, [1, 0, 2])\n",
    "    x_ = tf.reshape(x_, [-1, input_dims])\n",
    "    return tf.split(x_, n_steps, 0)\n",
    "\n",
    "def dilated_rnn(cell, inputs, rate, scope='default'):\n",
    "    n_steps = len(inputs)\n",
    "    if not (n_steps % rate) == 0:\n",
    "        zero_tensor = tf.zeros_like(inputs[0])\n",
    "        dialated_n_steps = n_steps // rate + 1\n",
    "        for i_pad in range(dialated_n_steps * rate - n_steps): inputs.append(zero_tensor)\n",
    "    else:\n",
    "        dialated_n_steps = n_steps // rate\n",
    "    dilated_inputs = [tf.concat(inputs[i * rate:(i + 1) * rate], axis=0) for i in range(dialated_n_steps)]\n",
    "    dilated_outputs, _ = tf.contrib.rnn.static_rnn(cell, dilated_inputs, dtype=tf.float32, scope=scope)\n",
    "    splitted_outputs = [tf.split(output, rate, axis=0) for output in dilated_outputs]\n",
    "    unrolled_outputs = [output for sublist in splitted_outputs for output in sublist]\n",
    "    return unrolled_outputs[:n_steps]\n",
    "\n",
    "def multi_dilated_rnn(cells, inputs, dilations):\n",
    "    x = copy.copy(inputs)\n",
    "    for cell, dilation in zip(cells, dilations):\n",
    "        x = dilated_rnn(cell, x, dilation, scope=\"multi_dilated_rnn_%d\" % dilation)\n",
    "    return x\n",
    "\n",
    "class Model:\n",
    "    def __init__(self, steps, dimension_input, dimension_output, learning_rate = 0.0001, \n",
    "                 hidden_structs = [20], dilations = [1, 2, 4, 8, 16, 32, 64, 128, 256]):\n",
    "        hidden_structs = hidden_structs * len(dilations)\n",
    "        self.X = tf.placeholder(tf.float32, [None, steps, dimension_input])\n",
    "        self.Y = tf.placeholder(tf.float32, [None, dimension_output])\n",
    "        x_reformat = rnn_reformat(self.X, dimension_input, steps)\n",
    "        cells = contruct_cells(hidden_structs)\n",
    "        layer_outputs = multi_dilated_rnn(cells, x_reformat, dilations)\n",
    "        if dilations[0] == 1:\n",
    "            weights = tf.Variable(tf.random_normal(shape=[hidden_structs[-1], dimension_output]))\n",
    "            bias = tf.Variable(tf.random_normal(shape=[dimension_output]))\n",
    "            self.logits = tf.matmul(layer_outputs[-1], weights) + bias\n",
    "        else:\n",
    "            weights = tf.Variable(tf.random_normal(shape=[hidden_structs[-1] * dilations[0], dimension_output]))\n",
    "            bias = tf.Variable(tf.random_normal(shape=[dimension_output]))\n",
    "            for idx, i in enumerate(range(-dilations[0], 0, 1)):\n",
    "                if idx == 0:\n",
    "                    hidden_outputs_ = layer_outputs[i]\n",
    "                else:\n",
    "                    hidden_outputs_ = tf.concat([hidden_outputs_, layer_outputs[i]],axis=1)\n",
    "            self.logits = tf.matmul(hidden_outputs_, weights) + bias\n",
    "        self.cost = tf.reduce_mean(tf.nn.softmax_cross_entropy_with_logits(logits = self.logits, labels = self.Y))\n",
    "        self.optimizer = tf.train.AdamOptimizer(learning_rate = learning_rate).minimize(self.cost)\n",
    "        self.correct_pred = tf.equal(tf.argmax(self.logits, 1), tf.argmax(self.Y, 1))\n",
    "        self.accuracy = tf.reduce_mean(tf.cast(self.correct_pred, tf.float32))"
   ]
  },
  {
   "cell_type": "code",
   "execution_count": 2,
   "metadata": {},
   "outputs": [],
   "source": [
    "import os\n",
    "from sklearn.preprocessing import LabelEncoder\n",
    "import re\n",
    "import collections\n",
    "import random\n",
    "import pickle\n",
    "import time"
   ]
  },
  {
   "cell_type": "code",
   "execution_count": 3,
   "metadata": {},
   "outputs": [],
   "source": [
    "maxlen = 50\n",
    "location = os.getcwd()\n",
    "batch = 100"
   ]
  },
  {
   "cell_type": "code",
   "execution_count": 4,
   "metadata": {},
   "outputs": [],
   "source": [
    "with open('dataset-emotion.p', 'rb') as fopen:\n",
    "    df = pickle.load(fopen)\n",
    "with open('vector-emotion.p', 'rb') as fopen:\n",
    "    vectors = pickle.load(fopen)\n",
    "with open('dataset-dictionary.p', 'rb') as fopen:\n",
    "    dictionary = pickle.load(fopen)"
   ]
  },
  {
   "cell_type": "code",
   "execution_count": 5,
   "metadata": {},
   "outputs": [],
   "source": [
    "label = np.unique(df[:,1])"
   ]
  },
  {
   "cell_type": "code",
   "execution_count": null,
   "metadata": {},
   "outputs": [
    {
     "name": "stderr",
     "output_type": "stream",
     "text": [
      "/usr/local/lib/python3.5/dist-packages/sklearn/cross_validation.py:41: DeprecationWarning: This module was deprecated in version 0.18 in favor of the model_selection module into which all the refactored classes and functions are moved. Also note that the interface of the new CV iterators are different from that of this module. This module will be removed in 0.20.\n",
      "  \"This module will be removed in 0.20.\", DeprecationWarning)\n"
     ]
    }
   ],
   "source": [
    "from sklearn.cross_validation import train_test_split\n",
    "train_X, test_X, train_Y, test_Y = train_test_split(df[:,0], df[:, 1].astype('int'), test_size = 0.2)"
   ]
  },
  {
   "cell_type": "code",
   "execution_count": null,
   "metadata": {},
   "outputs": [
    {
     "name": "stdout",
     "output_type": "stream",
     "text": [
      "'unwarrentedly'\n",
      "epoch: 0 , pass acc: 0 , current acc: 0.3390276118808863\n",
      "time taken: 217.63420057296753\n",
      "epoch: 1 , training loss: 1.623509184321602 , training acc: 0.31768146499792527 , valid loss: 1.5726030425292676 , valid acc: 0.3390276118808863\n",
      "'unwarrentedly'\n",
      "time taken: 215.46878719329834\n",
      "epoch: 2 , training loss: 1.5729773036362384 , training acc: 0.33828434458948853 , valid loss: 1.5726043984812705 , valid acc: 0.3390276118808863\n",
      "'unwarrentedly'\n",
      "time taken: 215.3932147026062\n",
      "epoch: 3 , training loss: 1.5729759794977802 , training acc: 0.33828434458948853 , valid loss: 1.5726041388826497 , valid acc: 0.3390276118808863\n",
      "'unwarrentedly'\n"
     ]
    }
   ],
   "source": [
    "tf.reset_default_graph()\n",
    "sess = tf.InteractiveSession()\n",
    "model = Model(maxlen, vectors.shape[1], label.shape[0])\n",
    "sess.run(tf.global_variables_initializer())\n",
    "dimension = vectors.shape[1]\n",
    "saver = tf.train.Saver(tf.global_variables())\n",
    "EARLY_STOPPING, CURRENT_CHECKPOINT, CURRENT_ACC, EPOCH = 10, 0, 0, 0\n",
    "while True:\n",
    "    lasttime = time.time()\n",
    "    if CURRENT_CHECKPOINT == EARLY_STOPPING:\n",
    "        print('break epoch:', EPOCH)\n",
    "        break\n",
    "    train_acc, train_loss, test_acc, test_loss = 0, 0, 0, 0\n",
    "    for i in range(0, (train_X.shape[0] // batch) * batch, batch):\n",
    "        batch_x = np.zeros((batch, maxlen, dimension))\n",
    "        batch_y = np.zeros((batch, len(label)))\n",
    "        for k in range(batch):\n",
    "            tokens = train_X[i + k].split()[:maxlen]\n",
    "            emb_data = np.zeros((maxlen, dimension), dtype = np.float32)\n",
    "            for no, text in enumerate(tokens[::-1]):\n",
    "                try:\n",
    "                    emb_data[-1 - no, :] += vectors[dictionary[text], :]\n",
    "                except Exception as e:\n",
    "                    print(e)\n",
    "                    continue\n",
    "            batch_y[k, int(train_Y[i + k])] = 1.0\n",
    "            batch_x[k, :, :] = emb_data[:, :]\n",
    "        loss, _ = sess.run([model.cost, model.optimizer], feed_dict = {model.X : batch_x, model.Y : batch_y})\n",
    "        train_loss += loss\n",
    "        train_acc += sess.run(model.accuracy, feed_dict = {model.X : batch_x, model.Y : batch_y})\n",
    "    \n",
    "    for i in range(0, (test_X.shape[0] // batch) * batch, batch):\n",
    "        batch_x = np.zeros((batch, maxlen, dimension))\n",
    "        batch_y = np.zeros((batch, len(label)))\n",
    "        for k in range(batch):\n",
    "            tokens = test_X[i + k].split()[:maxlen]\n",
    "            emb_data = np.zeros((maxlen, dimension), dtype = np.float32)\n",
    "            for no, text in enumerate(tokens[::-1]):\n",
    "                try:\n",
    "                    emb_data[-1 - no, :] += vectors[dictionary[text], :]\n",
    "                except:\n",
    "                    continue\n",
    "            batch_y[k, int(test_Y[i + k])] = 1.0\n",
    "            batch_x[k, :, :] = emb_data[:, :]\n",
    "        loss, acc = sess.run([model.cost, model.accuracy], feed_dict = {model.X : batch_x, model.Y : batch_y})\n",
    "        test_loss += loss\n",
    "        test_acc += acc\n",
    "        \n",
    "    train_loss /= (train_X.shape[0] // batch)\n",
    "    train_acc /= (train_X.shape[0] // batch)\n",
    "    test_loss /= (test_X.shape[0] // batch)\n",
    "    test_acc /= (test_X.shape[0] // batch)\n",
    "    if test_acc > CURRENT_ACC:\n",
    "        print('epoch:', EPOCH, ', pass acc:', CURRENT_ACC, ', current acc:', test_acc)\n",
    "        CURRENT_ACC = test_acc\n",
    "        CURRENT_CHECKPOINT = 0\n",
    "        saver.save(sess, os.getcwd() + \"/model-dilated-rnn-vector.ckpt\")\n",
    "    else:\n",
    "        CURRENT_CHECKPOINT += 1\n",
    "    EPOCH += 1\n",
    "    print('time taken:', time.time()-lasttime)\n",
    "    print('epoch:', EPOCH, ', training loss:', train_loss, ', training acc:', train_acc, ', valid loss:', test_loss, ', valid acc:', test_acc)"
   ]
  },
  {
   "cell_type": "code",
   "execution_count": null,
   "metadata": {},
   "outputs": [],
   "source": []
  }
 ],
 "metadata": {
  "kernelspec": {
   "display_name": "Python 3",
   "language": "python",
   "name": "python3"
  },
  "language_info": {
   "codemirror_mode": {
    "name": "ipython",
    "version": 3
   },
   "file_extension": ".py",
   "mimetype": "text/x-python",
   "name": "python",
   "nbconvert_exporter": "python",
   "pygments_lexer": "ipython3",
   "version": "3.5.2"
  }
 },
 "nbformat": 4,
 "nbformat_minor": 2
}
