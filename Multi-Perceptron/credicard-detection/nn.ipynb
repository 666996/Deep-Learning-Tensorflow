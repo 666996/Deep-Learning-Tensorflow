{
 "cells": [
  {
   "cell_type": "markdown",
   "metadata": {},
   "source": [
    "You can download the dataset [here](https://www.kaggle.com/dalpozz/creditcardfraud)"
   ]
  },
  {
   "cell_type": "code",
   "execution_count": 1,
   "metadata": {
    "collapsed": true
   },
   "outputs": [],
   "source": [
    "import numpy as np\n",
    "import tensorflow as tf\n",
    "import pandas as pd\n",
    "import matplotlib.pyplot as plt\n",
    "import seaborn as sns\n",
    "sns.set()"
   ]
  },
  {
   "cell_type": "code",
   "execution_count": 2,
   "metadata": {},
   "outputs": [
    {
     "name": "stdout",
     "output_type": "stream",
     "text": [
      "total rows: 284807\n",
      "total columns: 31\n"
     ]
    },
    {
     "data": {
      "text/html": [
       "<div>\n",
       "<table border=\"1\" class=\"dataframe\">\n",
       "  <thead>\n",
       "    <tr style=\"text-align: right;\">\n",
       "      <th></th>\n",
       "      <th>Time</th>\n",
       "      <th>V1</th>\n",
       "      <th>V2</th>\n",
       "      <th>V3</th>\n",
       "      <th>V4</th>\n",
       "      <th>V5</th>\n",
       "      <th>V6</th>\n",
       "      <th>V7</th>\n",
       "      <th>V8</th>\n",
       "      <th>V9</th>\n",
       "      <th>...</th>\n",
       "      <th>V21</th>\n",
       "      <th>V22</th>\n",
       "      <th>V23</th>\n",
       "      <th>V24</th>\n",
       "      <th>V25</th>\n",
       "      <th>V26</th>\n",
       "      <th>V27</th>\n",
       "      <th>V28</th>\n",
       "      <th>Amount</th>\n",
       "      <th>Class</th>\n",
       "    </tr>\n",
       "  </thead>\n",
       "  <tbody>\n",
       "    <tr>\n",
       "      <th>124771</th>\n",
       "      <td>77418.0</td>\n",
       "      <td>1.248555</td>\n",
       "      <td>0.262007</td>\n",
       "      <td>0.108759</td>\n",
       "      <td>0.990392</td>\n",
       "      <td>0.189618</td>\n",
       "      <td>0.068305</td>\n",
       "      <td>-0.018768</td>\n",
       "      <td>0.037248</td>\n",
       "      <td>0.117640</td>\n",
       "      <td>...</td>\n",
       "      <td>-0.089160</td>\n",
       "      <td>-0.213208</td>\n",
       "      <td>-0.083647</td>\n",
       "      <td>-0.799815</td>\n",
       "      <td>0.558927</td>\n",
       "      <td>-0.339018</td>\n",
       "      <td>0.033715</td>\n",
       "      <td>0.012361</td>\n",
       "      <td>1.98</td>\n",
       "      <td>0</td>\n",
       "    </tr>\n",
       "    <tr>\n",
       "      <th>84204</th>\n",
       "      <td>60204.0</td>\n",
       "      <td>1.447137</td>\n",
       "      <td>-0.238915</td>\n",
       "      <td>-0.185285</td>\n",
       "      <td>-0.664293</td>\n",
       "      <td>-0.567969</td>\n",
       "      <td>-1.379768</td>\n",
       "      <td>0.021718</td>\n",
       "      <td>-0.450106</td>\n",
       "      <td>-1.259378</td>\n",
       "      <td>...</td>\n",
       "      <td>0.198883</td>\n",
       "      <td>0.540058</td>\n",
       "      <td>-0.174227</td>\n",
       "      <td>0.454766</td>\n",
       "      <td>0.817281</td>\n",
       "      <td>-0.087558</td>\n",
       "      <td>-0.024543</td>\n",
       "      <td>0.003722</td>\n",
       "      <td>15.00</td>\n",
       "      <td>0</td>\n",
       "    </tr>\n",
       "    <tr>\n",
       "      <th>138677</th>\n",
       "      <td>82788.0</td>\n",
       "      <td>1.085580</td>\n",
       "      <td>-0.044818</td>\n",
       "      <td>1.403976</td>\n",
       "      <td>1.368581</td>\n",
       "      <td>-0.925469</td>\n",
       "      <td>0.084628</td>\n",
       "      <td>-0.603529</td>\n",
       "      <td>0.185477</td>\n",
       "      <td>0.808594</td>\n",
       "      <td>...</td>\n",
       "      <td>-0.008491</td>\n",
       "      <td>0.232813</td>\n",
       "      <td>0.059977</td>\n",
       "      <td>0.408320</td>\n",
       "      <td>0.310708</td>\n",
       "      <td>-0.400502</td>\n",
       "      <td>0.091822</td>\n",
       "      <td>0.039029</td>\n",
       "      <td>9.99</td>\n",
       "      <td>0</td>\n",
       "    </tr>\n",
       "    <tr>\n",
       "      <th>147309</th>\n",
       "      <td>88374.0</td>\n",
       "      <td>-0.602694</td>\n",
       "      <td>0.182639</td>\n",
       "      <td>0.966188</td>\n",
       "      <td>-2.178186</td>\n",
       "      <td>-0.317239</td>\n",
       "      <td>-0.874619</td>\n",
       "      <td>0.514834</td>\n",
       "      <td>-0.653828</td>\n",
       "      <td>-2.485539</td>\n",
       "      <td>...</td>\n",
       "      <td>-0.375766</td>\n",
       "      <td>-0.475340</td>\n",
       "      <td>-0.362273</td>\n",
       "      <td>-0.119273</td>\n",
       "      <td>0.369662</td>\n",
       "      <td>-0.121350</td>\n",
       "      <td>-0.986562</td>\n",
       "      <td>-0.671244</td>\n",
       "      <td>9.00</td>\n",
       "      <td>0</td>\n",
       "    </tr>\n",
       "    <tr>\n",
       "      <th>249331</th>\n",
       "      <td>154356.0</td>\n",
       "      <td>-0.732624</td>\n",
       "      <td>0.861176</td>\n",
       "      <td>-0.167617</td>\n",
       "      <td>0.053618</td>\n",
       "      <td>1.845055</td>\n",
       "      <td>-0.956767</td>\n",
       "      <td>1.507907</td>\n",
       "      <td>-0.303212</td>\n",
       "      <td>-1.234832</td>\n",
       "      <td>...</td>\n",
       "      <td>0.257065</td>\n",
       "      <td>0.772033</td>\n",
       "      <td>-0.162980</td>\n",
       "      <td>-0.388819</td>\n",
       "      <td>0.345792</td>\n",
       "      <td>-0.541638</td>\n",
       "      <td>0.011698</td>\n",
       "      <td>0.144803</td>\n",
       "      <td>1.00</td>\n",
       "      <td>0</td>\n",
       "    </tr>\n",
       "  </tbody>\n",
       "</table>\n",
       "<p>5 rows × 31 columns</p>\n",
       "</div>"
      ],
      "text/plain": [
       "            Time        V1        V2        V3        V4        V5        V6  \\\n",
       "124771   77418.0  1.248555  0.262007  0.108759  0.990392  0.189618  0.068305   \n",
       "84204    60204.0  1.447137 -0.238915 -0.185285 -0.664293 -0.567969 -1.379768   \n",
       "138677   82788.0  1.085580 -0.044818  1.403976  1.368581 -0.925469  0.084628   \n",
       "147309   88374.0 -0.602694  0.182639  0.966188 -2.178186 -0.317239 -0.874619   \n",
       "249331  154356.0 -0.732624  0.861176 -0.167617  0.053618  1.845055 -0.956767   \n",
       "\n",
       "              V7        V8        V9  ...         V21       V22       V23  \\\n",
       "124771 -0.018768  0.037248  0.117640  ...   -0.089160 -0.213208 -0.083647   \n",
       "84204   0.021718 -0.450106 -1.259378  ...    0.198883  0.540058 -0.174227   \n",
       "138677 -0.603529  0.185477  0.808594  ...   -0.008491  0.232813  0.059977   \n",
       "147309  0.514834 -0.653828 -2.485539  ...   -0.375766 -0.475340 -0.362273   \n",
       "249331  1.507907 -0.303212 -1.234832  ...    0.257065  0.772033 -0.162980   \n",
       "\n",
       "             V24       V25       V26       V27       V28  Amount  Class  \n",
       "124771 -0.799815  0.558927 -0.339018  0.033715  0.012361    1.98      0  \n",
       "84204   0.454766  0.817281 -0.087558 -0.024543  0.003722   15.00      0  \n",
       "138677  0.408320  0.310708 -0.400502  0.091822  0.039029    9.99      0  \n",
       "147309 -0.119273  0.369662 -0.121350 -0.986562 -0.671244    9.00      0  \n",
       "249331 -0.388819  0.345792 -0.541638  0.011698  0.144803    1.00      0  \n",
       "\n",
       "[5 rows x 31 columns]"
      ]
     },
     "execution_count": 2,
     "metadata": {},
     "output_type": "execute_result"
    }
   ],
   "source": [
    "dataset = pd.read_csv('creditcard.csv')\n",
    "print 'total rows: ' + str(dataset.shape[0])\n",
    "print 'total columns: ' + str(dataset.shape[1])\n",
    "dataset = dataset.iloc[np.random.permutation(len(dataset))]\n",
    "dataset.head()"
   ]
  },
  {
   "cell_type": "code",
   "execution_count": 3,
   "metadata": {},
   "outputs": [
    {
     "data": {
      "image/png": "[encoded data removed]",
      "text/plain": [
       "<matplotlib.figure.Figure at 0x7f90602fbf90>"
      ]
     },
     "metadata": {},
     "output_type": "display_data"
    }
   ],
   "source": [
    "ds = dataset.iloc[:, 1:]\n",
    "correlation = ds.corr()\n",
    "plt.figure(figsize = (10, 10))\n",
    "sns.heatmap(correlation, vmax = 1, square = True, annot = False)\n",
    "plt.savefig('pearson.pdf')\n",
    "plt.show()"
   ]
  },
  {
   "cell_type": "markdown",
   "metadata": {},
   "source": [
    "I don't see any correlation between Amount and Class here. Maybe we should reject it?"
   ]
  },
  {
   "cell_type": "code",
   "execution_count": 4,
   "metadata": {},
   "outputs": [
    {
     "name": "stderr",
     "output_type": "stream",
     "text": [
      "/usr/local/lib/python2.7/dist-packages/sklearn/cross_validation.py:44: DeprecationWarning: This module was deprecated in version 0.18 in favor of the model_selection module into which all the refactored classes and functions are moved. Also note that the interface of the new CV iterators are different from that of this module. This module will be removed in 0.20.\n",
      "  \"This module will be removed in 0.20.\", DeprecationWarning)\n"
     ]
    }
   ],
   "source": [
    "from sklearn.cross_validation import train_test_split\n",
    "dataset = dataset.iloc[:, 1:]\n",
    "x_data = dataset.iloc[:, :-2].values.astype(np.float32)\n",
    "y_data = dataset.iloc[:, -1]\n",
    "\n",
    "onehot = np.zeros((y_data.shape[0], np.unique(y_data).shape[0]))\n",
    "for i in xrange(y_data.shape[0]):\n",
    "    onehot[i, y_data[i]] = 1.0\n",
    "    \n",
    "x_train, x_test, y_train, y_test, _, y_test_label = train_test_split(x_data, onehot, y_data, test_size = 0.2)"
   ]
  },
  {
   "cell_type": "code",
   "execution_count": 5,
   "metadata": {
    "collapsed": true
   },
   "outputs": [],
   "source": [
    "size_layer_first = 512\n",
    "size_layer_second = 128\n",
    "learning_rate = 0.001\n",
    "beta = 0.00005\n",
    "\n",
    "X = tf.placeholder(\"float\", [None, x_train.shape[1]])\n",
    "Y = tf.placeholder(\"float\", [None, np.unique(y_data).shape[0]])\n",
    "layer1 = tf.Variable(tf.random_normal([x_train.shape[1], size_layer_first]))\n",
    "layer2 = tf.Variable(tf.random_normal([size_layer_first, size_layer_first]))\n",
    "layer3 = tf.Variable(tf.random_normal([size_layer_first, size_layer_second]))\n",
    "layer4 = tf.Variable(tf.random_normal([size_layer_second, np.unique(y_data).shape[0]]))\n",
    "\n",
    "bias1 = tf.Variable(tf.random_normal([size_layer_first], stddev = 0.1))\n",
    "bias2 = tf.Variable(tf.random_normal([size_layer_first], stddev = 0.1))\n",
    "bias3 = tf.Variable(tf.random_normal([size_layer_second], stddev = 0.1))\n",
    "bias4 = tf.Variable(tf.random_normal([np.unique(y_data).shape[0]], stddev = 0.1))\n",
    "\n",
    "hidden1 = tf.nn.dropout(tf.nn.sigmoid(tf.matmul(X, layer1) + bias1), 0.3)\n",
    "hidden2 = tf.nn.dropout(tf.nn.sigmoid(tf.matmul(hidden1, layer2) + bias2), 0.3)\n",
    "hidden3 = tf.nn.dropout(tf.nn.sigmoid(tf.matmul(hidden2, layer3) + bias3), 0.3)\n",
    "hidden4 = tf.matmul(hidden3, layer4) + bias4\n",
    "\n",
    "loss = tf.reduce_mean(tf.nn.softmax_cross_entropy_with_logits(labels = Y, logits = hidden4))\n",
    "loss += tf.nn.l2_loss(layer1) * beta + tf.nn.l2_loss(layer2) * beta + tf.nn.l2_loss(layer3) * beta + tf.nn.l2_loss(layer4) * beta\n",
    "\n",
    "optimizer = tf.train.AdamOptimizer(learning_rate = learning_rate).minimize(loss)\n",
    "\n",
    "correct_pred = tf.equal(tf.argmax(hidden4, 1), tf.argmax(Y, 1))\n",
    "accuracy = tf.reduce_mean(tf.cast(correct_pred, tf.float32))"
   ]
  },
  {
   "cell_type": "code",
   "execution_count": 6,
   "metadata": {},
   "outputs": [
    {
     "name": "stdout",
     "output_type": "stream",
     "text": [
      "epoch: 1, loss: 8.10512757623, accuracy: 0.985832162921, s / epoch: 24.1923840046\n",
      "epoch: 2, loss: 6.28414781978, accuracy: 0.99650193118, s / epoch: 22.1745769978\n",
      "epoch: 3, loss: 4.40792049478, accuracy: 0.996616046348, s / epoch: 21.4778430462\n",
      "epoch: 4, loss: 2.77917617292, accuracy: 0.997191011236, s / epoch: 21.9595429897\n",
      "epoch: 5, loss: 1.48631228265, accuracy: 0.998134655899, s / epoch: 21.2457540035\n",
      "epoch: 6, loss: 0.598144482227, accuracy: 0.998270716292, s / epoch: 19.8622908592\n",
      "epoch: 7, loss: 0.169177042178, accuracy: 0.998275105337, s / epoch: 19.8599021435\n",
      "epoch: 8, loss: 0.0420715748254, accuracy: 0.998279494382, s / epoch: 27.7041568756\n",
      "epoch: 9, loss: 0.019759179527, accuracy: 0.998279494382, s / epoch: 30.1247770786\n",
      "epoch: 10, loss: 0.0168416270487, accuracy: 0.998279494382, s / epoch: 27.4476659298\n"
     ]
    }
   ],
   "source": [
    "sess = tf.InteractiveSession()\n",
    "sess.run(tf.global_variables_initializer())\n",
    "import time\n",
    "\n",
    "BATCH_SIZE = 128\n",
    "\n",
    "EPOCH, LOSS, ACC = [], [], []\n",
    "for i in xrange(10):\n",
    "    last = time.time()\n",
    "    EPOCH.append(i)\n",
    "    TOTAL_LOSS, ACCURACY = 0, 0\n",
    "    for n in xrange(0, (x_train.shape[0] // BATCH_SIZE) * BATCH_SIZE, BATCH_SIZE):\n",
    "        cost, _ = sess.run([loss, optimizer], feed_dict = {X : x_train[n: n + BATCH_SIZE, :], Y : y_train[n: n + BATCH_SIZE, :]})\n",
    "        ACCURACY += sess.run(accuracy, feed_dict = {X : x_train[n: n + BATCH_SIZE, :], Y : y_train[n: n + BATCH_SIZE, :]})\n",
    "        TOTAL_LOSS += cost\n",
    "    \n",
    "    TOTAL_LOSS /= (x_train.shape[0] // BATCH_SIZE)\n",
    "    ACCURACY /= (x_train.shape[0] // BATCH_SIZE)\n",
    "    LOSS.append(TOTAL_LOSS); ACC.append(ACCURACY)\n",
    "    print 'epoch: ' + str(i + 1) + ', loss: ' + str(TOTAL_LOSS) + ', accuracy: ' + str(ACCURACY) + ', s / epoch: ' + str(time.time() - last)"
   ]
  },
  {
   "cell_type": "code",
   "execution_count": 7,
   "metadata": {},
   "outputs": [
    {
     "name": "stdout",
     "output_type": "stream",
     "text": [
      "testing accuracy: 0.998244\n",
      "             precision    recall  f1-score   support\n",
      "\n",
      "        non       1.00      1.00      1.00     56865\n",
      "      fraud       0.00      0.00      0.00        97\n",
      "\n",
      "avg / total       1.00      1.00      1.00     56962\n",
      "\n"
     ]
    },
    {
     "name": "stderr",
     "output_type": "stream",
     "text": [
      "/usr/local/lib/python2.7/dist-packages/sklearn/metrics/classification.py:1113: UndefinedMetricWarning: Precision and F-score are ill-defined and being set to 0.0 in labels with no predicted samples.\n",
      "  'precision', 'predicted', average, warn_for)\n"
     ]
    }
   ],
   "source": [
    "from sklearn import metrics\n",
    "testing_acc, logits = sess.run([accuracy, tf.cast(tf.argmax(hidden4, 1), tf.int32)], feed_dict = {X : x_test, Y : y_test})\n",
    "print 'testing accuracy: ' + str(testing_acc)\n",
    "print(metrics.classification_report(y_test_label, logits, target_names = ['non', 'fraud']))"
   ]
  },
  {
   "cell_type": "code",
   "execution_count": 8,
   "metadata": {},
   "outputs": [
    {
     "data": {
      "image/png": "[encoded data removed]",
      "text/plain": [
       "<matplotlib.figure.Figure at 0x7f9017617a90>"
      ]
     },
     "metadata": {},
     "output_type": "display_data"
    }
   ],
   "source": [
    "import matplotlib.pyplot as plt\n",
    "import seaborn as sns\n",
    "sns.set()\n",
    "plt.subplot(1, 2, 1)\n",
    "plt.plot(EPOCH, LOSS)\n",
    "plt.xlabel('epoch'); plt.ylabel('loss')\n",
    "plt.subplot(1, 2, 2)\n",
    "plt.plot(EPOCH, ACC)\n",
    "plt.xlabel('epoch'); plt.ylabel('accuracy')\n",
    "plt.show()"
   ]
  }
 ],
 "metadata": {
  "kernelspec": {
   "display_name": "Python 2",
   "language": "python",
   "name": "python2"
  },
  "language_info": {
   "codemirror_mode": {
    "name": "ipython",
    "version": 2
   },
   "file_extension": ".py",
   "mimetype": "text/x-python",
   "name": "python",
   "nbconvert_exporter": "python",
   "pygments_lexer": "ipython2",
   "version": "2.7.12"
  }
 },
 "nbformat": 4,
 "nbformat_minor": 2
}
