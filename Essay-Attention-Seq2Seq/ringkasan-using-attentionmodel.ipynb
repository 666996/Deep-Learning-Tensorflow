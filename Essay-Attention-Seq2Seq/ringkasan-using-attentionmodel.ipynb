{
 "cells": [
  {
   "cell_type": "code",
   "execution_count": 1,
   "metadata": {},
   "outputs": [],
   "source": [
    "with open('karangan', 'r') as fopen:\n",
    "    karangan = fopen.read().split('\\n')\n",
    "with open('ringkasan', 'r') as fopen:\n",
    "    ringkasan = fopen.read().split('\\n')"
   ]
  },
  {
   "cell_type": "code",
   "execution_count": 2,
   "metadata": {},
   "outputs": [
    {
     "name": "stdout",
     "output_type": "stream",
     "text": [
      "vocab size for inputs: 430\n",
      "vocab size for predict: 165\n"
     ]
    }
   ],
   "source": [
    "vocab_inputs = []; vocab_predict = []\n",
    "\n",
    "# we tokenized each sentence in both dataset, turn into vocabulary.\n",
    "for i in xrange(len(karangan)):\n",
    "    vocab_inputs += karangan[i].split(); vocab_predict += ringkasan[i].split()\n",
    "\n",
    "# Then we sorted our tokenized words from highest freq to lowest freq.\n",
    "vocab_inputs = sorted(vocab_inputs,key = vocab_inputs.count,reverse = True)\n",
    "vocab_predict = sorted(vocab_predict,key = vocab_predict.count,reverse = True)\n",
    "\n",
    "d1 = dict((k,v) for v,k in enumerate(reversed(vocab_inputs)))\n",
    "d2 = dict((k,v) for v,k in enumerate(reversed(vocab_predict)))\n",
    "\n",
    "# Then we turned our sorted words into unique words, while maintaining the position of sorting.\n",
    "vocab_inputs = ['PAD', 'EOS'] + sorted(d1, key = d1.get, reverse = True)\n",
    "vocab_predict = ['PAD', 'EOS'] + sorted(d2, key = d2.get, reverse = True)\n",
    "\n",
    "print 'vocab size for inputs: ' + str(len(vocab_inputs))\n",
    "print 'vocab size for predict: ' + str(len(vocab_predict))\n",
    "\n",
    "# Then turned into dictionary {'husein': 0, 'suka': 1.. n}\n",
    "dict_inputs = dict(zip(vocab_inputs, [i for i in xrange(len(vocab_inputs))]))\n",
    "dict_predict = dict(zip(vocab_predict, [i for i in xrange(len(vocab_predict))]))"
   ]
  },
  {
   "cell_type": "code",
   "execution_count": 3,
   "metadata": {},
   "outputs": [
    {
     "name": "stdout",
     "output_type": "stream",
     "text": [
      "longest sentence in our karangan dataset: 304 patah perkataan\n"
     ]
    }
   ],
   "source": [
    "split_karangan = []\n",
    "for i in xrange(len(karangan)):\n",
    "    split_karangan.append(karangan[i].split())\n",
    "    \n",
    "greatestvalue_karangan = 0\n",
    "for i in xrange(len(split_karangan)):\n",
    "    if len(split_karangan[i]) > greatestvalue_karangan:\n",
    "        greatestvalue_karangan = len(split_karangan[i])\n",
    "        \n",
    "# need to add one because our decoder need to include EOS\n",
    "greatestvalue_karangan += 1\n",
    "\n",
    "print 'longest sentence in our karangan dataset: ' + str(greatestvalue_karangan) + ' patah perkataan'"
   ]
  },
  {
   "cell_type": "markdown",
   "metadata": {},
   "source": [
    "We got our vocab and batch size, now we are ready to do our training\n",
    "\n",
    "Now we import our tensorflow and design our RNN with attention model\n",
    "\n",
    "I'm still using Tensorflow 0.12 and will use most of the API from Tensorflow to make it short.\n",
    "\n",
    "0.12, API for LSTM tf.nn.rnn_cell.LSTMCell\n",
    "\n",
    "0.12, API for attention model tf.contrib.legacy_seq2seq.embedding_attention_seq2seq\n",
    "\n",
    "1.X, I have no idea, a lot of naming changed in 1.X, so I am not willing myself to migrate 1.X"
   ]
  },
  {
   "cell_type": "code",
   "execution_count": 4,
   "metadata": {},
   "outputs": [],
   "source": [
    "import numpy as np\n",
    "import tensorflow as tf\n",
    "\n",
    "size_layers = 256\n",
    "num_layers = 2\n",
    "\n",
    "sess = tf.InteractiveSession()\n",
    "\n",
    "encoder_inputs = tf.placeholder(shape = [greatestvalue_karangan], dtype = tf.int32)\n",
    "decoder_inputs = tf.placeholder(shape = [greatestvalue_karangan], dtype = tf.int32)\n",
    "decoder_targets = tf.placeholder(shape = [greatestvalue_karangan], dtype = tf.int32)\n",
    "\n",
    "cell = tf.nn.rnn_cell.LSTMCell(size_layers)\n",
    "cell = tf.nn.rnn_cell.MultiRNNCell([cell] * num_layers)\n",
    "\n",
    "outputs, state = tf.nn.seq2seq.embedding_attention_seq2seq(\n",
    "    encoder_inputs = [encoder_inputs],\n",
    "    decoder_inputs = [decoder_inputs],\n",
    "    cell = cell,\n",
    "    num_encoder_symbols = len(vocab_inputs),\n",
    "    num_decoder_symbols = len(vocab_inputs),\n",
    "    embedding_size = size_layers)\n",
    "\n",
    "decoder_logits = tf.contrib.layers.linear(outputs, len(vocab_predict))\n",
    "\n",
    "decoder_prediction = tf.argmax(decoder_logits, 2)\n",
    "\n",
    "# this might very costly if you have very large vocab\n",
    "cross_entropy = tf.nn.softmax_cross_entropy_with_logits(\n",
    "    labels = tf.one_hot(decoder_targets, depth = len(vocab_predict), dtype = tf.float32),\n",
    "    logits = decoder_logits)\n",
    "\n",
    "loss = tf.reduce_mean(cross_entropy)\n",
    "optimizer = tf.train.AdamOptimizer(0.001).minimize(loss)\n",
    "\n",
    "sess.run(tf.global_variables_initializer())"
   ]
  },
  {
   "cell_type": "code",
   "execution_count": 5,
   "metadata": {
    "collapsed": true
   },
   "outputs": [],
   "source": [
    "epoch = 50\n",
    "LOSS = []\n",
    "\n",
    "def feed(text, karangan = True):\n",
    "    text_int = []\n",
    "    if karangan:\n",
    "        text_int_decode = [1]\n",
    "    strings = text.split()\n",
    "    for i in xrange(greatestvalue_karangan):\n",
    "        try:\n",
    "            if karangan:\n",
    "                text_int.append(dict_inputs[strings[i]])\n",
    "                text_int_decode.append(dict_inputs[strings[i]])\n",
    "            else:\n",
    "                text_int.append(dict_predict[strings[i]])\n",
    "        except:\n",
    "            text_int.append(0)\n",
    "            if karangan:\n",
    "                text_int_decode.append(0)\n",
    "                \n",
    "    text_int[greatestvalue_karangan - 1] = 1\n",
    "    \n",
    "    if karangan:\n",
    "        del text_int_decode[len(text_int_decode) - 1]\n",
    "        return text_int, text_int_decode\n",
    "    else:\n",
    "        return text_int"
   ]
  },
  {
   "cell_type": "code",
   "execution_count": 6,
   "metadata": {},
   "outputs": [
    {
     "name": "stdout",
     "output_type": "stream",
     "text": [
      "epoch: 1, total loss: 5.04089991252, s/epoch: 0.602192878723\n",
      "epoch: 2, total loss: 4.38069883982, s/epoch: 0.541996955872\n",
      "epoch: 3, total loss: 3.19136460622, s/epoch: 0.543068885803\n",
      "epoch: 4, total loss: 2.6433309714, s/epoch: 0.541651964188\n",
      "epoch: 5, total loss: 2.25960429509, s/epoch: 0.54180598259\n",
      "epoch: 6, total loss: 1.74249974887, s/epoch: 0.541329860687\n",
      "epoch: 7, total loss: 1.7214884758, s/epoch: 0.539263963699\n",
      "epoch: 8, total loss: 1.54625721773, s/epoch: 0.537240982056\n",
      "epoch: 9, total loss: 1.51467525959, s/epoch: 0.542845010757\n",
      "epoch: 10, total loss: 1.45189758142, s/epoch: 0.539931058884\n",
      "epoch: 11, total loss: 1.38198816776, s/epoch: 0.54217505455\n",
      "epoch: 12, total loss: 1.3495409886, s/epoch: 0.542634010315\n",
      "epoch: 13, total loss: 1.29773588975, s/epoch: 0.664098024368\n",
      "epoch: 14, total loss: 1.24894432227, s/epoch: 0.594213008881\n",
      "epoch: 15, total loss: 1.20931470394, s/epoch: 0.539052009583\n",
      "epoch: 16, total loss: 1.16436549028, s/epoch: 0.557450056076\n",
      "epoch: 17, total loss: 1.11847031116, s/epoch: 0.541896104813\n",
      "epoch: 18, total loss: 1.07187072436, s/epoch: 0.544073820114\n",
      "epoch: 19, total loss: 1.01974469423, s/epoch: 0.544071912766\n",
      "epoch: 20, total loss: 0.962769488494, s/epoch: 0.548055887222\n",
      "epoch: 21, total loss: 0.900631566842, s/epoch: 0.540786981583\n",
      "epoch: 22, total loss: 0.8312240839, s/epoch: 0.540869951248\n",
      "epoch: 23, total loss: 0.753032664458, s/epoch: 0.541756868362\n",
      "epoch: 24, total loss: 0.666178305944, s/epoch: 0.629921913147\n",
      "epoch: 25, total loss: 0.573930442333, s/epoch: 0.540197134018\n",
      "epoch: 26, total loss: 0.483363767465, s/epoch: 0.538233995438\n",
      "epoch: 27, total loss: 0.404722362757, s/epoch: 0.541215181351\n",
      "epoch: 28, total loss: 0.309044082959, s/epoch: 0.541114091873\n",
      "epoch: 29, total loss: 0.252638787031, s/epoch: 0.540611982346\n",
      "epoch: 30, total loss: 0.212514415383, s/epoch: 0.54020690918\n",
      "epoch: 31, total loss: 0.171059921384, s/epoch: 0.634838104248\n",
      "epoch: 32, total loss: 0.147854238749, s/epoch: 0.542549133301\n",
      "epoch: 33, total loss: 0.130428271989, s/epoch: 0.543190002441\n",
      "epoch: 34, total loss: 0.120460825662, s/epoch: 0.572957992554\n",
      "epoch: 35, total loss: 0.107855393241, s/epoch: 0.548081874847\n",
      "epoch: 36, total loss: 0.101556903372, s/epoch: 0.55357003212\n",
      "epoch: 37, total loss: 0.0999798836807, s/epoch: 0.55039691925\n",
      "epoch: 38, total loss: 0.09470414867, s/epoch: 0.548820972443\n",
      "epoch: 39, total loss: 0.09023508057, s/epoch: 0.547595977783\n",
      "epoch: 40, total loss: 0.0907999053597, s/epoch: 0.549710988998\n",
      "epoch: 41, total loss: 0.0867909366886, s/epoch: 0.638680934906\n",
      "epoch: 42, total loss: 0.0899964235723, s/epoch: 0.556474208832\n",
      "epoch: 43, total loss: 0.0889803220828, s/epoch: 0.634034872055\n",
      "epoch: 44, total loss: 0.080980617553, s/epoch: 0.556731939316\n",
      "epoch: 45, total loss: 0.0759176338712, s/epoch: 0.589959859848\n",
      "epoch: 46, total loss: 0.0765133040647, s/epoch: 0.585932016373\n",
      "epoch: 47, total loss: 0.0741598804792, s/epoch: 0.560043811798\n",
      "epoch: 48, total loss: 0.0771262484292, s/epoch: 0.557280063629\n",
      "epoch: 49, total loss: 0.0765195824206, s/epoch: 0.559545040131\n",
      "epoch: 50, total loss: 0.0746326781809, s/epoch: 0.56706905365\n"
     ]
    }
   ],
   "source": [
    "import time\n",
    "\n",
    "for q in xrange(epoch):\n",
    "    total_loss = 0\n",
    "    lasttime = time.time()\n",
    "    \n",
    "    for w in xrange(len(karangan)):\n",
    "        input_seq_encode, input_seq_decode = feed(karangan[w], karangan = True)\n",
    "        output_seq = feed(ringkasan[w], karangan = False)\n",
    "        _, losses = sess.run([optimizer, loss], \n",
    "                             feed_dict = {encoder_inputs : input_seq_encode, decoder_inputs : input_seq_decode,\n",
    "                                         decoder_targets : output_seq })\n",
    "        total_loss += losses\n",
    "        \n",
    "    total_loss = total_loss / (len(karangan) * 1.0)\n",
    "    LOSS.append(total_loss)\n",
    "    print 'epoch: ' + str(q + 1) + ', total loss: ' + str(total_loss) + ', s/epoch: ' + str(time.time() - lasttime)"
   ]
  },
  {
   "cell_type": "code",
   "execution_count": 7,
   "metadata": {},
   "outputs": [
    {
     "data": {
      "image/png": "[encoded data removed]",
      "text/plain": [
       "<matplotlib.figure.Figure at 0x7f5a7c208d90>"
      ]
     },
     "metadata": {},
     "output_type": "display_data"
    }
   ],
   "source": [
    "import matplotlib.pyplot as plt\n",
    "import seaborn as sns\n",
    "sns.set()\n",
    "\n",
    "plt.plot([i for i in xrange(len(LOSS))], LOSS)\n",
    "plt.title('loss vs epoch')\n",
    "plt.show()"
   ]
  },
  {
   "cell_type": "code",
   "execution_count": 10,
   "metadata": {},
   "outputs": [
    {
     "name": "stdout",
     "output_type": "stream",
     "text": [
      "karangan: 1\n",
      "\n",
      "actual text: Para remaja kurang diberi perhatian oleh ibu bapa mereka, khususnya yang bekerja di kawasan bandar. Ibu bapa sibuk bekerja sehingga mengabaikan tanggungjawab mereka. Ibu bapa pula berpendapat bahawa pemberian wang yang secukupnya kepada anak-anak sudah memadai tanpa memberikan kasih sayang dan perhatian. mereka terjebak dalam gejala negatif akibat bergaul dengan kumpulan yang salah. Melakukan perbuatan yang tidak baik kerana hendak melarikan diri daripada masalah yang menimpa keluarga mereka. Para remaja yang buntu dengan masalah yang dihadapi keluar dari rumah lalu mencari kebebasan dengan bergaul dengan kumpulan yang tidak senonoh.\n",
      "\n",
      "predict text: Para remaja kurang untuk perhatian oleh ibu mereka, khususnya yang bekerja di kawasan bandar. Ibu bapa sibuk bekerja sehingga mengabaikan tanggungjawab mereka. Ibu bapa pula berpendapat bahawa sibuk wang yang secukupnya kepada anak-anak sudah memadai tanpa memberikan kasih sayang dan perhatian. mereka dalam gejala negatif akibat bergaul dengan kumpulan yang salah. Melakukan perbuatan yang tidak baik kerana hendak melarikan diri daripada masalah yang menimpa keluarga mereka. Para remaja yang buntu dengan masalah yang dihadapi keluar rumah lalu mencari kebebasan dengan bergaul dengan kumpulan yang tidak senonoh. \n",
      "\n",
      "\n",
      "karangan: 2\n",
      "\n",
      "actual text: Kebaikan belajar secara berkumpulan ialah dapat bertukar-tukar pendapat tentang sesuatu perkara dalam kalangan ahli. Selain itu, pemahaman tentang sesuatu perkara dapat dipertingkat. Seterusnya, nota hasil pembelajaran dapat disusun dengan rapi. Selanjutnya, ada rakan-rakan yang dapat menjelaskan sesuatu perkara yang sukar difahami dengan terperinci. Pada masa yang sama, nota pelajaran juga dapat disusun mengikut urutan yang tepat. Di samping itu, semua ahli kumpulan mendapat faedah hasil daripada perbincangan yang dilakukan. Akhir sekali, kumpulan perbincangan dapat meningkatkan kecekapan bekerja setiap ahli kumpulan.\n",
      "\n",
      "predict text: Kebaikan belajar secara berkumpulan ialah dapat bertukar-tukar pendapat tentang sesuatu perkara dalam kalangan ahli. Selain itu, pemahaman tentang perkara dapat dipertingkat. Seterusnya, nota hasil pembelajaran dapat disusun dengan rapi. Selanjutnya, ada rakan-rakan dapat menjelaskan sesuatu perkara yang sukar difahami dengan terperinci. Pada masa yang sama, nota pelajaran dapat disusun mengikut urutan yang tepat. Di samping semua ahli kumpulan mendapat faedah hasil daripada perbincangan yang dilakukan. Akhir sekali, kumpulan perbincangan dapat meningkatkan kecekapan bekerja setiap ahli kumpulan. \n",
      "\n",
      "\n",
      "karangan: 3\n",
      "\n",
      "actual text: Pemberian kerja rumah bermotif untuk memupuk unsur pembelajaran kendiri dalam sanubari murid. Kerja rumah turut berperanan sebagai aktiviti pengukuhan bagi pembelajaran di dalam kelas. Tambahan pula, kerja rumah memberi peluang keemasan kepada ahli-ahli keluarga untuk bersama dengan anak-anak semasa mereka belajar. Malahan, kerja rumah merupakan platform kejayaan murid-murid dalam pelajaran kerana banyak latihan yang dilakukan. Lebih-lebih lagi, kerja rumah diberikan bertujuan untuk mengisi masa lapang mereka dengan aktiviti berfaedah yang mampu mendorong mereka berjaya dalam pelajaran\n",
      "\n",
      "predict text: Pemberian kerja rumah bermotif memupuk unsur pembelajaran kendiri dalam sanubari murid. Kerja rumah turut berperanan sebagai anak-anak kerja bagi pembelajaran di dalam kelas. Tambahan memberi peluang keemasan kepada ahli-ahli keluarga untuk bersama dengan aktiviti kerja belajar. Malahan, kerja rumah merupakan platform kejayaan murid-murid dalam pelajaran banyak unsur yang dilakukan. Lebih-lebih lagi, kerja rumah diberikan bertujuan untuk mengisi masa lapang mereka dengan yang mampu mendorong mereka berjaya dalam pelajaran kerja Tambahan aktiviti kerja \n",
      "\n",
      "\n"
     ]
    }
   ],
   "source": [
    "def label_to_text(label):\n",
    "    string = ''\n",
    "    for i in xrange(len(label)):\n",
    "        if label[i] == 0 or label[i] == 1:\n",
    "            continue\n",
    "        string += vocab_predict[label[i]] + ' '\n",
    "    return string\n",
    "\n",
    "for i in xrange(len(karangan)):\n",
    "    input_seq_encode, input_seq_decode = feed(karangan[i], karangan = True)\n",
    "    predict = sess.run(decoder_prediction, \n",
    "                       feed_dict = {encoder_inputs : input_seq_encode, decoder_inputs : input_seq_decode})\n",
    "    \n",
    "    print 'karangan: ' + str(i + 1) + '\\n'\n",
    "    print 'actual text: ' + ringkasan[i] + '\\n'\n",
    "    print 'predict text: ' + str(label_to_text(predict[0])) + '\\n\\n'"
   ]
  },
  {
   "cell_type": "code",
   "execution_count": null,
   "metadata": {
    "collapsed": true
   },
   "outputs": [],
   "source": []
  }
 ],
 "metadata": {
  "kernelspec": {
   "display_name": "Python 2",
   "language": "python",
   "name": "python2"
  },
  "language_info": {
   "codemirror_mode": {
    "name": "ipython",
    "version": 2
   },
   "file_extension": ".py",
   "mimetype": "text/x-python",
   "name": "python",
   "nbconvert_exporter": "python",
   "pygments_lexer": "ipython2",
   "version": "2.7.12"
  }
 },
 "nbformat": 4,
 "nbformat_minor": 2
}
