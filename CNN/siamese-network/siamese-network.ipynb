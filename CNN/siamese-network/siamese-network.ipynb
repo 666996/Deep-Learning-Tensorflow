{
 "cells": [
  {
   "cell_type": "code",
   "execution_count": 1,
   "metadata": {},
   "outputs": [],
   "source": [
    "import numpy as np\n",
    "from tensorflow.examples.tutorials.mnist import input_data\n",
    "import tensorflow as tf"
   ]
  },
  {
   "cell_type": "code",
   "execution_count": 2,
   "metadata": {},
   "outputs": [
    {
     "name": "stdout",
     "output_type": "stream",
     "text": [
      "Extracting /home/husein/space/mnist/train-images-idx3-ubyte.gz\n",
      "Extracting /home/husein/space/mnist/train-labels-idx1-ubyte.gz\n",
      "Extracting /home/husein/space/mnist/t10k-images-idx3-ubyte.gz\n",
      "Extracting /home/husein/space/mnist/t10k-labels-idx1-ubyte.gz\n"
     ]
    }
   ],
   "source": [
    "mnist = input_data.read_data_sets('/home/husein/space/mnist')"
   ]
  },
  {
   "cell_type": "code",
   "execution_count": 3,
   "metadata": {},
   "outputs": [],
   "source": [
    "def convolutionize(x, conv_w, h = 1):\n",
    "    return tf.nn.conv2d(input = x, filter = conv_w, strides = [1, h, h, 1], padding = 'SAME')\n",
    "\n",
    "def pooling(wx):\n",
    "    return tf.nn.max_pool(wx, ksize = [1, 2, 2, 1], strides = [1, 2, 2, 1], padding = 'SAME')\n",
    "\n",
    "def create_network(X):\n",
    "    w1 = tf.Variable(tf.random_normal([3, 3, 1, 2], stddev = 0.5))\n",
    "    b1 = tf.Variable(tf.zeros(shape = [2]))\n",
    "    w2 = tf.Variable(tf.random_normal([3, 3, 2, 4], stddev = 0.5))\n",
    "    b2 = tf.Variable(tf.zeros(shape = [4]))\n",
    "    w3 = tf.Variable(tf.random_normal([3, 3, 4, 8], stddev = 0.5))\n",
    "    b3 = tf.Variable(tf.zeros(shape = [8]))\n",
    "    w4 = tf.Variable(tf.random_normal([128, 2], stddev = 0.5))\n",
    "    b4 = tf.Variable(tf.zeros(shape = [2]))\n",
    "\n",
    "    conv1 = pooling(tf.nn.relu(convolutionize(X, w1) + b1))\n",
    "    conv2 = pooling(tf.nn.relu(convolutionize(conv1, w2) + b2))\n",
    "    conv3 = pooling(tf.nn.relu(convolutionize(conv2, w3) + b3))\n",
    "    conv3 = tf.reshape(conv3, [-1, 128])\n",
    "    return tf.matmul(conv3, w4) + b4\n",
    "\n",
    "class Siamese:\n",
    "    def __init__(self):\n",
    "        self.X1 = tf.placeholder(tf.float32, (None, 28, 28, 1))\n",
    "        self.X2 = tf.placeholder(tf.float32, (None, 28, 28, 1))\n",
    "        self.Y = tf.placeholder(tf.float32, [None])\n",
    "        self.output1 = create_network(self.X1)\n",
    "        self.output2 = create_network(self.X2)\n",
    "        labels_true = self.Y\n",
    "        labels_false = tf.subtract(1.0, self.Y)\n",
    "        eucd = tf.pow(tf.subtract(self.output1, self.output2), 2)\n",
    "        eucd = tf.reduce_sum(eucd, 1)\n",
    "        eucd = tf.sqrt(eucd + 1e-6)\n",
    "        margin = tf.constant(5.0)\n",
    "        pos = tf.multiply(labels_true, eucd)\n",
    "        neg = tf.multiply(labels_false, tf.pow(tf.maximum(tf.subtract(margin, eucd), 0), 2))\n",
    "        self.cost = tf.reduce_mean(tf.add(pos, neg))\n",
    "        self.optimizer = tf.train.GradientDescentOptimizer(0.01).minimize(self.cost)"
   ]
  },
  {
   "cell_type": "code",
   "execution_count": 4,
   "metadata": {},
   "outputs": [],
   "source": [
    "sess = tf.InteractiveSession()\n",
    "model = Siamese()\n",
    "sess.run(tf.global_variables_initializer())"
   ]
  },
  {
   "cell_type": "code",
   "execution_count": 5,
   "metadata": {},
   "outputs": [
    {
     "name": "stdout",
     "output_type": "stream",
     "text": [
      "epoch 1000, loss 0.485847\n",
      "epoch 2000, loss 0.428986\n",
      "epoch 3000, loss 0.199992\n",
      "epoch 4000, loss 0.479584\n",
      "epoch 5000, loss 0.428933\n",
      "epoch 6000, loss 0.272713\n",
      "epoch 7000, loss 0.277821\n",
      "epoch 8000, loss 0.434125\n",
      "epoch 9000, loss 0.389814\n",
      "epoch 10000, loss 0.432575\n"
     ]
    }
   ],
   "source": [
    "BATCH_SIZE = 128\n",
    "EPOCH = 10000\n",
    "\n",
    "for i in range(EPOCH):\n",
    "    batch_x1, batch_y1 = mnist.train.next_batch(BATCH_SIZE)\n",
    "    batch_x2, batch_y2 = mnist.train.next_batch(BATCH_SIZE)\n",
    "    batch_y = (batch_y1 == batch_y2).astype('float')\n",
    "    _, loss = sess.run([model.optimizer, model.cost], feed_dict={model.X1: batch_x1.reshape((-1,28,28,1)),\n",
    "                                                                 model.X2: batch_x2.reshape((-1,28,28,1)),\n",
    "                                                                 model.Y: batch_y})\n",
    "    if np.isnan(loss):\n",
    "        print('Model diverged with loss = NaN')\n",
    "        quit()\n",
    "    \n",
    "    if (i+1) % 1000 == 0:\n",
    "        print('epoch %d, loss %f'%(i+1,loss))"
   ]
  },
  {
   "cell_type": "code",
   "execution_count": 6,
   "metadata": {},
   "outputs": [],
   "source": [
    "import matplotlib.pyplot as plt\n",
    "import seaborn as sns\n",
    "sns.set()\n",
    "from matplotlib import offsetbox"
   ]
  },
  {
   "cell_type": "code",
   "execution_count": 7,
   "metadata": {},
   "outputs": [],
   "source": [
    "embed = model.output1.eval({model.X1: mnist.test.images.reshape((-1,28,28,1))})"
   ]
  },
  {
   "cell_type": "code",
   "execution_count": 8,
   "metadata": {},
   "outputs": [
    {
     "data": {
      "image/png": "[encoded data removed]",
      "text/plain": [
       "<matplotlib.figure.Figure at 0x7fd619aaabe0>"
      ]
     },
     "metadata": {},
     "output_type": "display_data"
    }
   ],
   "source": [
    "x_test = mnist.test.images.reshape([-1, 28, 28])\n",
    "y_test = mnist.test.labels\n",
    "\n",
    "ax_min = np.min(embed,0)\n",
    "ax_max = np.max(embed,0)\n",
    "ax_dist_sq = np.sum((ax_max-ax_min)**2)\n",
    "plt.figure(figsize=(8,8))\n",
    "ax = plt.subplot(111)\n",
    "colormap = plt.get_cmap('tab10')\n",
    "shown_images = np.array([[1., 1.]])\n",
    "for i in range(embed.shape[0]):\n",
    "    dist = np.sum((embed[i] - shown_images)**2, 1)\n",
    "    if np.min(dist) < 3e-4*ax_dist_sq:\n",
    "        continue\n",
    "    shown_images = np.r_[shown_images, [embed[i]]]\n",
    "    patch_to_color = np.expand_dims(x_test[i], -1)\n",
    "    patch_to_color = np.tile(patch_to_color, (1, 1, 3))\n",
    "    patch_to_color = (1-patch_to_color) * (1,1,1) + patch_to_color * colormap(y_test[i]/10.)[:3]\n",
    "    imagebox = offsetbox.AnnotationBbox(\n",
    "        offsetbox.OffsetImage(patch_to_color, zoom=0.5, cmap=plt.cm.gray_r),\n",
    "        xy=embed[i], frameon=False\n",
    "    )\n",
    "    ax.add_artist(imagebox)\n",
    "\n",
    "plt.axis([ax_min[0], ax_max[0], ax_min[1], ax_max[1]])\n",
    "plt.title('Embedding from the last layer of the network')\n",
    "plt.show()"
   ]
  },
  {
   "cell_type": "code",
   "execution_count": null,
   "metadata": {},
   "outputs": [],
   "source": []
  }
 ],
 "metadata": {
  "kernelspec": {
   "display_name": "Python 3",
   "language": "python",
   "name": "python3"
  },
  "language_info": {
   "codemirror_mode": {
    "name": "ipython",
    "version": 3
   },
   "file_extension": ".py",
   "mimetype": "text/x-python",
   "name": "python",
   "nbconvert_exporter": "python",
   "pygments_lexer": "ipython3",
   "version": "3.5.2"
  }
 },
 "nbformat": 4,
 "nbformat_minor": 2
}
