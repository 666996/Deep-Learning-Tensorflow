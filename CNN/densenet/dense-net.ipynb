{
 "cells": [
  {
   "cell_type": "code",
   "execution_count": 1,
   "metadata": {},
   "outputs": [
    {
     "name": "stderr",
     "output_type": "stream",
     "text": [
      "/usr/local/lib/python3.5/dist-packages/h5py/__init__.py:36: FutureWarning: Conversion of the second argument of issubdtype from `float` to `np.floating` is deprecated. In future, it will be treated as `np.float64 == np.dtype(float).type`.\n",
      "  from ._conv import register_converters as _register_converters\n"
     ]
    }
   ],
   "source": [
    "from tensorflow.examples.tutorials.mnist import input_data\n",
    "import tensorflow as tf\n",
    "import numpy as np\n",
    "import os"
   ]
  },
  {
   "cell_type": "code",
   "execution_count": 2,
   "metadata": {},
   "outputs": [
    {
     "name": "stdout",
     "output_type": "stream",
     "text": [
      "Extracting train-images-idx3-ubyte.gz\n",
      "Extracting train-labels-idx1-ubyte.gz\n",
      "Extracting t10k-images-idx3-ubyte.gz\n",
      "Extracting t10k-labels-idx1-ubyte.gz\n"
     ]
    }
   ],
   "source": [
    "mnist = input_data.read_data_sets('',one_hot=True)"
   ]
  },
  {
   "cell_type": "code",
   "execution_count": 3,
   "metadata": {},
   "outputs": [],
   "source": [
    "from tflearn.layers.conv import global_avg_pool\n",
    "from tensorflow.contrib.layers import batch_norm, flatten\n",
    "from tensorflow.contrib.framework import arg_scope"
   ]
  },
  {
   "cell_type": "code",
   "execution_count": 4,
   "metadata": {},
   "outputs": [],
   "source": [
    "growth_k = 12\n",
    "nb_block = 2\n",
    "learning_rate = 1e-4\n",
    "epsilon = 1e-8\n",
    "dropout_rate = 0.2\n",
    "class_num = 10\n",
    "batch_size = 128\n",
    "epoch = 50"
   ]
  },
  {
   "cell_type": "code",
   "execution_count": null,
   "metadata": {},
   "outputs": [
    {
     "name": "stdout",
     "output_type": "stream",
     "text": [
      "WARNING:tensorflow:From <ipython-input-5-2129832645db>:107: softmax_cross_entropy_with_logits (from tensorflow.python.ops.nn_ops) is deprecated and will be removed in a future version.\n",
      "Instructions for updating:\n",
      "\n",
      "Future major versions of TensorFlow will allow gradients to flow\n",
      "into the labels input on backprop by default.\n",
      "\n",
      "See tf.nn.softmax_cross_entropy_with_logits_v2.\n",
      "\n"
     ]
    }
   ],
   "source": [
    "sess = tf.InteractiveSession()\n",
    "\n",
    "def conv_layer(input, filter, kernel, stride=1, layer_name=\"conv\"):\n",
    "    with tf.name_scope(layer_name):\n",
    "        network = tf.layers.conv2d(inputs=input, filters=filter, kernel_size=kernel, strides=stride, padding='SAME')\n",
    "        return network\n",
    "    \n",
    "def global_average_pooling(x, stride=1):\n",
    "    return global_avg_pool(x, name='gop')\n",
    "\n",
    "def batch_normalization(x, training, scope):\n",
    "    with arg_scope([batch_norm],\n",
    "                   scope=scope,\n",
    "                   updates_collections=None,\n",
    "                   decay=0.9,\n",
    "                   center=True,\n",
    "                   scale=True,\n",
    "                   zero_debias_moving_mean=True) :\n",
    "        return tf.cond(training,\n",
    "                       lambda : batch_norm(inputs=x, is_training=training, reuse=None),\n",
    "                       lambda : batch_norm(inputs=x, is_training=training, reuse=True))\n",
    "\n",
    "def drop_out(x, rate, training) :\n",
    "    return tf.layers.dropout(inputs=x, rate=rate, training=training)\n",
    "\n",
    "def average_pooling(x, pool_size=[2,2], stride=2, padding='VALID'):\n",
    "    return tf.layers.average_pooling2d(inputs=x, pool_size=pool_size, strides=stride, padding=padding)\n",
    "\n",
    "def max_pooling(x, pool_size=[3,3], stride=2, padding='VALID'):\n",
    "    return tf.layers.max_pooling2d(inputs=x, pool_size=pool_size, strides=stride, padding=padding)\n",
    "\n",
    "def concatenation(layers) :\n",
    "    return tf.concat(layers, axis=3)\n",
    "\n",
    "def linear(x) :\n",
    "    return tf.layers.dense(inputs=x, units=class_num, name='linear')\n",
    "\n",
    "class DenseNet():\n",
    "    def __init__(self, x, nb_blocks, filters, training):\n",
    "        self.nb_blocks = nb_blocks\n",
    "        self.filters = filters\n",
    "        self.training = training\n",
    "        self.model = self.Dense_net(x)\n",
    "\n",
    "    def bottleneck_layer(self, x, scope):\n",
    "        with tf.name_scope(scope):\n",
    "            x = batch_normalization(x, training=self.training, scope=scope+'_batch1')\n",
    "            x = tf.nn.relu(x)\n",
    "            x = conv_layer(x, filter=4 * self.filters, kernel=[1,1], layer_name=scope+'_conv1')\n",
    "            x = drop_out(x, rate=dropout_rate, training=self.training)\n",
    "            x = batch_normalization(x, training=self.training, scope=scope+'_batch2')\n",
    "            x = tf.nn.relu(x)\n",
    "            x = conv_layer(x, filter=self.filters, kernel=[3,3], layer_name=scope+'_conv2')\n",
    "            x = drop_out(x, rate=dropout_rate, training=self.training)\n",
    "\n",
    "            return x\n",
    "\n",
    "    def transition_layer(self, x, scope):\n",
    "        with tf.name_scope(scope):\n",
    "            x = batch_normalization(x, training=self.training, scope=scope+'_batch1')\n",
    "            x = tf.nn.relu(x)\n",
    "            x = conv_layer(x, filter=self.filters, kernel=[1,1], layer_name=scope+'_conv1')\n",
    "            x = drop_out(x, rate=dropout_rate, training=self.training)\n",
    "            x = average_pooling(x, pool_size=[2,2], stride=2)\n",
    "\n",
    "            return x\n",
    "\n",
    "    def dense_block(self, input_x, nb_layers, layer_name):\n",
    "        with tf.name_scope(layer_name):\n",
    "            layers_concat = list()\n",
    "            layers_concat.append(input_x)\n",
    "\n",
    "            x = self.bottleneck_layer(input_x, scope=layer_name + '_bottleN_' + str(0))\n",
    "            layers_concat.append(x)\n",
    "\n",
    "            for i in range(nb_layers - 1):\n",
    "                x = concatenation(layers_concat)\n",
    "                x = self.bottleneck_layer(x, scope=layer_name + '_bottleN_' + str(i + 1))\n",
    "                layers_concat.append(x)\n",
    "\n",
    "            x = concatenation(layers_concat)\n",
    "\n",
    "            return x\n",
    "\n",
    "    def Dense_net(self, input_x):\n",
    "        x = conv_layer(input_x, filter=2 * self.filters, kernel=[7,7], stride=2, layer_name='conv0')\n",
    "        x = max_pooling(x, pool_size=[3,3], stride=2)\n",
    "\n",
    "        for i in range(self.nb_blocks) :\n",
    "            # 6 -> 12 -> 48\n",
    "            x = self.dense_block(input_x=x, nb_layers=4, layer_name='dense_'+str(i))\n",
    "            x = self.transition_layer(x, scope='trans_'+str(i))\n",
    "\n",
    "        x = self.dense_block(input_x=x, nb_layers=32, layer_name='dense_final')\n",
    "        x = batch_normalization(x, training=self.training, scope='linear_batch')\n",
    "        x = tf.nn.relu(x)\n",
    "        x = global_average_pooling(x)\n",
    "        x = flatten(x)\n",
    "        x = linear(x)\n",
    "        return x\n",
    "    \n",
    "x = tf.placeholder(tf.float32, shape=[None, 784])\n",
    "batch_images = tf.reshape(x, [-1, 28, 28, 1])\n",
    "label = tf.placeholder(tf.float32, shape=[None,10])\n",
    "training_flag = tf.placeholder(tf.bool)\n",
    "logits = DenseNet(x=batch_images, nb_blocks=nb_block, filters=growth_k, training=training_flag).model\n",
    "cost = tf.reduce_mean(tf.nn.softmax_cross_entropy_with_logits(labels=label, logits=logits))\n",
    "optimizer = tf.train.AdamOptimizer(learning_rate=learning_rate, epsilon=epsilon).minimize(cost)\n",
    "correct_prediction = tf.equal(tf.argmax(logits, 1), tf.argmax(label, 1))\n",
    "accuracy = tf.reduce_mean(tf.cast(correct_prediction, tf.float32))\n",
    "sess.run(tf.global_variables_initializer())"
   ]
  },
  {
   "cell_type": "code",
   "execution_count": null,
   "metadata": {},
   "outputs": [
    {
     "name": "stdout",
     "output_type": "stream",
     "text": [
      "epoch: 1, accuracy train: 0.115603, accuracy testing: 0.156250\n",
      "epoch: 2, accuracy train: 0.243226, accuracy testing: 0.345982\n",
      "epoch: 3, accuracy train: 0.437810, accuracy testing: 0.511161\n",
      "epoch: 4, accuracy train: 0.617297, accuracy testing: 0.705357\n",
      "epoch: 5, accuracy train: 0.778591, accuracy testing: 0.821429\n"
     ]
    }
   ],
   "source": [
    "LOSS, ACC_TRAIN, ACC_TEST = [], [], []\n",
    "for i in range(epoch):\n",
    "    total_loss, total_acc = 0, 0\n",
    "    for n in range(0, (mnist.train.images.shape[0] // batch_size) * batch_size, batch_size):\n",
    "        batch_x = mnist.train.images[n:n+batch_size]\n",
    "        batch_y = mnist.train.labels[n:n+batch_size]\n",
    "        loss, _ = sess.run([cost, optimizer], \n",
    "                           feed_dict = {x : batch_x, \n",
    "                                        label : batch_y,\n",
    "                                       training_flag:True})\n",
    "        total_acc += sess.run(accuracy, \n",
    "                              feed_dict = {x : batch_x, \n",
    "                                           label : batch_y,\n",
    "                                          training_flag:False})\n",
    "        total_loss += loss\n",
    "    total_loss /= (mnist.train.images.shape[0] // batch_size)\n",
    "    total_acc /= (mnist.train.images.shape[0] // batch_size)\n",
    "    ACC_TRAIN.append(total_acc)\n",
    "    total_acc = 0\n",
    "    for n in range(0, (mnist.test.images[:1000,:].shape[0] // batch_size) * batch_size, batch_size):\n",
    "        batch_x = mnist.test.images[n:n+batch_size]\n",
    "        batch_y = mnist.test.labels[n:n+batch_size]\n",
    "        total_acc += sess.run(accuracy, \n",
    "                              feed_dict = {x : batch_x, \n",
    "                                           label : batch_y,\n",
    "                                          training_flag:False})\n",
    "    total_acc /= (mnist.test.images[:1000,:].shape[0] // batch_size)\n",
    "    ACC_TEST.append(total_acc)\n",
    "    print('epoch: %d, accuracy train: %f, accuracy testing: %f'%(i+1, ACC_TRAIN[-1],ACC_TEST[-1]))"
   ]
  }
 ],
 "metadata": {
  "kernelspec": {
   "display_name": "Python 3",
   "language": "python",
   "name": "python3"
  },
  "language_info": {
   "codemirror_mode": {
    "name": "ipython",
    "version": 3
   },
   "file_extension": ".py",
   "mimetype": "text/x-python",
   "name": "python",
   "nbconvert_exporter": "python",
   "pygments_lexer": "ipython3",
   "version": "3.5.2"
  }
 },
 "nbformat": 4,
 "nbformat_minor": 2
}
