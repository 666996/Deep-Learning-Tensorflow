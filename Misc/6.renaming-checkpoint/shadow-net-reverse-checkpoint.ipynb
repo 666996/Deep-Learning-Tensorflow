{
 "cells": [
  {
   "cell_type": "code",
   "execution_count": 1,
   "metadata": {},
   "outputs": [],
   "source": [
    "import numpy as np\n",
    "import tensorflow as tf\n",
    "from crnn_model import crnn_model\n",
    "import json"
   ]
  },
  {
   "cell_type": "code",
   "execution_count": 2,
   "metadata": {},
   "outputs": [],
   "source": [
    "tf.reset_default_graph()\n",
    "sess = tf.InteractiveSession()"
   ]
  },
  {
   "cell_type": "code",
   "execution_count": 3,
   "metadata": {},
   "outputs": [
    {
     "name": "stdout",
     "output_type": "stream",
     "text": [
      "global_step global_step\n",
      "shadow/BatchNorm/beta shadow/batch_normalization/beta\n",
      "shadow/BatchNorm/beta/Adadelta shadow/batch_normalization/beta/Adadelta\n",
      "shadow/BatchNorm/beta/Adadelta_1 shadow/batch_normalization/beta/Adadelta_1\n",
      "shadow/BatchNorm/gamma shadow/batch_normalization/gamma\n",
      "shadow/BatchNorm/gamma/Adadelta shadow/batch_normalization/gamma/Adadelta\n",
      "shadow/BatchNorm/gamma/Adadelta_1 shadow/batch_normalization/gamma/Adadelta_1\n",
      "shadow/BatchNorm/moving_mean shadow/batch_normalization/moving_mean\n",
      "shadow/BatchNorm/moving_variance shadow/batch_normalization/moving_variance\n",
      "shadow/BatchNorm_1/beta shadow/batch_normalization_1/beta\n",
      "shadow/BatchNorm_1/beta/Adadelta shadow/batch_normalization_1/beta/Adadelta\n",
      "shadow/BatchNorm_1/beta/Adadelta_1 shadow/batch_normalization_1/beta/Adadelta_1\n",
      "shadow/BatchNorm_1/gamma shadow/batch_normalization_1/gamma\n",
      "shadow/BatchNorm_1/gamma/Adadelta shadow/batch_normalization_1/gamma/Adadelta\n",
      "shadow/BatchNorm_1/gamma/Adadelta_1 shadow/batch_normalization_1/gamma/Adadelta_1\n",
      "shadow/BatchNorm_1/moving_mean shadow/batch_normalization_1/moving_mean\n",
      "shadow/BatchNorm_1/moving_variance shadow/batch_normalization_1/moving_variance\n",
      "shadow/LSTMLayers/stack_bidirectional_rnn/cell_0/bidirectional_rnn/bw/basic_lstm_cell/bias shadow/LSTMLayers/stack_bidirectional_rnn/cell_0/bidirectional_rnn/bw/basic_lstm_cell/bias\n",
      "shadow/LSTMLayers/stack_bidirectional_rnn/cell_0/bidirectional_rnn/bw/basic_lstm_cell/bias/Adadelta shadow/LSTMLayers/stack_bidirectional_rnn/cell_0/bidirectional_rnn/bw/basic_lstm_cell/bias/Adadelta\n",
      "shadow/LSTMLayers/stack_bidirectional_rnn/cell_0/bidirectional_rnn/bw/basic_lstm_cell/bias/Adadelta_1 shadow/LSTMLayers/stack_bidirectional_rnn/cell_0/bidirectional_rnn/bw/basic_lstm_cell/bias/Adadelta_1\n",
      "shadow/LSTMLayers/stack_bidirectional_rnn/cell_0/bidirectional_rnn/bw/basic_lstm_cell/kernel shadow/LSTMLayers/stack_bidirectional_rnn/cell_0/bidirectional_rnn/bw/basic_lstm_cell/kernel\n",
      "shadow/LSTMLayers/stack_bidirectional_rnn/cell_0/bidirectional_rnn/bw/basic_lstm_cell/kernel/Adadelta shadow/LSTMLayers/stack_bidirectional_rnn/cell_0/bidirectional_rnn/bw/basic_lstm_cell/kernel/Adadelta\n",
      "shadow/LSTMLayers/stack_bidirectional_rnn/cell_0/bidirectional_rnn/bw/basic_lstm_cell/kernel/Adadelta_1 shadow/LSTMLayers/stack_bidirectional_rnn/cell_0/bidirectional_rnn/bw/basic_lstm_cell/kernel/Adadelta_1\n",
      "shadow/LSTMLayers/stack_bidirectional_rnn/cell_0/bidirectional_rnn/fw/basic_lstm_cell/bias shadow/LSTMLayers/stack_bidirectional_rnn/cell_0/bidirectional_rnn/fw/basic_lstm_cell/bias\n",
      "shadow/LSTMLayers/stack_bidirectional_rnn/cell_0/bidirectional_rnn/fw/basic_lstm_cell/bias/Adadelta shadow/LSTMLayers/stack_bidirectional_rnn/cell_0/bidirectional_rnn/fw/basic_lstm_cell/bias/Adadelta\n",
      "shadow/LSTMLayers/stack_bidirectional_rnn/cell_0/bidirectional_rnn/fw/basic_lstm_cell/bias/Adadelta_1 shadow/LSTMLayers/stack_bidirectional_rnn/cell_0/bidirectional_rnn/fw/basic_lstm_cell/bias/Adadelta_1\n",
      "shadow/LSTMLayers/stack_bidirectional_rnn/cell_0/bidirectional_rnn/fw/basic_lstm_cell/kernel shadow/LSTMLayers/stack_bidirectional_rnn/cell_0/bidirectional_rnn/fw/basic_lstm_cell/kernel\n",
      "shadow/LSTMLayers/stack_bidirectional_rnn/cell_0/bidirectional_rnn/fw/basic_lstm_cell/kernel/Adadelta shadow/LSTMLayers/stack_bidirectional_rnn/cell_0/bidirectional_rnn/fw/basic_lstm_cell/kernel/Adadelta\n",
      "shadow/LSTMLayers/stack_bidirectional_rnn/cell_0/bidirectional_rnn/fw/basic_lstm_cell/kernel/Adadelta_1 shadow/LSTMLayers/stack_bidirectional_rnn/cell_0/bidirectional_rnn/fw/basic_lstm_cell/kernel/Adadelta_1\n",
      "shadow/LSTMLayers/stack_bidirectional_rnn/cell_1/bidirectional_rnn/bw/basic_lstm_cell/bias shadow/LSTMLayers/stack_bidirectional_rnn/cell_1/bidirectional_rnn/bw/basic_lstm_cell/bias\n",
      "shadow/LSTMLayers/stack_bidirectional_rnn/cell_1/bidirectional_rnn/bw/basic_lstm_cell/bias/Adadelta shadow/LSTMLayers/stack_bidirectional_rnn/cell_1/bidirectional_rnn/bw/basic_lstm_cell/bias/Adadelta\n",
      "shadow/LSTMLayers/stack_bidirectional_rnn/cell_1/bidirectional_rnn/bw/basic_lstm_cell/bias/Adadelta_1 shadow/LSTMLayers/stack_bidirectional_rnn/cell_1/bidirectional_rnn/bw/basic_lstm_cell/bias/Adadelta_1\n",
      "shadow/LSTMLayers/stack_bidirectional_rnn/cell_1/bidirectional_rnn/bw/basic_lstm_cell/kernel shadow/LSTMLayers/stack_bidirectional_rnn/cell_1/bidirectional_rnn/bw/basic_lstm_cell/kernel\n",
      "shadow/LSTMLayers/stack_bidirectional_rnn/cell_1/bidirectional_rnn/bw/basic_lstm_cell/kernel/Adadelta shadow/LSTMLayers/stack_bidirectional_rnn/cell_1/bidirectional_rnn/bw/basic_lstm_cell/kernel/Adadelta\n",
      "shadow/LSTMLayers/stack_bidirectional_rnn/cell_1/bidirectional_rnn/bw/basic_lstm_cell/kernel/Adadelta_1 shadow/LSTMLayers/stack_bidirectional_rnn/cell_1/bidirectional_rnn/bw/basic_lstm_cell/kernel/Adadelta_1\n",
      "shadow/LSTMLayers/stack_bidirectional_rnn/cell_1/bidirectional_rnn/fw/basic_lstm_cell/bias shadow/LSTMLayers/stack_bidirectional_rnn/cell_1/bidirectional_rnn/fw/basic_lstm_cell/bias\n",
      "shadow/LSTMLayers/stack_bidirectional_rnn/cell_1/bidirectional_rnn/fw/basic_lstm_cell/bias/Adadelta shadow/LSTMLayers/stack_bidirectional_rnn/cell_1/bidirectional_rnn/fw/basic_lstm_cell/bias/Adadelta\n",
      "shadow/LSTMLayers/stack_bidirectional_rnn/cell_1/bidirectional_rnn/fw/basic_lstm_cell/bias/Adadelta_1 shadow/LSTMLayers/stack_bidirectional_rnn/cell_1/bidirectional_rnn/fw/basic_lstm_cell/bias/Adadelta_1\n",
      "shadow/LSTMLayers/stack_bidirectional_rnn/cell_1/bidirectional_rnn/fw/basic_lstm_cell/kernel shadow/LSTMLayers/stack_bidirectional_rnn/cell_1/bidirectional_rnn/fw/basic_lstm_cell/kernel\n",
      "shadow/LSTMLayers/stack_bidirectional_rnn/cell_1/bidirectional_rnn/fw/basic_lstm_cell/kernel/Adadelta shadow/LSTMLayers/stack_bidirectional_rnn/cell_1/bidirectional_rnn/fw/basic_lstm_cell/kernel/Adadelta\n",
      "shadow/LSTMLayers/stack_bidirectional_rnn/cell_1/bidirectional_rnn/fw/basic_lstm_cell/kernel/Adadelta_1 shadow/LSTMLayers/stack_bidirectional_rnn/cell_1/bidirectional_rnn/fw/basic_lstm_cell/kernel/Adadelta_1\n",
      "shadow/LSTMLayers/w shadow/LSTMLayers/w\n",
      "shadow/LSTMLayers/w/Adadelta shadow/LSTMLayers/w/Adadelta\n",
      "shadow/LSTMLayers/w/Adadelta_1 shadow/LSTMLayers/w/Adadelta_1\n",
      "shadow/conv1/W shadow/conv1/W\n",
      "shadow/conv1/W/Adadelta shadow/conv1/W/Adadelta\n",
      "shadow/conv1/W/Adadelta_1 shadow/conv1/W/Adadelta_1\n",
      "shadow/conv2/W shadow/conv2/W\n",
      "shadow/conv2/W/Adadelta shadow/conv2/W/Adadelta\n",
      "shadow/conv2/W/Adadelta_1 shadow/conv2/W/Adadelta_1\n",
      "shadow/conv3/W shadow/conv3/W\n",
      "shadow/conv3/W/Adadelta shadow/conv3/W/Adadelta\n",
      "shadow/conv3/W/Adadelta_1 shadow/conv3/W/Adadelta_1\n",
      "shadow/conv4/W shadow/conv4/W\n",
      "shadow/conv4/W/Adadelta shadow/conv4/W/Adadelta\n",
      "shadow/conv4/W/Adadelta_1 shadow/conv4/W/Adadelta_1\n",
      "shadow/conv5/W shadow/conv5/W\n",
      "shadow/conv5/W/Adadelta shadow/conv5/W/Adadelta\n",
      "shadow/conv5/W/Adadelta_1 shadow/conv5/W/Adadelta_1\n",
      "shadow/conv6/W shadow/conv6/W\n",
      "shadow/conv6/W/Adadelta shadow/conv6/W/Adadelta\n",
      "shadow/conv6/W/Adadelta_1 shadow/conv6/W/Adadelta_1\n",
      "shadow/conv7/W shadow/conv7/W\n",
      "shadow/conv7/W/Adadelta shadow/conv7/W/Adadelta\n",
      "shadow/conv7/W/Adadelta_1 shadow/conv7/W/Adadelta_1\n"
     ]
    }
   ],
   "source": [
    "new_vars = []\n",
    "vars_checkpoint = tf.contrib.framework.list_variables('shadownet/shadownet_2017-09-29-19-16-33.ckpt-39999')\n",
    "for name, shape in vars_checkpoint:\n",
    "    v = tf.contrib.framework.load_variable('shadownet/shadownet_2017-09-29-19-16-33.ckpt-39999', name)\n",
    "    print(name, name.replace('BatchNorm', 'batch_normalization'))\n",
    "    new_vars.append(tf.Variable(v, name=name.replace('BatchNorm', 'batch_normalization')))"
   ]
  },
  {
   "cell_type": "code",
   "execution_count": 4,
   "metadata": {},
   "outputs": [
    {
     "data": {
      "text/plain": [
       "'rename-checkpoint2/model.ckpt'"
      ]
     },
     "execution_count": 4,
     "metadata": {},
     "output_type": "execute_result"
    }
   ],
   "source": [
    "saver = tf.train.Saver(new_vars)\n",
    "sess.run(tf.global_variables_initializer())\n",
    "saver.save(sess, 'rename-checkpoint2/model.ckpt')"
   ]
  },
  {
   "cell_type": "code",
   "execution_count": null,
   "metadata": {},
   "outputs": [],
   "source": []
  }
 ],
 "metadata": {
  "kernelspec": {
   "display_name": "Python 3",
   "language": "python",
   "name": "python3"
  },
  "language_info": {
   "codemirror_mode": {
    "name": "ipython",
    "version": 3
   },
   "file_extension": ".py",
   "mimetype": "text/x-python",
   "name": "python",
   "nbconvert_exporter": "python",
   "pygments_lexer": "ipython3",
   "version": "3.5.2"
  }
 },
 "nbformat": 4,
 "nbformat_minor": 2
}
