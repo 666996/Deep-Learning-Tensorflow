{
 "cells": [
  {
   "cell_type": "code",
   "execution_count": 1,
   "metadata": {},
   "outputs": [],
   "source": [
    "import numpy as np\n",
    "import tensorflow as tf\n",
    "from crnn_model import crnn_model\n",
    "import json"
   ]
  },
  {
   "cell_type": "code",
   "execution_count": 2,
   "metadata": {},
   "outputs": [],
   "source": [
    "with open('crnn_model/char_dict.json') as fopen:\n",
    "    char_dict = json.load(fopen)\n",
    "    \n",
    "with open('crnn_model/ord_map.json') as fopen:\n",
    "    order_dict = json.load(fopen)"
   ]
  },
  {
   "cell_type": "code",
   "execution_count": 3,
   "metadata": {},
   "outputs": [],
   "source": [
    "class Model:\n",
    "    def __init__(self):\n",
    "        self.X = tf.placeholder(tf.float32,(None,None,3))\n",
    "        image = tf.expand_dims(self.X, 0)\n",
    "        image = tf.image.resize_images(image, [32, 100])\n",
    "        num_classes = 37\n",
    "        net = crnn_model.ShadowNet(phase = 'Test', \n",
    "                                   hidden_nums = 256,\n",
    "                                   layers_nums = 2,\n",
    "                                   num_classes = num_classes)\n",
    "        with tf.variable_scope('shadow'):\n",
    "            net_out = net.build_shadownet(inputdata=image)\n",
    "        self.decode, _ = tf.nn.ctc_beam_search_decoder(net_out, 25 * np.ones(1), merge_repeated=False)"
   ]
  },
  {
   "cell_type": "code",
   "execution_count": 4,
   "metadata": {},
   "outputs": [
    {
     "name": "stdout",
     "output_type": "stream",
     "text": [
      "INFO:tensorflow:Restoring parameters from rename-checkpoint2/model.ckpt\n"
     ]
    }
   ],
   "source": [
    "tf.reset_default_graph()\n",
    "sess = tf.InteractiveSession()\n",
    "model = Model()\n",
    "sess.run(tf.global_variables_initializer())\n",
    "saver = tf.train.Saver(tf.global_variables())\n",
    "saver.restore(sess, 'rename-checkpoint2/model.ckpt')"
   ]
  },
  {
   "cell_type": "code",
   "execution_count": 5,
   "metadata": {},
   "outputs": [],
   "source": [
    "import cv2\n",
    "image = cv2.imread('back-car.jpeg', cv2.IMREAD_COLOR)"
   ]
  },
  {
   "cell_type": "code",
   "execution_count": 6,
   "metadata": {},
   "outputs": [
    {
     "data": {
      "text/plain": [
       "(74, 302, 3)"
      ]
     },
     "execution_count": 6,
     "metadata": {},
     "output_type": "execute_result"
    }
   ],
   "source": [
    "image.shape"
   ]
  },
  {
   "cell_type": "code",
   "execution_count": 7,
   "metadata": {},
   "outputs": [],
   "source": [
    "output = sess.run(model.decode,feed_dict={model.X:image})[0]"
   ]
  },
  {
   "cell_type": "code",
   "execution_count": 8,
   "metadata": {},
   "outputs": [
    {
     "data": {
      "text/plain": [
       "SparseTensorValue(indices=array([[0, 0],\n",
       "       [0, 1],\n",
       "       [0, 2],\n",
       "       [0, 3],\n",
       "       [0, 4],\n",
       "       [0, 5],\n",
       "       [0, 6],\n",
       "       [0, 7]]), values=array([15, 18, 14, 15, 18, 17, 17, 13]), dense_shape=array([1, 8]))"
      ]
     },
     "execution_count": 8,
     "metadata": {},
     "output_type": "execute_result"
    }
   ],
   "source": [
    "output"
   ]
  },
  {
   "cell_type": "code",
   "execution_count": 9,
   "metadata": {},
   "outputs": [],
   "source": [
    "def sparse_tensor_to_str(sparse_tensor):\n",
    "    indices = sparse_tensor.indices\n",
    "    values = sparse_tensor.values\n",
    "    values = np.array([order_dict[str(tmp)] for tmp in values])\n",
    "    dense_shape = sparse_tensor.dense_shape\n",
    "\n",
    "    number_lists = np.ones(dense_shape, dtype=values.dtype)\n",
    "    str_lists = []\n",
    "    res = []\n",
    "    for i, index in enumerate(indices):\n",
    "        number_lists[index[0], index[1]] = values[i]\n",
    "    for number_list in number_lists:\n",
    "        str_lists.append([char_dict[val] for val in number_list])\n",
    "    for str_list in str_lists:\n",
    "        res.append(''.join(c for c in str_list if c != '\\x00'))\n",
    "    return res"
   ]
  },
  {
   "cell_type": "code",
   "execution_count": 10,
   "metadata": {},
   "outputs": [
    {
     "data": {
      "text/plain": [
       "'psopsrrn'"
      ]
     },
     "execution_count": 10,
     "metadata": {},
     "output_type": "execute_result"
    }
   ],
   "source": [
    "sparse_tensor_to_str(output)[0]"
   ]
  },
  {
   "cell_type": "code",
   "execution_count": 11,
   "metadata": {},
   "outputs": [],
   "source": [
    "char_list = '0123456789abcdefghijklmnopqrstuvwxyz '"
   ]
  },
  {
   "cell_type": "code",
   "execution_count": 12,
   "metadata": {},
   "outputs": [],
   "source": [
    "def sparse_tensor_to_str2(spares_tensor):\n",
    "\n",
    "    indices = spares_tensor.indices\n",
    "    values = spares_tensor.values\n",
    "    dense_shape = spares_tensor.dense_shape\n",
    "\n",
    "    number_lists = np.ones(dense_shape, dtype=values.dtype)\n",
    "    str_lists = []\n",
    "    res = []\n",
    "    for i, index in enumerate(indices):\n",
    "        number_lists[index[0], index[1]] = values[i]\n",
    "    for number_list in number_lists:\n",
    "        str_lists.append([char_list[val] for val in number_list])\n",
    "    for str_list in str_lists:\n",
    "        res.append(''.join(c for c in str_list if c != '1'))\n",
    "    return res"
   ]
  },
  {
   "cell_type": "code",
   "execution_count": 13,
   "metadata": {},
   "outputs": [
    {
     "data": {
      "text/plain": [
       "['fiefihhd']"
      ]
     },
     "execution_count": 13,
     "metadata": {},
     "output_type": "execute_result"
    }
   ],
   "source": [
    "sparse_tensor_to_str2(output)"
   ]
  },
  {
   "cell_type": "code",
   "execution_count": null,
   "metadata": {},
   "outputs": [],
   "source": []
  }
 ],
 "metadata": {
  "kernelspec": {
   "display_name": "Python 3",
   "language": "python",
   "name": "python3"
  },
  "language_info": {
   "codemirror_mode": {
    "name": "ipython",
    "version": 3
   },
   "file_extension": ".py",
   "mimetype": "text/x-python",
   "name": "python",
   "nbconvert_exporter": "python",
   "pygments_lexer": "ipython3",
   "version": "3.5.2"
  }
 },
 "nbformat": 4,
 "nbformat_minor": 2
}
