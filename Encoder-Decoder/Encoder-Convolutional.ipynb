{
 "cells": [
  {
   "cell_type": "code",
   "execution_count": 1,
   "metadata": {
    "collapsed": true
   },
   "outputs": [],
   "source": [
    "%matplotlib inline\n",
    "\n",
    "import numpy as np\n",
    "import tensorflow as tf\n",
    "import matplotlib.pyplot as plt"
   ]
  },
  {
   "cell_type": "code",
   "execution_count": 2,
   "metadata": {},
   "outputs": [
    {
     "name": "stdout",
     "output_type": "stream",
     "text": [
      "Extracting /home/project/imagerecognition/train-images-idx3-ubyte.gz\n",
      "Extracting /home/project/imagerecognition/train-labels-idx1-ubyte.gz\n",
      "Extracting /home/project/imagerecognition/t10k-images-idx3-ubyte.gz\n",
      "Extracting /home/project/imagerecognition/t10k-labels-idx1-ubyte.gz\n"
     ]
    }
   ],
   "source": [
    "from tensorflow.examples.tutorials.mnist import input_data\n",
    "mnist = input_data.read_data_sets('/home/project/imagerecognition', validation_size = 0)"
   ]
  },
  {
   "cell_type": "code",
   "execution_count": 3,
   "metadata": {},
   "outputs": [
    {
     "data": {
      "text/plain": [
       "<matplotlib.image.AxesImage at 0x7f133d33bfd0>"
      ]
     },
     "execution_count": 3,
     "metadata": {},
     "output_type": "execute_result"
    },
    {
     "data": {
      "image/png": "[encoded data removed]",
      "text/plain": [
       "<matplotlib.figure.Figure at 0x7f133d9a2410>"
      ]
     },
     "metadata": {},
     "output_type": "display_data"
    }
   ],
   "source": [
    "img = mnist.train.images[2]\n",
    "plt.imshow(img.reshape((28, 28)), cmap = 'Greys_r')"
   ]
  },
  {
   "cell_type": "code",
   "execution_count": 4,
   "metadata": {},
   "outputs": [],
   "source": [
    "inputs = tf.placeholder(tf.float32, (None, 28, 28, 1))\n",
    "\n",
    "def convolutionize(x, conv_w, h = 1):\n",
    "    return tf.nn.conv2d(input = x, filter = conv_w, strides = [1, h, h, 1], padding = 'SAME')\n",
    "\n",
    "def pooling(wx):\n",
    "    return tf.nn.max_pool(wx, ksize = [1, 2, 2, 1], strides = [1, 2, 2, 1], padding = 'SAME')\n",
    "\n",
    "w1 = tf.Variable(tf.random_normal([3, 3, 1, 16], stddev = 0.5))\n",
    "b1 = tf.Variable(tf.zeros(shape = [16]))\n",
    "w2 = tf.Variable(tf.random_normal([3, 3, 16, 8], stddev = 0.5))\n",
    "b2 = tf.Variable(tf.zeros(shape = [8]))\n",
    "w3 = tf.Variable(tf.random_normal([3, 3, 8, 8], stddev = 0.5))\n",
    "b3 = tf.Variable(tf.zeros(shape = [8]))\n",
    "\n",
    "conv1 = pooling(tf.nn.relu(convolutionize(inputs, w1) + b1))\n",
    "conv2 = pooling(tf.nn.relu(convolutionize(conv1, w2) + b2))\n",
    "encoded = pooling(tf.nn.relu(convolutionize(conv2, w3) + b3))\n",
    "\n",
    "encoded = tf.image.resize_nearest_neighbor(encoded, (7,7))\n",
    "\n",
    "w4 = tf.Variable(tf.random_normal([3, 3, int(encoded.shape[3]), 8], stddev = 0.5))\n",
    "b4 = tf.Variable(tf.zeros(shape = [8]))\n",
    "\n",
    "conv3 = tf.nn.relu(convolutionize(encoded, w4) + b4)\n",
    "conv3 = tf.image.resize_nearest_neighbor(encoded, (14, 14))\n",
    "\n",
    "w5 = tf.Variable(tf.random_normal([3, 3, int(conv3.shape[3]), 8], stddev = 0.5))\n",
    "b5 = tf.Variable(tf.zeros(shape = [8]))\n",
    "\n",
    "conv4 = tf.nn.relu(convolutionize(conv3, w5) + b5)\n",
    "conv4 = tf.image.resize_nearest_neighbor(encoded, (28, 28))\n",
    "\n",
    "w6 = tf.Variable(tf.random_normal([3, 3, int(conv4.shape[3]), 16], stddev = 0.5))\n",
    "b6 = tf.Variable(tf.zeros(shape = [16]))\n",
    "\n",
    "conv5 = tf.nn.relu(convolutionize(conv4, w6) + b6)\n",
    "\n",
    "w7 = tf.Variable(tf.random_normal([3, 3, int(conv5.shape[3]), 1], stddev = 0.5))\n",
    "b7 = tf.Variable(tf.zeros(shape = [1]))\n",
    "\n",
    "logits = convolutionize(conv5, w7) + b7\n",
    "decoded = tf.nn.sigmoid(logits)\n",
    "\n",
    "loss = tf.reduce_mean(tf.nn.sigmoid_cross_entropy_with_logits(labels = inputs, logits = logits))\n",
    "opt = tf.train.AdamOptimizer(0.01).minimize(loss)"
   ]
  },
  {
   "cell_type": "code",
   "execution_count": 5,
   "metadata": {},
   "outputs": [
    {
     "name": "stdout",
     "output_type": "stream",
     "text": [
      "Epoch:1, loss: 0.944287206829\n",
      "Epoch:2, loss: 0.256071705619\n",
      "Epoch:3, loss: 0.231479127258\n",
      "Epoch:4, loss: 0.216903027793\n",
      "Epoch:5, loss: 0.209671331644\n",
      "Epoch:6, loss: 0.204414404581\n",
      "Epoch:7, loss: 0.200140404006\n",
      "Epoch:8, loss: 0.196449869921\n",
      "Epoch:9, loss: 0.193713940581\n",
      "Epoch:10, loss: 0.191717518369\n",
      "Epoch:11, loss: 0.189723909448\n",
      "Epoch:12, loss: 0.187901881387\n",
      "Epoch:13, loss: 0.185702747802\n",
      "Epoch:14, loss: 0.183840585401\n",
      "Epoch:15, loss: 0.1824847202\n",
      "Epoch:16, loss: 0.181424424301\n",
      "Epoch:17, loss: 0.180779701918\n",
      "Epoch:18, loss: 0.1802581653\n",
      "Epoch:19, loss: 0.179296328177\n",
      "Epoch:20, loss: 0.178475355903\n"
     ]
    }
   ],
   "source": [
    "sess = tf.InteractiveSession()\n",
    "sess.run(tf.global_variables_initializer())\n",
    "\n",
    "EPOCH = 20\n",
    "BATCH_SIZE = 200\n",
    "for i in xrange(EPOCH):\n",
    "    TOTAL_LOST = 0\n",
    "    for k in xrange(mnist.train.num_examples // BATCH_SIZE):\n",
    "        batch = mnist.train.next_batch(BATCH_SIZE)\n",
    "        imgs = batch[0].reshape((-1, 28, 28, 1))\n",
    "        batch_cost, _ = sess.run([loss, opt], feed_dict = {inputs: imgs})\n",
    "        TOTAL_LOST += batch_cost\n",
    "    \n",
    "    print 'Epoch:' + str(i + 1) + ', loss: ' + str(TOTAL_LOST / (mnist.train.num_examples // BATCH_SIZE) * 1.0)"
   ]
  },
  {
   "cell_type": "code",
   "execution_count": 6,
   "metadata": {},
   "outputs": [
    {
     "data": {
      "image/png": "[encoded data removed]",
      "text/plain": [
       "<matplotlib.figure.Figure at 0x7f133d373510>"
      ]
     },
     "metadata": {},
     "output_type": "display_data"
    }
   ],
   "source": [
    "fig, axes = plt.subplots(nrows = 2, ncols = 10, sharex = True, sharey = True, figsize = (20,4))\n",
    "in_imgs = mnist.test.images[:10]\n",
    "reconstructed = sess.run(decoded, feed_dict={inputs: in_imgs.reshape((10, 28, 28, 1))})\n",
    "\n",
    "for images, row in zip([in_imgs, reconstructed], axes):\n",
    "    for img, ax in zip(images, row):\n",
    "        ax.imshow(img.reshape((28, 28)), cmap = 'Greys_r')\n",
    "        ax.get_xaxis().set_visible(False)\n",
    "        ax.get_yaxis().set_visible(False)\n",
    "\n",
    "fig.tight_layout(pad = 0.1)"
   ]
  },
  {
   "cell_type": "code",
   "execution_count": 7,
   "metadata": {
    "collapsed": true
   },
   "outputs": [],
   "source": [
    "tf.reset_default_graph()\n",
    "inputs = tf.placeholder(tf.float32, (None, 28, 28, 1))\n",
    "\n",
    "conv1 = tf.layers.conv2d(inputs, 16, (3, 3), padding = 'same', activation = tf.nn.relu)\n",
    "maxpool1 = tf.layers.max_pooling2d(conv1, (2, 2), (2, 2), padding = 'same')\n",
    "conv2 = tf.layers.conv2d(maxpool1, 8, (3, 3), padding = 'same', activation = tf.nn.relu)\n",
    "maxpool2 = tf.layers.max_pooling2d(conv2, (2,2), (2, 2), padding = 'same')\n",
    "conv3 = tf.layers.conv2d(maxpool2, 8, (3, 3), padding = 'same', activation = tf.nn.relu)\n",
    "encoded = tf.layers.max_pooling2d(conv3, (2, 2), (2, 2), padding = 'same')\n",
    "\n",
    "upsample1 = tf.image.resize_nearest_neighbor(encoded, (7, 7))\n",
    "\n",
    "conv4 = tf.layers.conv2d(upsample1, 8, (3, 3), padding = 'same', activation = tf.nn.relu)\n",
    "upsample2 = tf.image.resize_nearest_neighbor(conv4, (14, 14))\n",
    "conv5 = tf.layers.conv2d(upsample2, 8, (3, 3), padding = 'same', activation = tf.nn.relu)\n",
    "upsample3 = tf.image.resize_nearest_neighbor(conv5, (28, 28))\n",
    "conv6 = tf.layers.conv2d(upsample3, 16, (3, 3), padding = 'same', activation = tf.nn.relu)\n",
    "\n",
    "logits = tf.layers.conv2d(conv6, 1, (3, 3), padding = 'same', activation = None)\n",
    "decoded = tf.nn.sigmoid(logits, name='decoded')\n",
    "\n",
    "loss = tf.nn.sigmoid_cross_entropy_with_logits(labels = inputs, logits = logits)\n",
    "cost = tf.reduce_mean(loss)\n",
    "opt = tf.train.AdamOptimizer(0.001).minimize(cost)"
   ]
  },
  {
   "cell_type": "code",
   "execution_count": 8,
   "metadata": {},
   "outputs": [
    {
     "name": "stdout",
     "output_type": "stream",
     "text": [
      "Epoch:1, loss: 0.232885390272\n",
      "Epoch:2, loss: 0.141064813832\n",
      "Epoch:3, loss: 0.126160111825\n",
      "Epoch:4, loss: 0.118467650985\n",
      "Epoch:5, loss: 0.113979848077\n",
      "Epoch:6, loss: 0.110846565093\n",
      "Epoch:7, loss: 0.108360815619\n",
      "Epoch:8, loss: 0.106341208791\n",
      "Epoch:9, loss: 0.104733094151\n",
      "Epoch:10, loss: 0.10316217117\n",
      "Epoch:11, loss: 0.101932368452\n",
      "Epoch:12, loss: 0.100871126925\n",
      "Epoch:13, loss: 0.099986186251\n",
      "Epoch:14, loss: 0.0991120377183\n",
      "Epoch:15, loss: 0.098448495989\n",
      "Epoch:16, loss: 0.0977650545786\n",
      "Epoch:17, loss: 0.0972333544244\n",
      "Epoch:18, loss: 0.0966798994442\n",
      "Epoch:19, loss: 0.0962372431904\n",
      "Epoch:20, loss: 0.0958718087276\n"
     ]
    }
   ],
   "source": [
    "sess = tf.InteractiveSession()\n",
    "sess.run(tf.global_variables_initializer())\n",
    "\n",
    "EPOCH = 20\n",
    "BATCH_SIZE = 200\n",
    "for i in xrange(EPOCH):\n",
    "    TOTAL_LOST = 0\n",
    "    for k in xrange(mnist.train.num_examples // BATCH_SIZE):\n",
    "        batch = mnist.train.next_batch(BATCH_SIZE)\n",
    "        imgs = batch[0].reshape((-1, 28, 28, 1))\n",
    "        batch_cost, _ = sess.run([cost, opt], feed_dict = {inputs: imgs})\n",
    "        TOTAL_LOST += batch_cost\n",
    "    \n",
    "    print 'Epoch:' + str(i + 1) + ', loss: ' + str(TOTAL_LOST / (mnist.train.num_examples // BATCH_SIZE) * 1.0)"
   ]
  },
  {
   "cell_type": "code",
   "execution_count": 9,
   "metadata": {},
   "outputs": [
    {
     "data": {
      "image/png": "[encoded data removed]",
      "text/plain": [
       "<matplotlib.figure.Figure at 0x7f132f344b50>"
      ]
     },
     "metadata": {},
     "output_type": "display_data"
    }
   ],
   "source": [
    "fig, axes = plt.subplots(nrows = 2, ncols = 10, sharex = True, sharey = True, figsize = (20,4))\n",
    "in_imgs = mnist.test.images[:10]\n",
    "reconstructed = sess.run(decoded, feed_dict={inputs: in_imgs.reshape((10, 28, 28, 1))})\n",
    "\n",
    "for images, row in zip([in_imgs, reconstructed], axes):\n",
    "    for img, ax in zip(images, row):\n",
    "        ax.imshow(img.reshape((28, 28)), cmap = 'Greys_r')\n",
    "        ax.get_xaxis().set_visible(False)\n",
    "        ax.get_yaxis().set_visible(False)\n",
    "\n",
    "fig.tight_layout(pad = 0.1)"
   ]
  },
  {
   "cell_type": "code",
   "execution_count": null,
   "metadata": {
    "collapsed": true
   },
   "outputs": [],
   "source": []
  }
 ],
 "metadata": {
  "kernelspec": {
   "display_name": "Python 2",
   "language": "python",
   "name": "python2"
  },
  "language_info": {
   "codemirror_mode": {
    "name": "ipython",
    "version": 2
   },
   "file_extension": ".py",
   "mimetype": "text/x-python",
   "name": "python",
   "nbconvert_exporter": "python",
   "pygments_lexer": "ipython2",
   "version": "2.7.12"
  }
 },
 "nbformat": 4,
 "nbformat_minor": 2
}
