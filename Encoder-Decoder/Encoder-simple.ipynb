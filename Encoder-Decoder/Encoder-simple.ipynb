{
 "cells": [
  {
   "cell_type": "code",
   "execution_count": 1,
   "metadata": {
    "collapsed": true
   },
   "outputs": [],
   "source": [
    "%matplotlib inline\n",
    "\n",
    "import numpy as np\n",
    "import tensorflow as tf\n",
    "import matplotlib.pyplot as plt"
   ]
  },
  {
   "cell_type": "code",
   "execution_count": 2,
   "metadata": {},
   "outputs": [
    {
     "name": "stdout",
     "output_type": "stream",
     "text": [
      "Extracting /home/project/imagerecognition/train-images-idx3-ubyte.gz\n",
      "Extracting /home/project/imagerecognition/train-labels-idx1-ubyte.gz\n",
      "Extracting /home/project/imagerecognition/t10k-images-idx3-ubyte.gz\n",
      "Extracting /home/project/imagerecognition/t10k-labels-idx1-ubyte.gz\n"
     ]
    }
   ],
   "source": [
    "from tensorflow.examples.tutorials.mnist import input_data\n",
    "mnist = input_data.read_data_sets('/home/project/imagerecognition', validation_size = 0)"
   ]
  },
  {
   "cell_type": "code",
   "execution_count": 5,
   "metadata": {},
   "outputs": [
    {
     "name": "stdout",
     "output_type": "stream",
     "text": [
      "(60000, 784)\n"
     ]
    },
    {
     "data": {
      "text/plain": [
       "<matplotlib.image.AxesImage at 0x7f3e3e1c6a10>"
      ]
     },
     "execution_count": 5,
     "metadata": {},
     "output_type": "execute_result"
    },
    {
     "data": {
      "image/png": "[encoded data removed]",
      "text/plain": [
       "<matplotlib.figure.Figure at 0x7f3e3e29ee50>"
      ]
     },
     "metadata": {},
     "output_type": "display_data"
    }
   ],
   "source": [
    "img = mnist.train.images[2]\n",
    "plt.imshow(img.reshape((28, 28)), cmap = 'Greys_r')"
   ]
  },
  {
   "cell_type": "markdown",
   "metadata": {},
   "source": [
    "Calculate the loss with cross entropy"
   ]
  },
  {
   "cell_type": "code",
   "execution_count": 23,
   "metadata": {
    "collapsed": true
   },
   "outputs": [],
   "source": [
    "encoding_dim = 32\n",
    "\n",
    "image_size = mnist.train.images.shape[1]\n",
    "\n",
    "inputs = tf.placeholder(tf.float32, (None, image_size))\n",
    "\n",
    "w1 = tf.Variable(tf.random_normal([image_size, encoding_dim], stddev = 0.5))\n",
    "b1 = tf.Variable(tf.random_normal([encoding_dim], stddev = 0.1))\n",
    "encoded = tf.nn.sigmoid(tf.matmul(inputs, w1) + b1)\n",
    "\n",
    "w2 = tf.Variable(tf.random_normal([encoding_dim, image_size], stddev = 0.5))\n",
    "b2 = tf.Variable(tf.random_normal([image_size], stddev = 0.1))\n",
    "\n",
    "logits = tf.matmul(encoded, w2) + b2\n",
    "decoded = tf.nn.sigmoid(logits)\n",
    "\n",
    "loss = tf.reduce_mean(tf.nn.sigmoid_cross_entropy_with_logits(labels = inputs, logits = logits))\n",
    "opt = tf.train.RMSPropOptimizer(0.01).minimize(loss)"
   ]
  },
  {
   "cell_type": "code",
   "execution_count": 27,
   "metadata": {},
   "outputs": [
    {
     "name": "stdout",
     "output_type": "stream",
     "text": [
      "Epoch:1, loss: 0.945778383811\n",
      "Epoch:2, loss: 0.372149583201\n",
      "Epoch:3, loss: 0.203639525548\n",
      "Epoch:4, loss: 0.170378120368\n",
      "Epoch:5, loss: 0.158340733623\n",
      "Epoch:6, loss: 0.151549508671\n",
      "Epoch:7, loss: 0.147009582569\n",
      "Epoch:8, loss: 0.143221683179\n",
      "Epoch:9, loss: 0.140130865698\n",
      "Epoch:10, loss: 0.137612958873\n",
      "Epoch:11, loss: 0.134874273837\n",
      "Epoch:12, loss: 0.132911133394\n",
      "Epoch:13, loss: 0.131312587423\n",
      "Epoch:14, loss: 0.130302533507\n",
      "Epoch:15, loss: 0.128957149324\n",
      "Epoch:16, loss: 0.127922902256\n",
      "Epoch:17, loss: 0.126893529482\n",
      "Epoch:18, loss: 0.125848512414\n",
      "Epoch:19, loss: 0.1245325805\n",
      "Epoch:20, loss: 0.123408065302\n",
      "Epoch:21, loss: 0.122691618527\n",
      "Epoch:22, loss: 0.122246432801\n",
      "Epoch:23, loss: 0.121603340283\n",
      "Epoch:24, loss: 0.121025699005\n",
      "Epoch:25, loss: 0.120578318338\n",
      "Epoch:26, loss: 0.120037087798\n",
      "Epoch:27, loss: 0.119735989782\n",
      "Epoch:28, loss: 0.119331464668\n",
      "Epoch:29, loss: 0.118963924671\n",
      "Epoch:30, loss: 0.118624932008\n"
     ]
    }
   ],
   "source": [
    "sess = tf.InteractiveSession()\n",
    "sess.run(tf.global_variables_initializer())\n",
    "\n",
    "EPOCH = 30\n",
    "BATCH_SIZE = 500\n",
    "for i in xrange(EPOCH):\n",
    "    TOTAL_LOST = 0\n",
    "    for k in xrange(mnist.train.num_examples // BATCH_SIZE):\n",
    "        batch = mnist.train.next_batch(BATCH_SIZE)\n",
    "        batch_cost, _ = sess.run([loss, opt], feed_dict = {inputs: batch[0]})\n",
    "        TOTAL_LOST += batch_cost\n",
    "    \n",
    "    print 'Epoch:' + str(i + 1) + ', loss: ' + str(TOTAL_LOST / (mnist.train.num_examples // BATCH_SIZE) * 1.0)"
   ]
  },
  {
   "cell_type": "code",
   "execution_count": 25,
   "metadata": {},
   "outputs": [
    {
     "data": {
      "image/png": "[encoded data removed]",
      "text/plain": [
       "<matplotlib.figure.Figure at 0x7f3de979b590>"
      ]
     },
     "metadata": {},
     "output_type": "display_data"
    }
   ],
   "source": [
    "fig, axes = plt.subplots(nrows =2, ncols =10, sharex = True, sharey = True, figsize = (20,4))\n",
    "in_imgs = mnist.test.images[:10]\n",
    "reconstructed = sess.run(decoded, feed_dict = {inputs: in_imgs})\n",
    "\n",
    "for images, row in zip([in_imgs, reconstructed], axes):\n",
    "    for img, ax in zip(images, row):\n",
    "        ax.imshow(img.reshape((28, 28)), cmap = 'Greys_r')\n",
    "        ax.get_xaxis().set_visible(False)\n",
    "        ax.get_yaxis().set_visible(False)\n",
    "\n",
    "\n",
    "fig.tight_layout(pad = 0.1)"
   ]
  },
  {
   "cell_type": "code",
   "execution_count": null,
   "metadata": {
    "collapsed": true
   },
   "outputs": [],
   "source": []
  }
 ],
 "metadata": {
  "kernelspec": {
   "display_name": "Python 2",
   "language": "python",
   "name": "python2"
  },
  "language_info": {
   "codemirror_mode": {
    "name": "ipython",
    "version": 2
   },
   "file_extension": ".py",
   "mimetype": "text/x-python",
   "name": "python",
   "nbconvert_exporter": "python",
   "pygments_lexer": "ipython2",
   "version": "2.7.12"
  }
 },
 "nbformat": 4,
 "nbformat_minor": 2
}
